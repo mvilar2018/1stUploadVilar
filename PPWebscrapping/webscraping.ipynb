{
 "cells": [
  {
   "cell_type": "code",
   "execution_count": 4,
   "metadata": {
    "cell_id": "00021-098a2b1f-99c2-432f-ac7b-84633a6c2bf5",
    "deepnote_cell_type": "code",
    "execution_millis": 239,
    "execution_start": 1607523794829,
    "output_cleared": false,
    "source_hash": "ab5195cc",
    "tags": []
   },
   "outputs": [],
   "source": [
    "import pandas as pd\n",
    "import requests\n",
    "from bs4 import BeautifulSoup\n",
    "\n",
    "page =requests.get(\"https://weather.com/weather/tenday/l/San+Francisco+CA?canonicalCityId=dfdaba8cbe3a4d12a8796e1f7b1ccc7174b4b0a2d5ddb1c8566ae9f154fa638c\")\n",
    "# Print the status code of the response.\n",
    "\n",
    "soup =BeautifulSoup(page.content, 'html.parser')"
   ]
  },
  {
   "cell_type": "code",
   "execution_count": 5,
   "metadata": {
    "cell_id": "00022-6c56a532-b52f-4c92-bd11-d0467a38fc41",
    "deepnote_cell_type": "code",
    "execution_millis": 180,
    "execution_start": 1607523797747,
    "output_cleared": false,
    "source_hash": "381b83d2",
    "tags": []
   },
   "outputs": [],
   "source": [
    "days_and_dates = soup.select('.DetailsSummary--daypartName--1Mebr')\n",
    "low_temps = soup.select('.DetailsSummary--lowTempValue--1DlJK')\n",
    "high_temps = soup.select('.DetailsSummary--highTempValue--3x6cL')\n",
    "description = soup.select('.DailyContent--narrative--3AcXd')"
   ]
  },
  {
   "cell_type": "code",
   "execution_count": 6,
   "metadata": {
    "cell_id": "00023-e79dffdc-24a5-45fb-901b-cb0fb7865fe0",
    "deepnote_cell_type": "code",
    "execution_millis": 4,
    "execution_start": 1607523798801,
    "output_cleared": false,
    "source_hash": "5c83a718",
    "tags": []
   },
   "outputs": [],
   "source": [
    "def get_content(items):\n",
    "    item_list = []\n",
    "    for item in items:\n",
    "        item_list.append(item.getText())\n",
    "    return item_list"
   ]
  },
  {
   "cell_type": "code",
   "execution_count": 7,
   "metadata": {
    "cell_id": "00023-d2e1c5ad-1261-4e6e-af2b-83062b08d755",
    "deepnote_cell_type": "code",
    "execution_millis": 1,
    "execution_start": 1607523800230,
    "output_cleared": false,
    "source_hash": "ce531f12",
    "tags": []
   },
   "outputs": [],
   "source": [
    "low_temps_list = get_content(low_temps)\n",
    "\n",
    "high_temps_list = get_content(high_temps)\n",
    "\n",
    "description_list = get_content(description)\n",
    "\n",
    "days_and_dates_list = get_content(days_and_dates)\n"
   ]
  },
  {
   "cell_type": "code",
   "execution_count": 14,
   "metadata": {
    "cell_id": "00025-993d599f-b2dc-42d5-b95f-00edf9228937",
    "deepnote_cell_type": "code",
    "execution_millis": 3,
    "execution_start": 1607524143319,
    "output_cleared": false,
    "source_hash": "5a0d0328",
    "tags": []
   },
   "outputs": [],
   "source": [
    "def convert_temp(low_temps_list):\n",
    "    c_list = []\n",
    "    for item in low_temps_list:\n",
    "        c_temp = round(((int(item[:-1])) -32 ) * 5/9)\n",
    "        c_list.append(c_temp)\n",
    "    return c_list\n",
    "\n",
    "low_celcius = convert_temp(low_temps_list)\n",
    "high_celcius = convert_temp(high_temps_list)"
   ]
  },
  {
   "cell_type": "code",
   "execution_count": 12,
   "metadata": {
    "cell_id": "00025-8f5c209e-3301-4eb5-9b8e-759e748fd69a",
    "deepnote_cell_type": "code",
    "execution_millis": 1,
    "execution_start": 1607523928402,
    "output_cleared": false,
    "source_hash": "4ff8171d",
    "tags": []
   },
   "outputs": [],
   "source": [
    "from datetime import date\n",
    "str(date.today())[-2:]\n",
    "\n",
    "\n",
    "\n",
    "days = []\n",
    "dates = []\n",
    "for item in days_and_dates_list:\n",
    "    if item == 'Today':\n",
    "        days.append((days_and_dates_list[0].split() + list(str(date.today())[-1:]))[1])\n",
    "        dates.append((days_and_dates_list[0].split() + list(str(date.today())[-1:]))[0])\n",
    "        #print((days_and_dates_list[0].split() + list(str(date.today())[-1:]))[1])\n",
    "    else:\n",
    "        days.append(item.split()[1])\n",
    "        dates.append(item.split()[0])\n",
    "        #print(item.split()[1])"
   ]
  },
  {
   "cell_type": "code",
   "execution_count": 16,
   "metadata": {
    "cell_id": "00026-c0c193c2-fa81-4c56-88f9-70572b195016",
    "deepnote_cell_type": "code",
    "execution_millis": 10,
    "execution_start": 1607524199915,
    "output_cleared": false,
    "source_hash": "42eed09a",
    "tags": []
   },
   "outputs": [
    {
     "data": {
      "text/plain": [
       "[17, 13, 13, 13, 14, 14, 13, 14, 14, 14, 15, 16, 15, 16, 16]"
      ]
     },
     "execution_count": 16,
     "metadata": {},
     "output_type": "execute_result"
    }
   ],
   "source": [
    "description_list\n",
    "days\n",
    "dates\n",
    "low_celcius\n",
    "high_celcius"
   ]
  },
  {
   "cell_type": "code",
   "execution_count": 29,
   "metadata": {
    "cell_id": "00029-470ed15b-7b0c-4ac3-979f-f845416538d5",
    "deepnote_cell_type": "code",
    "execution_millis": 39,
    "execution_start": 1607525198687,
    "output_cleared": false,
    "source_hash": "207d1327",
    "tags": []
   },
   "outputs": [
    {
     "data": {
      "application/vnd.deepnote.dataframe.v2+json": {
       "column_count": 5,
       "columns": [
        {
         "dtype": "object",
         "name": "date",
         "stats": {
          "categories": [
           {
            "count": 2,
            "name": "Thu"
           },
           {
            "count": 2,
            "name": "Fri"
           },
           {
            "count": 12,
            "name": "7 others"
           }
          ],
          "nan_count": 0,
          "unique_count": 9
         }
        },
        {
         "dtype": "object",
         "name": "days",
         "stats": {
          "categories": [
           {
            "count": 1,
            "name": "9"
           },
           {
            "count": 1,
            "name": "10"
           },
           {
            "count": 14,
            "name": "14 others"
           }
          ],
          "nan_count": 0,
          "unique_count": 16
         }
        },
        {
         "dtype": "object",
         "name": "low_celcius",
         "stats": {
          "categories": [
           {
            "count": 9,
            "name": "7"
           },
           {
            "count": 3,
            "name": "6"
           },
           {
            "count": 4,
            "name": "3 others"
           }
          ],
          "nan_count": 0,
          "unique_count": 5
         }
        },
        {
         "dtype": "object",
         "name": "high_celcius",
         "stats": {
          "categories": [
           {
            "count": 5,
            "name": "14"
           },
           {
            "count": 4,
            "name": "13"
           },
           {
            "count": 7,
            "name": "4 others"
           }
          ],
          "nan_count": 0,
          "unique_count": 6
         }
        },
        {
         "dtype": "object",
         "name": "description",
         "stats": {
          "categories": [
           {
            "count": 1,
            "name": "Partly cloudy. High 63F. Winds N at 10 to 15 mph."
           },
           {
            "count": 1,
            "name": "Partly to mostly cloudy. Low 44F. Winds light and variable."
           },
           {
            "count": 14,
            "name": "14 others"
           }
          ],
          "nan_count": 0,
          "unique_count": 16
         }
        },
        {
         "dtype": "int64",
         "name": "_deepnote_index_column"
        }
       ],
       "row_count": 16,
       "rows_bottom": null,
       "rows_top": [
        {
         "_deepnote_index_column": 0,
         "date": "Today",
         "days": "9",
         "description": "Partly cloudy. High 63F. Winds N at 10 to 15 mph.",
         "high_celcius": 17,
         "low_celcius": 7
        },
        {
         "_deepnote_index_column": 1,
         "date": "Thu",
         "days": "10",
         "description": "Partly to mostly cloudy. Low 44F. Winds light and variable.",
         "high_celcius": 13,
         "low_celcius": 7
        },
        {
         "_deepnote_index_column": 2,
         "date": "Fri",
         "days": "11",
         "description": "A few passing clouds, otherwise generally sunny. High 56F. Winds W at 15 to 25 mph.",
         "high_celcius": 13,
         "low_celcius": 7
        },
        {
         "_deepnote_index_column": 3,
         "date": "Sat",
         "days": "12",
         "description": "Mostly clear during the evening followed by mostly cloudy skies overnight. Low 44F. Winds NW at 15 to 25 mph.",
         "high_celcius": 13,
         "low_celcius": 8
        },
        {
         "_deepnote_index_column": 4,
         "date": "Sun",
         "days": "13",
         "description": "Partly to mostly cloudy. High near 55F. Winds NW at 10 to 15 mph.",
         "high_celcius": 14,
         "low_celcius": 8
        },
        {
         "_deepnote_index_column": 5,
         "date": "Mon",
         "days": "14",
         "description": "Mostly cloudy in the evening then periods of showers after midnight. Low around 45F. Winds SW at 5 to 10 mph. Chance of rain 60%.",
         "high_celcius": 14,
         "low_celcius": 7
        },
        {
         "_deepnote_index_column": 6,
         "date": "Tue",
         "days": "15",
         "description": "Overcast with rain showers at times. High 56F. S winds shifting to N at 10 to 15 mph. Chance of rain 60%.",
         "high_celcius": 13,
         "low_celcius": 7
        },
        {
         "_deepnote_index_column": 7,
         "date": "Wed",
         "days": "16",
         "description": "Cloudy skies early with showers later at night. Low 46F. Winds ESE at 5 to 10 mph. Chance of rain 60%.",
         "high_celcius": 14,
         "low_celcius": 7
        },
        {
         "_deepnote_index_column": 8,
         "date": "Thu",
         "days": "17",
         "description": "Rain early...then remaining cloudy with showers in the afternoon. High 57F. Winds SSW at 10 to 20 mph. Chance of rain 70%. Rainfall around a quarter of an inch.",
         "high_celcius": 14,
         "low_celcius": 7
        },
        {
         "_deepnote_index_column": 9,
         "date": "Fri",
         "days": "18",
         "description": "Considerable cloudiness with occasional rain showers. Low 47F. Winds W at 5 to 10 mph. Chance of rain 40%.",
         "high_celcius": 14,
         "low_celcius": 7
        },
        {
         "_deepnote_index_column": 10,
         "date": "Sat",
         "days": "19",
         "description": "Intervals of clouds and sunshine. High 57F. Winds NW at 10 to 20 mph.",
         "high_celcius": 15,
         "low_celcius": 7
        },
        {
         "_deepnote_index_column": 11,
         "date": "Sun",
         "days": "20",
         "description": "Mostly clear during the evening followed by mostly cloudy skies overnight. Low 44F. Winds WNW at 5 to 10 mph.",
         "high_celcius": 16,
         "low_celcius": 6
        },
        {
         "_deepnote_index_column": 12,
         "date": "Mon",
         "days": "21",
         "description": "Sunshine and clouds mixed. High 56F. Winds W at 5 to 10 mph.",
         "high_celcius": 15,
         "low_celcius": 6
        },
        {
         "_deepnote_index_column": 13,
         "date": "Tue",
         "days": "22",
         "description": "Partly cloudy skies early followed by increasing clouds with showers developing later at night. Low 44F. Winds W at 5 to 10 mph. Chance of rain 40%.",
         "high_celcius": 16,
         "low_celcius": 5
        },
        {
         "_deepnote_index_column": 14,
         "date": "Wed",
         "days": "23",
         "description": "Increasing clouds with showers arriving sometime in the afternoon. High 57F. Winds W at 5 to 10 mph. Chance of rain 40%.",
         "high_celcius": 16,
         "low_celcius": 6
        },
        {
         "_deepnote_index_column": 15,
         "date": "DetailsSummary--daypartName--1Mebr",
         "days": "DetailsSummary--daypartName--1Mebr",
         "description": "DailyContent--narrative--3AcXd",
         "high_celcius": "DetailsSummary--highTempValue--3x6cL",
         "low_celcius": "DetailsSummary--lowTempValue--1DlJK"
        }
       ]
      },
      "text/html": [
       "<div>\n",
       "<style scoped>\n",
       "    .dataframe tbody tr th:only-of-type {\n",
       "        vertical-align: middle;\n",
       "    }\n",
       "\n",
       "    .dataframe tbody tr th {\n",
       "        vertical-align: top;\n",
       "    }\n",
       "\n",
       "    .dataframe thead th {\n",
       "        text-align: right;\n",
       "    }\n",
       "</style>\n",
       "<table border=\"1\" class=\"dataframe\">\n",
       "  <thead>\n",
       "    <tr style=\"text-align: right;\">\n",
       "      <th></th>\n",
       "      <th>date</th>\n",
       "      <th>days</th>\n",
       "      <th>low_celcius</th>\n",
       "      <th>high_celcius</th>\n",
       "      <th>description</th>\n",
       "    </tr>\n",
       "  </thead>\n",
       "  <tbody>\n",
       "    <tr>\n",
       "      <th>0</th>\n",
       "      <td>Today</td>\n",
       "      <td>9</td>\n",
       "      <td>7</td>\n",
       "      <td>17</td>\n",
       "      <td>Partly cloudy. High 63F. Winds N at 10 to 15 mph.</td>\n",
       "    </tr>\n",
       "    <tr>\n",
       "      <th>1</th>\n",
       "      <td>Thu</td>\n",
       "      <td>10</td>\n",
       "      <td>7</td>\n",
       "      <td>13</td>\n",
       "      <td>Partly to mostly cloudy. Low 44F. Winds light ...</td>\n",
       "    </tr>\n",
       "    <tr>\n",
       "      <th>2</th>\n",
       "      <td>Fri</td>\n",
       "      <td>11</td>\n",
       "      <td>7</td>\n",
       "      <td>13</td>\n",
       "      <td>A few passing clouds, otherwise generally sunn...</td>\n",
       "    </tr>\n",
       "    <tr>\n",
       "      <th>3</th>\n",
       "      <td>Sat</td>\n",
       "      <td>12</td>\n",
       "      <td>8</td>\n",
       "      <td>13</td>\n",
       "      <td>Mostly clear during the evening followed by mo...</td>\n",
       "    </tr>\n",
       "    <tr>\n",
       "      <th>4</th>\n",
       "      <td>Sun</td>\n",
       "      <td>13</td>\n",
       "      <td>8</td>\n",
       "      <td>14</td>\n",
       "      <td>Partly to mostly cloudy. High near 55F. Winds ...</td>\n",
       "    </tr>\n",
       "    <tr>\n",
       "      <th>5</th>\n",
       "      <td>Mon</td>\n",
       "      <td>14</td>\n",
       "      <td>7</td>\n",
       "      <td>14</td>\n",
       "      <td>Mostly cloudy in the evening then periods of s...</td>\n",
       "    </tr>\n",
       "    <tr>\n",
       "      <th>6</th>\n",
       "      <td>Tue</td>\n",
       "      <td>15</td>\n",
       "      <td>7</td>\n",
       "      <td>13</td>\n",
       "      <td>Overcast with rain showers at times. High 56F....</td>\n",
       "    </tr>\n",
       "    <tr>\n",
       "      <th>7</th>\n",
       "      <td>Wed</td>\n",
       "      <td>16</td>\n",
       "      <td>7</td>\n",
       "      <td>14</td>\n",
       "      <td>Cloudy skies early with showers later at night...</td>\n",
       "    </tr>\n",
       "    <tr>\n",
       "      <th>8</th>\n",
       "      <td>Thu</td>\n",
       "      <td>17</td>\n",
       "      <td>7</td>\n",
       "      <td>14</td>\n",
       "      <td>Rain early...then remaining cloudy with shower...</td>\n",
       "    </tr>\n",
       "    <tr>\n",
       "      <th>9</th>\n",
       "      <td>Fri</td>\n",
       "      <td>18</td>\n",
       "      <td>7</td>\n",
       "      <td>14</td>\n",
       "      <td>Considerable cloudiness with occasional rain s...</td>\n",
       "    </tr>\n",
       "    <tr>\n",
       "      <th>10</th>\n",
       "      <td>Sat</td>\n",
       "      <td>19</td>\n",
       "      <td>7</td>\n",
       "      <td>15</td>\n",
       "      <td>Intervals of clouds and sunshine. High 57F. Wi...</td>\n",
       "    </tr>\n",
       "    <tr>\n",
       "      <th>11</th>\n",
       "      <td>Sun</td>\n",
       "      <td>20</td>\n",
       "      <td>6</td>\n",
       "      <td>16</td>\n",
       "      <td>Mostly clear during the evening followed by mo...</td>\n",
       "    </tr>\n",
       "    <tr>\n",
       "      <th>12</th>\n",
       "      <td>Mon</td>\n",
       "      <td>21</td>\n",
       "      <td>6</td>\n",
       "      <td>15</td>\n",
       "      <td>Sunshine and clouds mixed. High 56F. Winds W a...</td>\n",
       "    </tr>\n",
       "    <tr>\n",
       "      <th>13</th>\n",
       "      <td>Tue</td>\n",
       "      <td>22</td>\n",
       "      <td>5</td>\n",
       "      <td>16</td>\n",
       "      <td>Partly cloudy skies early followed by increasi...</td>\n",
       "    </tr>\n",
       "    <tr>\n",
       "      <th>14</th>\n",
       "      <td>Wed</td>\n",
       "      <td>23</td>\n",
       "      <td>6</td>\n",
       "      <td>16</td>\n",
       "      <td>Increasing clouds with showers arriving someti...</td>\n",
       "    </tr>\n",
       "    <tr>\n",
       "      <th>15</th>\n",
       "      <td>DetailsSummary--daypartName--1Mebr</td>\n",
       "      <td>DetailsSummary--daypartName--1Mebr</td>\n",
       "      <td>DetailsSummary--lowTempValue--1DlJK</td>\n",
       "      <td>DetailsSummary--highTempValue--3x6cL</td>\n",
       "      <td>DailyContent--narrative--3AcXd</td>\n",
       "    </tr>\n",
       "  </tbody>\n",
       "</table>\n",
       "</div>"
      ],
      "text/plain": [
       "                                  date                                days  \\\n",
       "0                                Today                                   9   \n",
       "1                                  Thu                                  10   \n",
       "2                                  Fri                                  11   \n",
       "3                                  Sat                                  12   \n",
       "4                                  Sun                                  13   \n",
       "5                                  Mon                                  14   \n",
       "6                                  Tue                                  15   \n",
       "7                                  Wed                                  16   \n",
       "8                                  Thu                                  17   \n",
       "9                                  Fri                                  18   \n",
       "10                                 Sat                                  19   \n",
       "11                                 Sun                                  20   \n",
       "12                                 Mon                                  21   \n",
       "13                                 Tue                                  22   \n",
       "14                                 Wed                                  23   \n",
       "15  DetailsSummary--daypartName--1Mebr  DetailsSummary--daypartName--1Mebr   \n",
       "\n",
       "                            low_celcius                          high_celcius  \\\n",
       "0                                     7                                    17   \n",
       "1                                     7                                    13   \n",
       "2                                     7                                    13   \n",
       "3                                     8                                    13   \n",
       "4                                     8                                    14   \n",
       "5                                     7                                    14   \n",
       "6                                     7                                    13   \n",
       "7                                     7                                    14   \n",
       "8                                     7                                    14   \n",
       "9                                     7                                    14   \n",
       "10                                    7                                    15   \n",
       "11                                    6                                    16   \n",
       "12                                    6                                    15   \n",
       "13                                    5                                    16   \n",
       "14                                    6                                    16   \n",
       "15  DetailsSummary--lowTempValue--1DlJK  DetailsSummary--highTempValue--3x6cL   \n",
       "\n",
       "                                          description  \n",
       "0   Partly cloudy. High 63F. Winds N at 10 to 15 mph.  \n",
       "1   Partly to mostly cloudy. Low 44F. Winds light ...  \n",
       "2   A few passing clouds, otherwise generally sunn...  \n",
       "3   Mostly clear during the evening followed by mo...  \n",
       "4   Partly to mostly cloudy. High near 55F. Winds ...  \n",
       "5   Mostly cloudy in the evening then periods of s...  \n",
       "6   Overcast with rain showers at times. High 56F....  \n",
       "7   Cloudy skies early with showers later at night...  \n",
       "8   Rain early...then remaining cloudy with shower...  \n",
       "9   Considerable cloudiness with occasional rain s...  \n",
       "10  Intervals of clouds and sunshine. High 57F. Wi...  \n",
       "11  Mostly clear during the evening followed by mo...  \n",
       "12  Sunshine and clouds mixed. High 56F. Winds W a...  \n",
       "13  Partly cloudy skies early followed by increasi...  \n",
       "14  Increasing clouds with showers arriving someti...  \n",
       "15                     DailyContent--narrative--3AcXd  "
      ]
     },
     "execution_count": 29,
     "metadata": {},
     "output_type": "execute_result"
    }
   ],
   "source": [
    "df = pd.DataFrame(list(zip(dates, days, low_celcius, high_celcius, description_list)), columns=['date', 'days', 'low_celcius', 'high_celcius', 'description'])\n",
    "\n",
    "\n",
    "df.append({'date': 'DetailsSummary--daypartName--1Mebr', 'days': 'DetailsSummary--daypartName--1Mebr', 'low_celcius': 'DetailsSummary--lowTempValue--1DlJK', 'high_celcius': 'DetailsSummary--highTempValue--3x6cL', 'description': 'DailyContent--narrative--3AcXd'}, ignore_index=True)\n"
   ]
  }
 ],
 "metadata": {
  "deepnote_execution_queue": [],
  "deepnote_notebook_id": "051e5d44-8313-4bad-b1ed-93e8a19ec7dc",
  "kernelspec": {
   "display_name": "Python 3",
   "language": "python",
   "name": "python3"
  },
  "language_info": {
   "codemirror_mode": {
    "name": "ipython",
    "version": 3
   },
   "file_extension": ".py",
   "mimetype": "text/x-python",
   "name": "python",
   "nbconvert_exporter": "python",
   "pygments_lexer": "ipython3",
   "version": "3.8.5"
  }
 },
 "nbformat": 4,
 "nbformat_minor": 2
}

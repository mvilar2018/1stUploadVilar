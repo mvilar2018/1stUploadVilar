{
 "cells": [
  {
   "cell_type": "code",
   "execution_count": 1,
   "metadata": {},
   "outputs": [],
   "source": [
    "#Exercise 1\n",
    "import numpy as np"
   ]
  },
  {
   "cell_type": "code",
   "execution_count": 4,
   "metadata": {},
   "outputs": [
    {
     "name": "stdout",
     "output_type": "stream",
     "text": [
      "1.19.2\n",
      "blas_mkl_info:\n",
      "    libraries = ['mkl_rt']\n",
      "    library_dirs = ['C:/Users/User/anaconda3/envs/Test_env\\\\Library\\\\lib']\n",
      "    define_macros = [('SCIPY_MKL_H', None), ('HAVE_CBLAS', None)]\n",
      "    include_dirs = ['C:/Users/User/anaconda3/envs/Test_env\\\\Library\\\\include']\n",
      "blas_opt_info:\n",
      "    libraries = ['mkl_rt']\n",
      "    library_dirs = ['C:/Users/User/anaconda3/envs/Test_env\\\\Library\\\\lib']\n",
      "    define_macros = [('SCIPY_MKL_H', None), ('HAVE_CBLAS', None)]\n",
      "    include_dirs = ['C:/Users/User/anaconda3/envs/Test_env\\\\Library\\\\include']\n",
      "lapack_mkl_info:\n",
      "    libraries = ['mkl_rt']\n",
      "    library_dirs = ['C:/Users/User/anaconda3/envs/Test_env\\\\Library\\\\lib']\n",
      "    define_macros = [('SCIPY_MKL_H', None), ('HAVE_CBLAS', None)]\n",
      "    include_dirs = ['C:/Users/User/anaconda3/envs/Test_env\\\\Library\\\\include']\n",
      "lapack_opt_info:\n",
      "    libraries = ['mkl_rt']\n",
      "    library_dirs = ['C:/Users/User/anaconda3/envs/Test_env\\\\Library\\\\lib']\n",
      "    define_macros = [('SCIPY_MKL_H', None), ('HAVE_CBLAS', None)]\n",
      "    include_dirs = ['C:/Users/User/anaconda3/envs/Test_env\\\\Library\\\\include']\n",
      "None\n"
     ]
    }
   ],
   "source": [
    "#Exercise 2\n",
    "(np.__version__)\n",
    "print(np.show_config())"
   ]
  },
  {
   "cell_type": "code",
   "execution_count": 5,
   "metadata": {},
   "outputs": [
    {
     "name": "stdout",
     "output_type": "stream",
     "text": [
      "[0. 0. 0. 0. 0. 0. 0. 0. 0. 0.]\n"
     ]
    }
   ],
   "source": [
    "#Exercise 3\n",
    "print(np.zeros(10))"
   ]
  },
  {
   "cell_type": "code",
   "execution_count": 22,
   "metadata": {},
   "outputs": [
    {
     "name": "stdout",
     "output_type": "stream",
     "text": [
      "12 bytes\n"
     ]
    }
   ],
   "source": [
    "#Exercise 4\n",
    "data = np.array([1, 2, 3])\n",
    "print(\"%d bytes\" % (data.size * data.itemsize))"
   ]
  },
  {
   "cell_type": "code",
   "execution_count": 26,
   "metadata": {},
   "outputs": [
    {
     "name": "stdout",
     "output_type": "stream",
     "text": [
      "Search results for 'add'\n",
      "------------------------\n",
      "numpy.add\n",
      "    Add arguments element-wise.\n",
      "numpy.logaddexp\n",
      "    Logarithm of the sum of exponentiations of the inputs.\n",
      "numpy.add_newdoc\n",
      "    Add documentation to an existing object, typically one defined in C\n",
      "numpy.logaddexp2\n",
      "    Logarithm of the sum of exponentiations of the inputs in base-2.\n",
      "numpy.ma.add\n",
      "    Add arguments element-wise.\n",
      "numpy.add_docstring\n",
      "    Add a docstring to a built-in obj if possible.\n",
      "numpy.quantile\n",
      "    Compute the q-th quantile of the data along the specified axis.\n",
      "numpy.deprecate\n",
      "    Issues a DeprecationWarning, adds warning to `old_name`'s\n",
      "numpy._add_newdoc_ufunc\n",
      "    Replace the docstring for a ufunc with new_docstring.\n",
      "numpy.binary_repr\n",
      "    Return the binary representation of the input number as a string.\n",
      "numpy.ma.ids\n",
      "    ids(self)\n",
      "numpy.fft.test\n",
      "    Pytest test runner.\n",
      "numpy.ma.append\n",
      "    Append values to the end of an array.\n",
      "numpy.bytes0.ljust\n",
      "    Return a left-justified string of length width.\n",
      "numpy.bytes0.rjust\n",
      "    Return a right-justified string of length width.\n",
      "numpy.bytes0.center\n",
      "    Return a centered string of length width.\n",
      "numpy.linalg.test\n",
      "    Pytest test runner.\n",
      "numpy.str0.ljust\n",
      "    Return a left-justified string of length width.\n",
      "numpy.str0.rjust\n",
      "    Return a right-justified string of length width.\n",
      "numpy.str0.center\n",
      "    Return a centered string of length width.\n",
      "numpy.distutils.test\n",
      "    Pytest test runner.\n",
      "numpy.polynomial.test\n",
      "    Pytest test runner.\n",
      "numpy.format_float_positional\n",
      "    Format a floating-point scalar as a decimal string in positional notation.\n",
      "numpy.format_float_scientific\n",
      "    Format a floating-point scalar as a decimal string in scientific notation.\n",
      "numpy.compat.npy_load_module\n",
      "    Load a module.\n",
      "numpy.ma.mrecords.addfield\n",
      "    Adds a new field to the masked record array\n",
      "numpy.ma.MaskedArray.__add__\n",
      "    Add self to other, and return a new masked array.\n",
      "numpy._pytesttester.PytestTester\n",
      "    Pytest test runner.\n",
      "numpy.ma.MaskedArray.__iadd__\n",
      "    Add other to self in-place.\n",
      "numpy.ma.MaskedArray.__radd__\n",
      "    Add other to self, and return a new masked array.\n",
      "numpy.polynomial.Hermite._add\n",
      "    Add one Hermite series to another.\n",
      "numpy.ma.MaskedArray.ids\n",
      "    Return the addresses of the data and mask areas.\n",
      "numpy.polynomial.HermiteE._add\n",
      "    Add one Hermite series to another.\n",
      "numpy.polynomial.Laguerre._add\n",
      "    Add one Laguerre series to another.\n",
      "numpy.polynomial.Legendre._add\n",
      "    Add one Legendre series to another.\n",
      "numpy.core._dtype._is_packed\n",
      "    Checks whether the structured data type in 'dtype'\n",
      "numpy.polynomial.Chebyshev._add\n",
      "    Add one Chebyshev series to another.\n",
      "numpy.compat.contextlib_nullcontext\n",
      "    Context manager that does no additional processing.\n",
      "numpy.polynomial.Polynomial._add\n",
      "    Add one polynomial to another.\n",
      "numpy.core._internal._copy_fields\n",
      "    Return copy of structured array with padding between fields removed.\n",
      "numpy.core._internal._add_trailing_padding\n",
      "    Inject the specified number of padding bytes at the end of a dtype\n",
      "numpy.polynomial.Chebyshev.degree\n",
      "    The degree of the series.\n",
      "numpy.polyadd\n",
      "    Find the sum of two polynomials.\n",
      "numpy.distutils.system_info.add_system_root\n",
      "    Add a package manager root to the include directories\n",
      "numpy.fv\n",
      "    Compute the future value.\n",
      "numpy.lib.recfunctions.append_fields\n",
      "    Add new fields to an existing array.\n",
      "numpy.all\n",
      "    Test whether all array elements along a given axis evaluate to True.\n",
      "numpy.any\n",
      "    Test whether any array element along a given axis evaluates to True.\n",
      "numpy.cov\n",
      "    Estimate a covariance matrix, given data and weights.\n",
      "numpy.eye\n",
      "    Return a 2-D array with ones on the diagonal and zeros elsewhere.\n",
      "numpy.irr\n",
      "    Return the Internal Rate of Return (IRR).\n",
      "numpy.npv\n",
      "    Returns the NPV (Net Present Value) of a cash flow series.\n",
      "numpy.pad\n",
      "    Pad an array.\n",
      "numpy.ptp\n",
      "    Range of values (maximum - minimum) along an axis.\n",
      "numpy.put\n",
      "    Replaces specified elements of an array with given values.\n",
      "numpy.std\n",
      "    Compute the standard deviation along the specified axis.\n",
      "numpy.sum\n",
      "    Sum of array elements over a given axis.\n",
      "numpy.var\n",
      "    Compute the variance along the specified axis.\n",
      "numpy.amax\n",
      "    Return the maximum of an array or maximum along an axis.\n",
      "numpy.amin\n",
      "    Return the minimum of an array or minimum along an axis.\n",
      "numpy.cbrt\n",
      "    Return the cube-root of an array, element-wise.\n",
      "numpy.clip\n",
      "    Clip (limit) the values in an array.\n",
      "numpy.copy\n",
      "    Return an array copy of the given object.\n",
      "numpy.diff\n",
      "    Calculate the n-th discrete difference along the given axis.\n",
      "numpy.exp2\n",
      "    Calculate `2**p` for all `p` in the input array.\n",
      "numpy.flip\n",
      "    Reverse the order of elements in an array along the given axis.\n",
      "numpy.fmax\n",
      "    Element-wise maximum of array elements.\n",
      "numpy.fmin\n",
      "    Element-wise minimum of array elements.\n",
      "numpy.in1d\n",
      "    Test whether each element of a 1-D array is also present in a second array.\n",
      "numpy.isin\n",
      "    Calculates `element in test_elements`, broadcasting over `element` only.\n",
      "numpy.log2\n",
      "    Base-2 logarithm of `x`.\n",
      "numpy.mean\n",
      "    Compute the arithmetic mean along the specified axis.\n",
      "numpy.prod\n",
      "    Return the product of array elements over a given axis.\n",
      "numpy.roll\n",
      "    Roll array elements along a given axis.\n",
      "numpy.sort\n",
      "    Return a sorted copy of an array.\n",
      "numpy.take\n",
      "    Take elements from an array along an axis.\n",
      "numpy.block\n",
      "    Assemble an nd-array from nested lists of blocks.\n",
      "numpy.cross\n",
      "    Return the cross product of two (arrays of) vectors.\n",
      "numpy.dtype\n",
      "    Create a data type object.\n",
      "numpy.inner\n",
      "    Inner product of two arrays.\n",
      "numpy.isnat\n",
      "    Test element-wise for NaT (not a time) and return result as a boolean array.\n",
      "numpy.outer\n",
      "    Compute the outer product of two vectors.\n",
      "numpy.rot90\n",
      "    Rotate an array by 90 degrees in the plane specified by axes.\n",
      "numpy.char.add\n",
      "    Return element-wise string concatenation for two arrays of str or unicode.\n",
      "numpy.stack\n",
      "    Join a sequence of arrays along a new axis.\n",
      "numpy.trunc\n",
      "    Return the truncated value of the input, element-wise.\n",
      "numpy.MachAr\n",
      "    Diagnosing machine parameters.\n",
      "numpy.copyto\n",
      "    Copies values from one array to another, broadcasting as necessary.\n",
      "numpy.divmod\n",
      "    Return element-wise quotient and remainder simultaneously.\n",
      "numpy.einsum\n",
      "    einsum(subscripts, *operands, out=None, dtype=None, order='K',\n",
      "numpy.polynomial.Chebyshev.has_samecoef\n",
      "    Check if coefficients match.\n",
      "numpy.polynomial.Chebyshev.has_sametype\n",
      "    Check if types match.\n",
      "numpy.testing.suppress_warnings.filter\n",
      "    Add a new suppressing filter or apply it if the state is entered.\n",
      "numpy.insert\n",
      "    Insert values along the given axis before the given indices.\n",
      "numpy.interp\n",
      "    One-dimensional linear interpolation.\n",
      "numpy.lib.recfunctions.rec_append_fields\n",
      "    Add new fields to an existing array.\n",
      "numpy.matmul\n",
      "    Matrix product of two arrays.\n",
      "numpy.median\n",
      "    Compute the median along the specified axis.\n",
      "numpy.memmap\n",
      "    Create a memory-map to an array stored in a *binary* file on disk.\n",
      "numpy.nanmax\n",
      "    Return the maximum of an array or maximum along an axis, ignoring any\n",
      "numpy.nanmin\n",
      "    Return minimum of an array or minimum along an axis, ignoring any NaNs.\n",
      "numpy.nanstd\n",
      "    Compute the standard deviation along the specified axis, while\n",
      "numpy.nansum\n",
      "    Return the sum of array elements over a given axis treating Not a\n",
      "numpy.nanvar\n",
      "    Compute the variance along the specified axis, while ignoring NaNs.\n",
      "numpy.nditer\n",
      "    Efficient multi-dimensional iterator object to iterate over arrays.\n",
      "numpy.poly1d\n",
      "    A one-dimensional polynomial class.\n",
      "numpy.unique\n",
      "    Find the unique elements of an array.\n",
      "numpy.vander\n",
      "    Generate a Vandermonde matrix.\n",
      "numpy.argsort\n",
      "    Returns the indices that would sort an array.\n",
      "numpy.average\n",
      "    Compute the weighted average along the specified axis.\n",
      "numpy.deg2rad\n",
      "    Convert angles from degrees to radians.\n",
      "numpy.indices\n",
      "    Return an array representing the indices of a grid.\n",
      "numpy.isclose\n",
      "    Returns a boolean array where two arrays are element-wise equal within a\n",
      "numpy.loadtxt\n",
      "    Load data from a text file.\n",
      "numpy.nanmean\n",
      "    Compute the arithmetic mean along the specified axis, ignoring NaNs.\n",
      "numpy.nanprod\n",
      "    Return the product of array elements over a given axis treating Not a\n",
      "numpy.polydiv\n",
      "    Returns the quotient and remainder of polynomial division.\n",
      "numpy.polyfit\n",
      "    Least squares polynomial fit.\n",
      "numpy.polymul\n",
      "    Find the product of two polynomials.\n",
      "numpy.polysub\n",
      "    Difference (subtraction) of two polynomials.\n",
      "numpy.polyval\n",
      "    Evaluate a polynomial at specific values.\n",
      "numpy.rad2deg\n",
      "    Convert angles from radians to degrees.\n",
      "numpy.savetxt\n",
      "    Save an array to a text file.\n",
      "numpy.squeeze\n",
      "    Remove single-dimensional entries from the shape of an array.\n",
      "numpy.allclose\n",
      "    Returns True if two arrays are element-wise equal within a tolerance.\n",
      "numpy.bincount\n",
      "    Count number of occurrences of each value in array of non-negative ints.\n",
      "numpy.blackman\n",
      "    Return the Blackman window.\n",
      "numpy.convolve\n",
      "    Returns the discrete, linear convolution of two one-dimensional sequences.\n",
      "numpy.corrcoef\n",
      "    Return Pearson product-moment correlation coefficients.\n",
      "numpy.digitize\n",
      "    Return the indices of the bins to which each value in input array belongs.\n",
      "numpy.polynomial.Chebyshev.has_samedomain\n",
      "    Check if domains match.\n",
      "numpy.polynomial.Chebyshev.has_samewindow\n",
      "    Check if windows match.\n",
      "numpy.fromfile\n",
      "    Construct an array from data in a text or binary file.\n",
      "numpy.gradient\n",
      "    Return the gradient of an N-dimensional array.\n",
      "numpy.core.overrides.array_function_dispatch\n",
      "    Decorator for adding dispatch with the __array_function__ protocol.\n",
      "numpy.linspace\n",
      "    Return evenly spaced numbers over a specified interval.\n",
      "numpy.logspace\n",
      "    Return numbers spaced evenly on a log scale.\n",
      "numpy.meshgrid\n",
      "    Return coordinate matrices from coordinate vectors.\n",
      "numpy.moveaxis\n",
      "    Move axes of an array to new positions.\n",
      "numpy.packbits\n",
      "    Packs the elements of a binary-valued array into bits in a uint8 array.\n",
      "numpy.positive\n",
      "    Numerical positive, element-wise.\n",
      "numpy.rollaxis\n",
      "    Roll the specified axis backwards, until it lies in a given position.\n",
      "numpy.base_repr\n",
      "    Return a string representation of a number in the given base system.\n",
      "numpy.broadcast\n",
      "    Produce an object that mimics broadcasting.\n",
      "numpy.chararray\n",
      "    chararray(shape, itemsize=1, unicode=False, buffer=None, offset=0,\n",
      "numpy.correlate\n",
      "    Cross-correlation of two 1-dimensional sequences.\n",
      "numpy.fromregex\n",
      "    Construct an array from a text file, using regular expression parsing.\n",
      "numpy.full_like\n",
      "    Return a full array with the same shape and type as a given array.\n",
      "numpy.geomspace\n",
      "    Return numbers spaced evenly on a log scale (a geometric progression).\n",
      "numpy.heaviside\n",
      "    Compute the Heaviside step function.\n",
      "numpy.histogram\n",
      "    Compute the histogram of a set of data.\n",
      "numpy.is_busday\n",
      "    Calculates which of the given dates are valid days, and which are not.\n",
      "numpy.nancumsum\n",
      "    Return the cumulative sum of array elements over a given axis treating Not a\n",
      "numpy.nanmedian\n",
      "    Compute the median along the specified axis, while ignoring NaNs.\n",
      "numpy.ones_like\n",
      "    Return an array of ones with the same shape and type as a given array.\n",
      "numpy.partition\n",
      "    Return a partitioned copy of an array.\n",
      "numpy.vectorize\n",
      "    vectorize(pyfunc, otypes=None, doc=None, excluded=None, cache=False,\n",
      "numpy.empty_like\n",
      "    Return a new array with the same shape and type as a given array.\n",
      "numpy.frompyfunc\n",
      "    Takes an arbitrary Python function and returns a NumPy ufunc.\n",
      "numpy.fromstring\n",
      "    A new 1-D array initialized from text data in a string.\n",
      "numpy.genfromtxt\n",
      "    Load data from a text file, with missing values handled as specified.\n",
      "numpy.nan_to_num\n",
      "    Replace NaN with zero and infinity with large finite numbers (default\n",
      "numpy.nancumprod\n",
      "    Return the cumulative product of array elements over a given axis treating Not a\n",
      "numpy.percentile\n",
      "    Compute the q-th percentile of the data along the specified axis.\n",
      "numpy.unpackbits\n",
      "    Unpacks elements of a uint8 array into a binary-valued output array.\n",
      "numpy.zeros_like\n",
      "    Return an array of zeros with the same shape and type as a given array.\n",
      "numpy.array_equal\n",
      "    True if two arrays have the same shape and elements, False otherwise.\n",
      "numpy.einsum_path\n",
      "    Evaluates the lowest cost contraction order for an einsum expression by\n",
      "numpy.float_power\n",
      "    First array elements raised to powers from second array, element-wise.\n",
      "numpy.histogram2d\n",
      "    Compute the bi-dimensional histogram of two data samples.\n",
      "numpy.intersect1d\n",
      "    Find the intersection of two arrays.\n",
      "numpy.nanquantile\n",
      "    Compute the qth quantile of the data along the specified axis,\n",
      "numpy.result_type\n",
      "    result_type(*arrays_and_dtypes)\n",
      "numpy.fft.fft\n",
      "    Compute the one-dimensional discrete Fourier Transform.\n",
      "numpy.ma.cov\n",
      "    Estimate the covariance matrix.\n",
      "numpy.ma.dot\n",
      "    Return the dot product of two arrays.\n",
      "numpy.argpartition\n",
      "    Perform an indirect partition along the given axis using the\n",
      "numpy.array2string\n",
      "    Return a string representation of an array.\n",
      "numpy.broadcast_to\n",
      "    Broadcast an array to a new shape.\n",
      "numpy.busday_count\n",
      "    Counts the number of valid days between `begindates` and\n",
      "numpy.diag_indices\n",
      "    Return the indices to access the main diagonal of an array.\n",
      "numpy.ma.var\n",
      "    Compute the variance along the specified axis.\n",
      "numpy.distutils.fcompiler.FCompiler.add_library\n",
      "    Add 'libname' to the list of libraries that will be included in\n",
      "numpy.mask_indices\n",
      "    Return the indices to access (n, n) arrays, given a masking function.\n",
      "numpy.searchsorted\n",
      "    Find indices where elements should be inserted to maintain order.\n",
      "numpy.tril_indices\n",
      "    Return the indices for the lower-triangle of an (n, m) array.\n",
      "numpy.triu_indices\n",
      "    Return the indices for the upper-triangle of an (n, m) array.\n",
      "numpy.fft.fft2\n",
      "    Compute the 2-dimensional discrete Fourier Transform\n",
      "numpy.fft.fftn\n",
      "    Compute the N-dimensional discrete Fourier Transform.\n",
      "numpy.fft.hfft\n",
      "    Compute the FFT of a signal that has Hermitian symmetry, i.e., a real\n",
      "numpy.fft.ifft\n",
      "    Compute the one-dimensional inverse discrete Fourier Transform.\n",
      "numpy.fft.rfft\n",
      "    Compute the one-dimensional discrete Fourier Transform for real input.\n",
      "numpy.ma.in1d\n",
      "    Test whether each element of an array is also present in a second\n",
      "numpy.ma.isin\n",
      "    Calculates `element in test_elements`, broadcasting over\n",
      "numpy.ma.log2\n",
      "    Base-2 logarithm of `x`.\n",
      "numpy.busday_offset\n",
      "    First adjusts the date to fall on a valid day according to\n",
      "numpy.count_nonzero\n",
      "    Counts the number of non-zero values in the array ``a``.\n",
      "numpy.fill_diagonal\n",
      "    Fill the main diagonal of the given array of any dimensionality.\n",
      "numpy.format_parser\n",
      "    Class to convert formats, names, titles description to a dtype.\n",
      "numpy.nanpercentile\n",
      "    Compute the qth percentile of the data along the specified axis,\n",
      "numpy.promote_types\n",
      "    Returns the data type with the smallest size and smallest scalar\n",
      "numpy.char.ljust\n",
      "    Return an array with the elements of `a` left-justified in a\n",
      "numpy.char.rjust\n",
      "    Return an array with the elements of `a` right-justified in a\n",
      "numpy.ma.count\n",
      "    Count the non-masked elements of the array along the given axis.\n",
      "numpy.unravel_index\n",
      "    Converts a flat index or array of flat indices into a tuple\n",
      "numpy.fft.ifft2\n",
      "    Compute the 2-dimensional inverse discrete Fourier Transform.\n",
      "numpy.fft.ifftn\n",
      "    Compute the N-dimensional inverse discrete Fourier Transform.\n",
      "numpy.fft.ihfft\n",
      "    Compute the inverse FFT of a signal that has Hermitian symmetry.\n",
      "numpy.fft.irfft\n",
      "    Compute the inverse of the n-point DFT for real input.\n",
      "numpy.fft.rfft2\n",
      "    Compute the 2-dimensional FFT of a real array.\n",
      "numpy.fft.rfftn\n",
      "    Compute the N-dimensional discrete Fourier Transform for real input.\n",
      "numpy.ma.inner\n",
      "    Inner product of two arrays.\n",
      "numpy.busdaycalendar\n",
      "    A business day calendar object that efficiently stores information\n",
      "numpy.ma.outer\n",
      "    Compute the outer product of two vectors.\n",
      "numpy.ma.stack\n",
      "    Join a sequence of arrays along a new axis.\n",
      "numpy.put_along_axis\n",
      "    Put values into the destination array by matching 1d index and data slices.\n",
      "numpy.linalg.qr\n",
      "    Compute the qr factorization of a matrix.\n",
      "numpy.char.center\n",
      "    Return a copy of `a` with its elements centered in a string of\n",
      "numpy.chararray.__add__\n",
      "    Return (self + other), that is string concatenation,\n",
      "numpy.fft.irfft2\n",
      "    Compute the 2-dimensional inverse FFT of a real array.\n",
      "numpy.fft.irfftn\n",
      "    Compute the inverse of the N-dimensional FFT of real input.\n",
      "numpy.ma.median\n",
      "    Compute the median along the specified axis.\n",
      "numpy.ufunc.at\n",
      "    Performs unbuffered in place operation on operand 'a' for elements\n",
      "numpy.ma.vander\n",
      "    Generate a Vandermonde matrix.\n",
      "numpy.min_scalar_type\n",
      "    min_scalar_type(a)\n",
      "numpy.linalg.det\n",
      "    Compute the determinant of an array.\n",
      "numpy.linalg.eig\n",
      "    Compute the eigenvalues and right eigenvectors of a square array.\n",
      "numpy.linalg.inv\n",
      "    Compute the (multiplicative) inverse of a matrix.\n",
      "numpy.linalg.svd\n",
      "    Singular Value Decomposition.\n",
      "numpy.set_numeric_ops\n",
      "    Set numerical operators for array objects.\n",
      "numpy.take_along_axis\n",
      "    Take values from the input array by matching 1d index and data slices.\n",
      "numpy.apply_along_axis\n",
      "    Apply a function to 1-D slices along the given axis.\n",
      "numpy.chararray.__radd__\n",
      "    Return (other + self), that is string concatenation,\n",
      "numpy.ma.polyfit\n",
      "    Least squares polynomial fit.\n",
      "numpy.matlib.eye\n",
      "    Return a matrix with ones on the diagonal and zeros elsewhere.\n",
      "numpy.distutils.fcompiler.FCompiler.add_include_dir\n",
      "    Add 'dir' to the list of directories that will be searched for\n",
      "numpy.distutils.fcompiler.FCompiler.add_library_dir\n",
      "    Add 'dir' to the list of directories that will be searched for\n",
      "numpy.distutils.fcompiler.FCompiler.add_link_object\n",
      "    Add 'object' to the list of object files (or analogues, such as\n",
      "numpy.linalg.eigh\n",
      "    Return the eigenvalues and eigenvectors of a complex Hermitian\n",
      "numpy.linalg.norm\n",
      "    Matrix or vector norm.\n",
      "numpy.linalg.pinv\n",
      "    Compute the (Moore-Penrose) pseudo-inverse of a matrix.\n",
      "numpy.set_printoptions\n",
      "    Set printing options.\n",
      "numpy.f2py.compile\n",
      "    Build extension module from a Fortran 77 source string with f2py.\n",
      "numpy.ma.corrcoef\n",
      "    Return Pearson product-moment correlation coefficients.\n",
      "numpy.distutils.misc_util.Configuration.add_headers\n",
      "    Add installable headers to configuration.\n",
      "numpy.distutils.misc_util.Configuration.add_library\n",
      "    Add library to configuration.\n",
      "numpy.distutils.misc_util.Configuration.add_scripts\n",
      "    Add scripts to configuration.\n",
      "numpy.diag_indices_from\n",
      "    Return the indices to access the main diagonal of an n-dimensional array.\n",
      "numpy.ravel_multi_index\n",
      "    Converts a tuple of index arrays into an array of flat\n",
      "numpy.linalg.solve\n",
      "    Solve a linear matrix equation, or system of linear scalar equations.\n",
      "numpy.tril_indices_from\n",
      "    Return the indices for the lower-triangle of arr.\n",
      "numpy.triu_indices_from\n",
      "    Return the indices for the upper-triangle of arr.\n",
      "numpy.distutils.misc_util.Configuration._add_library\n",
      "    Common implementation for add_library and add_installed_library. Do\n",
      "numpy.distutils.misc_util.Configuration.add_data_dir\n",
      "    Recursively add files under data_path to data_files list.\n",
      "numpy.chararray.sort\n",
      "    Sort an array in-place. Refer to `numpy.sort` for full documentation.\n",
      "numpy.nditer.close\n",
      "    close()\n",
      "numpy.ma.empty_like\n",
      "    empty_like(prototype, dtype=None, order='K', subok=True, shape=None)\n",
      "numpy.distutils.misc_util.Configuration.add_extension\n",
      "    Add extension to configuration.\n",
      "numpy.ufunc.reduce\n",
      "    Reduces `a`'s dimension by one, by applying ufunc along one axis.\n",
      "numpy.linalg.eigvals\n",
      "    Compute the eigenvalues of a general matrix.\n",
      "numpy.linalg.slogdet\n",
      "    Compute the sign and (natural) logarithm of the determinant of an array.\n",
      "numpy.distutils.misc_util.Configuration.add_data_files\n",
      "    Add data files to configuration data_files.\n",
      "numpy.distutils.misc_util.Configuration.add_subpackage\n",
      "    Add a sub-package to the current Configuration instance.\n",
      "numpy.chararray.tolist\n",
      "    a.tolist()\n",
      "numpy.linalg.cholesky\n",
      "    Cholesky decomposition.\n",
      "numpy.linalg.eigvalsh\n",
      "    Compute the eigenvalues of a complex Hermitian or real symmetric matrix.\n",
      "numpy.distutils.command.sdist.sdist.add_defaults\n",
      "    Add all the default files to self.filelist:\n",
      "numpy.ma.clump_masked\n",
      "    Returns a list of slices corresponding to the masked clumps of a 1-D array.\n",
      "numpy.ufunc.reduceat\n",
      "    Performs a (local) reduce with specified slices over a single axis.\n",
      "numpy.chararray.tobytes\n",
      "    Construct Python bytes containing the raw data bytes in the array.\n",
      "numpy.distutils.fcompiler.FCompiler.library_option\n",
      "    Return the compiler option to add 'lib' to the list of libraries\n",
      "numpy.linalg.multi_dot\n",
      "    Compute the dot product of two or more arrays in a single function call,\n",
      "numpy.testing.rundocs\n",
      "    Run doctests found in the given file.\n",
      "numpy.distutils.misc_util.Configuration.add_include_dirs\n",
      "    Add paths to configuration include directories.\n",
      "numpy.matrix.partition\n",
      "    Rearranges the elements in the array in such a way that the value of the\n",
      "numpy.lib._iotools.StringConverter.upgrade_mapper\n",
      "    Upgrade the mapper of a StringConverter by adding a new function and\n",
      "numpy.random.Generator\n",
      "    Generator(bit_generator)\n",
      "numpy.ma.clump_unmasked\n",
      "    Return list of slices corresponding to the unmasked clumps of a 1-D array.\n",
      "numpy.distutils.misc_util.Configuration.add_define_macros\n",
      "    Add define macros to configuration\n",
      "numpy.ufunc.accumulate\n",
      "    Accumulate the result of applying the operator to all elements.\n",
      "numpy.chararray.transpose\n",
      "    a.transpose(*axes)\n",
      "numpy.distutils.fcompiler.FCompiler.set_include_dirs\n",
      "    Set the list of directories that will be searched to 'dirs' (a\n",
      "numpy.linalg.matrix_rank\n",
      "    Return matrix rank of array using SVD method\n",
      "numpy.random.tests.test_seed_sequence.test_zero_padding\n",
      "    Ensure that the implicit zero-padding does not cause problems.\n",
      "numpy.distutils.fcompiler.FCompiler.add_runtime_library_dir\n",
      "    Add 'dir' to the list of directories that will be searched for\n",
      "numpy.polynomial.Hermite\n",
      "    An Hermite series class.\n",
      "numpy.random.RandomState\n",
      "    Container for the slow Mersenne Twister pseudo-random number generator.\n",
      "numpy.random.default_rng\n",
      "    Construct a new Generator with the default BitGenerator (PCG64).\n",
      "numpy.ma.apply_along_axis\n",
      "    Apply a function to 1-D slices along the given axis.\n",
      "numpy.distutils.fcompiler.FCompiler.library_dir_option\n",
      "    Return the compiler option to add 'dir' to the list of\n",
      "numpy.polynomial.HermiteE\n",
      "    An HermiteE series class.\n",
      "numpy.polynomial.Laguerre\n",
      "    A Laguerre series class.\n",
      "numpy.polynomial.Legendre\n",
      "    A Legendre series class.\n",
      "numpy.double.__set_format__\n",
      "    You probably don't want to use this function.\n",
      "numpy.chararray.argpartition\n",
      "    Returns the indices that would partition this array.\n",
      "numpy.polynomial.Chebyshev\n",
      "    A Chebyshev series class.\n",
      "numpy.testing.assert_warns\n",
      "    Fail unless the given callable throws the specified warning.\n",
      "numpy.distutils.misc_util.Configuration.add_installed_library\n",
      "    Similar to add_library, but the specified library is installed.\n",
      "numpy.polynomial.Polynomial\n",
      "    A power series class.\n",
      "numpy.distutils.command.sdist.sdist.write_manifest\n",
      "    Write the file list in 'self.filelist' (presumably as filled in\n",
      "numpy.testing.assert_allclose\n",
      "    Raises an AssertionError if two objects are not equal up to desired\n",
      "numpy.ma.MaskedArray.dot\n",
      "    Masked dot product of two arrays. Note that `out` and `strict` are\n",
      "numpy.ma.MaskedArray.var\n",
      "    Compute the variance along the specified axis.\n",
      "numpy.testing.run_module_suite\n",
      "    Run a test module.\n",
      "numpy.distutils.intelccompiler.IntelCCompiler.library_option\n",
      "    Return the compiler option to add 'lib' to the list of libraries\n",
      "numpy.testing.suppress_warnings\n",
      "    Context manager and decorator doing much the same as\n",
      "numpy.ma.MaskedArray.count\n",
      "    Count the non-masked elements of the array along the given axis.\n",
      "numpy.distutils.intelccompiler.IntelCCompilerW.library_option\n",
      "    Return the compiler option to add 'lib' to the list of libraries\n",
      "numpy.testing.assert_no_warnings\n",
      "    Fail if the given callable produces any warnings.\n",
      "numpy.distutils.fcompiler.FCompiler.runtime_library_dir_option\n",
      "    Return the compiler option to add 'dir' to the list of\n",
      "numpy.distutils.command.develop.develop.create_index.add\n",
      "    Add `dist` if we ``can_add()`` it and it has not already been added\n",
      "numpy.testing.assert_no_gc_cycles\n",
      "    Fail if the given callable produces any reference cycles.\n",
      "numpy.testing.assert_raises_regex\n",
      "    assert_raises_regex(exception_class, expected_regexp, callable, *args,\n",
      "numpy.ma.MaskedArray.tobytes\n",
      "    Return the array data as a string containing the raw bytes in the array.\n",
      "numpy.distutils.command.build_ext.build_ext.get_libraries\n",
      "    Return the list of libraries to link against when building a\n",
      "numpy.polynomial.Hermite.fit\n",
      "    Least squares fit to data.\n",
      "numpy.distutils.intelccompiler.IntelCCompiler.library_dir_option\n",
      "    Return the compiler option to add 'dir' to the list of\n",
      "numpy.polynomial.Hermite._der\n",
      "    Differentiate a Hermite series.\n",
      "numpy.polynomial.Hermite._div\n",
      "    Divide one Hermite series by another.\n",
      "numpy.polynomial.Hermite._int\n",
      "    Integrate a Hermite series.\n",
      "numpy.polynomial.Hermite._mul\n",
      "    Multiply one Hermite series by another.\n",
      "numpy.polynomial.Hermite._pow\n",
      "    Raise a Hermite series to a power.\n",
      "numpy.polynomial.Hermite._sub\n",
      "    Subtract one Hermite series from another.\n",
      "numpy.polynomial.Hermite._val\n",
      "    Evaluate an Hermite series at points x.\n",
      "numpy.polynomial.Hermite.cast\n",
      "    Convert series to series of this class.\n",
      "numpy.polynomial.HermiteE.fit\n",
      "    Least squares fit to data.\n",
      "numpy.polynomial.Laguerre.fit\n",
      "    Least squares fit to data.\n",
      "numpy.polynomial.Legendre.fit\n",
      "    Least squares fit to data.\n",
      "numpy.distutils.intelccompiler.IntelCCompilerW.library_dir_option\n",
      "    Return the compiler option to add 'dir' to the list of\n",
      "numpy.ma.MaskedArray.partition\n",
      "    Rearranges the elements in the array in such a way that the value of the\n",
      "numpy.random.Generator.pareto\n",
      "    Draw samples from a Pareto II or Lomax distribution with\n",
      "numpy.random.Generator.random\n",
      "    Return random floats in the half-open interval [0.0, 1.0).\n",
      "numpy.ma.MaskedArray.transpose\n",
      "    a.transpose(*axes)\n",
      "numpy.polynomial.Chebyshev.fit\n",
      "    Least squares fit to data.\n",
      "numpy.polynomial.Hermite.basis\n",
      "    Series basis polynomial of degree `deg`.\n",
      "numpy.polynomial.HermiteE._der\n",
      "    Differentiate a Hermite_e series.\n",
      "numpy.polynomial.HermiteE._div\n",
      "    Divide one Hermite series by another.\n",
      "numpy.polynomial.HermiteE._int\n",
      "    Integrate a Hermite_e series.\n",
      "numpy.polynomial.HermiteE._mul\n",
      "    Multiply one Hermite series by another.\n",
      "numpy.polynomial.HermiteE._pow\n",
      "    Raise a Hermite series to a power.\n",
      "numpy.polynomial.HermiteE._sub\n",
      "    Subtract one Hermite series from another.\n",
      "numpy.polynomial.HermiteE._val\n",
      "    Evaluate an HermiteE series at points x.\n",
      "numpy.polynomial.HermiteE.cast\n",
      "    Convert series to series of this class.\n",
      "numpy.polynomial.Laguerre._der\n",
      "    Differentiate a Laguerre series.\n",
      "numpy.polynomial.Laguerre._div\n",
      "    Divide one Laguerre series by another.\n",
      "numpy.polynomial.Laguerre._int\n",
      "    Integrate a Laguerre series.\n",
      "numpy.polynomial.Laguerre._mul\n",
      "    Multiply one Laguerre series by another.\n",
      "numpy.polynomial.Laguerre._pow\n",
      "    Raise a Laguerre series to a power.\n",
      "numpy.polynomial.Laguerre._sub\n",
      "    Subtract one Laguerre series from another.\n",
      "numpy.polynomial.Laguerre._val\n",
      "    Evaluate a Laguerre series at points x.\n",
      "numpy.polynomial.Laguerre.cast\n",
      "    Convert series to series of this class.\n",
      "numpy.polynomial.Legendre._der\n",
      "    Differentiate a Legendre series.\n",
      "numpy.polynomial.Legendre._div\n",
      "    Divide one Legendre series by another.\n",
      "numpy.polynomial.Legendre._fit\n",
      "    Least squares fit of Legendre series to data.\n",
      "numpy.polynomial.Legendre._int\n",
      "    Integrate a Legendre series.\n",
      "numpy.polynomial.Legendre._mul\n",
      "    Multiply one Legendre series by another.\n",
      "numpy.polynomial.Legendre._pow\n",
      "    Raise a Legendre series to a power.\n",
      "numpy.polynomial.Legendre._sub\n",
      "    Subtract one Legendre series from another.\n",
      "numpy.polynomial.Legendre._val\n",
      "    Evaluate a Legendre series at points x.\n",
      "numpy.polynomial.Legendre.cast\n",
      "    Convert series to series of this class.\n",
      "numpy.lib._version.NumpyVersion\n",
      "    Parse and compare numpy version strings.\n",
      "numpy.distutils.command.develop.develop.create_index.__add__\n",
      "    Add an environment or distribution to an environment\n",
      "numpy.distutils.mingw32ccompiler.Mingw32CCompiler.object_filenames\n",
      "    Adds supports for rc and res files.\n",
      "numpy.distutils.command.build_ext.build_ext.get_ext_fullname\n",
      "    Returns the fullname of a given extension name.\n",
      "numpy.polynomial.Chebyshev._der\n",
      "    Differentiate a Chebyshev series.\n",
      "numpy.polynomial.Chebyshev._div\n",
      "    Divide one Chebyshev series by another.\n",
      "numpy.polynomial.Chebyshev._fit\n",
      "    Least squares fit of Chebyshev series to data.\n",
      "numpy.polynomial.Chebyshev._int\n",
      "    Integrate a Chebyshev series.\n",
      "numpy.polynomial.Chebyshev._mul\n",
      "    Multiply one Chebyshev series by another.\n",
      "numpy.polynomial.Chebyshev._pow\n",
      "    Raise a Chebyshev series to a power.\n",
      "numpy.polynomial.Chebyshev._sub\n",
      "    Subtract one Chebyshev series from another.\n",
      "numpy.polynomial.Chebyshev._val\n",
      "    Evaluate a Chebyshev series at points x.\n",
      "numpy.polynomial.Chebyshev.cast\n",
      "    Convert series to series of this class.\n",
      "numpy.core._multiarray_umath.inner\n",
      "    Inner product of two arrays.\n",
      "numpy.polynomial.HermiteE.basis\n",
      "    Series basis polynomial of degree `deg`.\n",
      "numpy.polynomial.Laguerre.basis\n",
      "    Series basis polynomial of degree `deg`.\n",
      "numpy.distutils.command.develop.develop._set_fetcher_options\n",
      "    When easy_install is about to run bdist_egg on a source dist, that\n",
      "numpy.polynomial.Legendre.basis\n",
      "    Series basis polynomial of degree `deg`.\n",
      "numpy.polynomial.Polynomial.fit\n",
      "    Least squares fit to data.\n",
      "numpy.distutils.command.develop.develop.create_index.__iadd__\n",
      "    In-place addition of a distribution or environment\n",
      "numpy.testing.clear_and_catch_warnings\n",
      "    Context manager that resets warning registry for catching warnings\n",
      "numpy.distutils.misc_util.get_info\n",
      "    Return an info dict for a given C library.\n",
      "numpy.random.RandomState.choice\n",
      "    Generates a random sample from a given 1-D array\n",
      "numpy.random.RandomState.pareto\n",
      "    Draw samples from a Pareto II or Lomax distribution with\n",
      "numpy.core._multiarray_umath.copyto\n",
      "    Copies values from one array to another, broadcasting as necessary.\n",
      "numpy.polynomial.Chebyshev.basis\n",
      "    Series basis polynomial of degree `deg`.\n",
      "numpy.polynomial.Polynomial._der\n",
      "    Differentiate a polynomial.\n",
      "numpy.polynomial.Polynomial._div\n",
      "    Divide one polynomial by another.\n",
      "numpy.polynomial.Polynomial._fit\n",
      "    Least-squares fit of a polynomial to data.\n",
      "numpy.polynomial.Polynomial._int\n",
      "    Integrate a polynomial.\n",
      "numpy.polynomial.Polynomial._mul\n",
      "    Multiply one polynomial by another.\n",
      "numpy.polynomial.Polynomial._pow\n",
      "    Raise a polynomial to a power.\n",
      "numpy.polynomial.Polynomial._sub\n",
      "    Subtract one polynomial from another.\n",
      "numpy.polynomial.Polynomial._val\n",
      "    Evaluate a polynomial at points x.\n",
      "numpy.polynomial.Polynomial.cast\n",
      "    Convert series to series of this class.\n",
      "numpy.core._dtype._construction_repr\n",
      "    Creates a string repr of the dtype, excluding the 'dtype()' part\n",
      "numpy.ma.MaskedArray.argpartition\n",
      "    Returns the indices that would partition this array.\n",
      "numpy.random.RandomState.randint\n",
      "    Return random integers from `low` (inclusive) to `high` (exclusive).\n",
      "numpy.polynomial.Chebyshev.cutdeg\n",
      "    Truncate series to the given degree.\n",
      "numpy.polynomial.Polynomial.basis\n",
      "    Series basis polynomial of degree `deg`.\n",
      "numpy.polynomial.hermite.hermmulx\n",
      "    Multiply a Hermite series by x.\n",
      "numpy.distutils.command.develop.develop.create_index.scan\n",
      "    Scan `search_path` for distributions usable in this environment\n",
      "numpy.polynomial.laguerre.lagmulx\n",
      "    Multiply a Laguerre series by x.\n",
      "numpy.polynomial.legendre.legmulx\n",
      "    Multiply a Legendre series by x.\n",
      "numpy.core._multiarray_umath.bincount\n",
      "    Count number of occurrences of each value in array of non-negative ints.\n",
      "numpy.core._multiarray_umath.c_einsum\n",
      "    c_einsum(subscripts, *operands, out=None, dtype=None, order='K',\n",
      "numpy.core._multiarray_umath.packbits\n",
      "    Packs the elements of a binary-valued array into bits in a uint8 array.\n",
      "numpy.polynomial.hermite.hermgauss\n",
      "    Gauss-Hermite quadrature.\n",
      "numpy.polynomial.hermite.hermval2d\n",
      "    Evaluate a 2-D Hermite series at points (x, y).\n",
      "numpy.polynomial.hermite.hermval3d\n",
      "    Evaluate a 3-D Hermite series at points (x, y, z).\n",
      "numpy.polynomial.laguerre.laggauss\n",
      "    Gauss-Laguerre quadrature.\n",
      "numpy.polynomial.laguerre.lagval2d\n",
      "    Evaluate a 2-D Laguerre series at points (x, y).\n",
      "numpy.polynomial.laguerre.lagval3d\n",
      "    Evaluate a 3-D Laguerre series at points (x, y, z).\n",
      "numpy.polynomial.legendre.leggauss\n",
      "    Gauss-Legendre quadrature.\n",
      "numpy.polynomial.legendre.legval2d\n",
      "    Evaluate a 2-D Legendre series at points (x, y).\n",
      "numpy.polynomial.legendre.legval3d\n",
      "    Evaluate a 3-D Legendre series at points (x, y, z).\n",
      "numpy.distutils.fcompiler.absoft.AbsoftFCompiler.library_option\n",
      "    Return the compiler option to add 'lib' to the list of libraries\n",
      "numpy.core._multiarray_umath.is_busday\n",
      "    Calculates which of the given dates are valid days, and which are not.\n",
      "numpy.polynomial.Chebyshev.linspace\n",
      "    Return x, y values at equally spaced points in domain.\n",
      "numpy.lib.recfunctions.repack_fields\n",
      "    Re-pack the fields of a structured array or dtype in memory.\n",
      "numpy.polynomial.chebyshev.chebmulx\n",
      "    Multiply a Chebyshev series by x.\n",
      "numpy.polynomial.chebyshev.chebpts1\n",
      "    Chebyshev points of the first kind.\n",
      "numpy.polynomial.chebyshev.chebpts2\n",
      "    Chebyshev points of the second kind.\n",
      "numpy.polynomial.hermite.hermgrid2d\n",
      "    Evaluate a 2-D Hermite series on the Cartesian product of x and y.\n",
      "numpy.polynomial.hermite.hermgrid3d\n",
      "    Evaluate a 3-D Hermite series on the Cartesian product of x, y, and z.\n",
      "numpy.polynomial.hermite.hermweight\n",
      "    Weight function of the Hermite polynomials.\n",
      "numpy.polynomial.laguerre.laggrid2d\n",
      "    Evaluate a 2-D Laguerre series on the Cartesian product of x and y.\n",
      "numpy.polynomial.laguerre.laggrid3d\n",
      "    Evaluate a 3-D Laguerre series on the Cartesian product of x, y, and z.\n",
      "numpy.polynomial.laguerre.lagweight\n",
      "    Weight function of the Laguerre polynomials.\n",
      "numpy.polynomial.legendre.leggrid2d\n",
      "    Evaluate a 2-D Legendre series on the Cartesian product of x and y.\n",
      "numpy.polynomial.legendre.leggrid3d\n",
      "    Evaluate a 3-D Legendre series on the Cartesian product of x, y, and z.\n",
      "numpy.polynomial.legendre.legweight\n",
      "    Weight function of the Legendre polynomials.\n",
      "numpy.distutils.misc_util.get_pkg_info\n",
      "    Return library info for the given package.\n",
      "numpy.core._multiarray_umath.empty_like\n",
      "    Return a new array with the same shape and type as a given array.\n",
      "numpy.core._multiarray_umath.unpackbits\n",
      "    Unpacks elements of a uint8 array into a binary-valued output array.\n",
      "numpy.polynomial.chebyshev.chebgauss\n",
      "    Gauss-Chebyshev quadrature.\n",
      "numpy.polynomial.chebyshev.chebval2d\n",
      "    Evaluate a 2-D Chebyshev series at points (x, y).\n",
      "numpy.polynomial.chebyshev.chebval3d\n",
      "    Evaluate a 3-D Chebyshev series at points (x, y, z).\n",
      "numpy.polynomial.polynomial.polymulx\n",
      "    Multiply a polynomial by x.\n",
      "numpy.distutils.intelccompiler.IntelCCompiler.runtime_library_dir_option\n",
      "    Return the compiler option to add 'dir' to the list of\n",
      "numpy.core._multiarray_umath.result_type\n",
      "    result_type(*arrays_and_dtypes)\n",
      "numpy.lib.mixins.NDArrayOperatorsMixin\n",
      "    Mixin defining all operator special methods using __array_ufunc__.\n",
      "numpy.polynomial.chebyshev.chebgrid2d\n",
      "    Evaluate a 2-D Chebyshev series on the Cartesian product of x and y.\n",
      "numpy.polynomial.chebyshev.chebgrid3d\n",
      "    Evaluate a 3-D Chebyshev series on the Cartesian product of x, y, and z.\n",
      "numpy.distutils.command.develop.develop.create_index.__init__\n",
      "    Snapshot distributions available on a search path\n",
      "numpy.polynomial.chebyshev.chebweight\n",
      "    The weight function of the Chebyshev polynomials.\n",
      "numpy.distutils.command.develop.develop.create_index.add_find_links\n",
      "    Add `urls` to the list that will be prescanned for searches\n",
      "numpy.polynomial.hermite.hermvander2d\n",
      "    Pseudo-Vandermonde matrix of given degrees.\n",
      "numpy.polynomial.hermite.hermvander3d\n",
      "    Pseudo-Vandermonde matrix of given degrees.\n",
      "numpy.polynomial.hermite_e.hermegauss\n",
      "    Gauss-HermiteE quadrature.\n",
      "numpy.polynomial.hermite_e.hermeval2d\n",
      "    Evaluate a 2-D HermiteE series at points (x, y).\n",
      "numpy.polynomial.hermite_e.hermeval3d\n",
      "    Evaluate a 3-D Hermite_e series at points (x, y, z).\n",
      "numpy.polynomial.laguerre.lagvander2d\n",
      "    Pseudo-Vandermonde matrix of given degrees.\n",
      "numpy.polynomial.laguerre.lagvander3d\n",
      "    Pseudo-Vandermonde matrix of given degrees.\n",
      "numpy.polynomial.legendre.legvander2d\n",
      "    Pseudo-Vandermonde matrix of given degrees.\n",
      "numpy.polynomial.legendre.legvander3d\n",
      "    Pseudo-Vandermonde matrix of given degrees.\n",
      "numpy.polynomial.polynomial.polyval2d\n",
      "    Evaluate a 2-D polynomial at points (x, y).\n",
      "numpy.polynomial.polynomial.polyval3d\n",
      "    Evaluate a 3-D polynomial at points (x, y, z).\n",
      "numpy.distutils.intelccompiler.IntelCCompilerW.runtime_library_dir_option\n",
      "    Return the compiler option to add 'dir' to the list of\n",
      "numpy.core._multiarray_umath.busday_count\n",
      "    Counts the number of valid days between `begindates` and\n",
      "numpy.polynomial.Chebyshev.interpolate\n",
      "    Interpolate a function at the Chebyshev points of the first kind.\n",
      "numpy.polynomial._polybase.ABCPolyBase\n",
      "    An abstract base class for immutable series classes.\n",
      "numpy.polynomial.hermite.hermcompanion\n",
      "    Return the scaled companion matrix of c.\n",
      "numpy.polynomial.hermite_e.hermegrid2d\n",
      "    Evaluate a 2-D HermiteE series on the Cartesian product of x and y.\n",
      "numpy.polynomial.hermite_e.hermegrid3d\n",
      "    Evaluate a 3-D HermiteE series on the Cartesian product of x, y, and z.\n",
      "numpy.polynomial.hermite_e.hermeweight\n",
      "    Weight function of the Hermite_e polynomials.\n",
      "numpy.polynomial.laguerre.lagcompanion\n",
      "    Return the companion matrix of c.\n",
      "numpy.distutils.ccompiler.CCompiler_spawn\n",
      "    Execute a command in a sub-process.\n",
      "numpy.polynomial.legendre.legcompanion\n",
      "    Return the scaled companion matrix of c.\n",
      "numpy.polynomial.polynomial.polygrid2d\n",
      "    Evaluate a 2-D polynomial on the Cartesian product of x and y.\n",
      "numpy.polynomial.polynomial.polygrid3d\n",
      "    Evaluate a 3-D polynomial on the Cartesian product of x, y and z.\n",
      "numpy.distutils.fcompiler.absoft.AbsoftFCompiler.library_dir_option\n",
      "    Return the compiler option to add 'dir' to the list of\n",
      "numpy.random.Generator.standard_normal\n",
      "    Draw samples from a standard Normal distribution (mean=0, stdev=1).\n",
      "numpy.random.RandomState.random_sample\n",
      "    Return random floats in the half-open interval [0.0, 1.0).\n",
      "numpy.core._multiarray_umath.busday_offset\n",
      "    First adjusts the date to fall on a valid day according to\n",
      "numpy.core._multiarray_umath.unravel_index\n",
      "    Converts a flat index or array of flat indices into a tuple\n",
      "numpy.testing.suppress_warnings.record\n",
      "    Append a new recording filter or apply it if the state is entered.\n",
      "numpy.polynomial.chebyshev.chebvander2d\n",
      "    Pseudo-Vandermonde matrix of given degrees.\n",
      "numpy.polynomial.chebyshev.chebvander3d\n",
      "    Pseudo-Vandermonde matrix of given degrees.\n",
      "numpy.polynomial.chebyshev.chebcompanion\n",
      "    Return the scaled companion matrix of c.\n",
      "numpy.polynomial.hermite_e.hermevander2d\n",
      "    Pseudo-Vandermonde matrix of given degrees.\n",
      "numpy.distutils.ccompiler.CCompiler_compile\n",
      "    Compile one or more source files.\n",
      "numpy.polynomial.hermite_e.hermevander3d\n",
      "    Pseudo-Vandermonde matrix of given degrees.\n",
      "numpy.polynomial.polynomial.polyvander3d\n",
      "    Pseudo-Vandermonde matrix of given degrees.\n",
      "numpy.random.RandomState.standard_normal\n",
      "    Draw samples from a standard Normal distribution (mean=0, stdev=1).\n",
      "numpy.core._multiarray_umath.min_scalar_type\n",
      "    min_scalar_type(a)\n",
      "numpy.distutils.fcompiler.sun.SunFCompiler.runtime_library_dir_option\n",
      "    Return the compiler option to add 'dir' to the list of\n",
      "numpy.polynomial.hermite_e.hermecompanion\n",
      "    Return the scaled companion matrix of c.\n",
      "numpy.polynomial.chebyshev.chebinterpolate\n",
      "    Interpolate a function at the Chebyshev points of the first kind.\n",
      "numpy.random.Generator.multivariate_normal\n",
      "    Draw random samples from a multivariate normal distribution.\n",
      "numpy.distutils.fcompiler.gnu.Gnu95FCompiler.runtime_library_dir_option\n",
      "    Return the compiler option to add 'dir' to the list of\n",
      "numpy.core._multiarray_umath.ravel_multi_index\n",
      "    Converts a tuple of index arrays into an array of flat\n",
      "numpy.distutils.fcompiler.pg.PGroupFCompiler.runtime_library_dir_option\n",
      "    Return the compiler option to add 'dir' to the list of\n",
      "numpy.lib.tests.test_mixins.ArrayLike\n",
      "    Mixin defining all operator special methods using __array_ufunc__.\n",
      "numpy.polynomial.Chebyshev._get_coefficients\n",
      "    Interpret other as polynomial coefficients.\n",
      "numpy.distutils.fcompiler.FCompiler.link\n",
      "    Link a bunch of stuff together to create an executable or\n",
      "numpy.polynomial.polynomial.polyvalfromroots\n",
      "    Evaluate a polynomial specified by its roots at points x.\n",
      "numpy.core._multiarray_umath.normalize_axis_index\n",
      "    Normalizes an axis index, `axis`, such that is a valid positive index into\n",
      "numpy.distutils.fcompiler.pg.PGroupFlangCompiler.runtime_library_dir_option\n",
      "    Return the compiler option to add 'dir' to the list of\n",
      "numpy.distutils.fcompiler.intel.BaseIntelFCompiler.runtime_library_dir_option\n",
      "    Return the compiler option to add 'dir' to the list of\n",
      "numpy.distutils.fcompiler.FCompiler.preprocess\n",
      "    Preprocess a single C/C++ source file, named in 'source'.\n",
      "numpy.random.Generator.multivariate_hypergeometric\n",
      "    multivariate_hypergeometric(colors, nsample, size=None,\n",
      "numpy.testing._private.nosetester.NoseTester\n",
      "    Nose test runner.\n",
      "numpy.distutils.intelccompiler.IntelCCompiler.link\n",
      "    Link a bunch of stuff together to create an executable or\n",
      "numpy.distutils.fcompiler.intel.IntelEM64VisualFCompiler.runtime_library_dir_option\n",
      "    Return the compiler option to add 'dir' to the list of\n",
      "numpy.distutils.intelccompiler.IntelCCompilerW.link\n",
      "    Link a bunch of stuff together to create an executable or\n",
      "numpy.distutils.misc_util.Configuration.add_npy_pkg_config\n",
      "    Generate and install a npy-pkg config file from a template.\n",
      "numpy.distutils.fcompiler.FCompiler.create_static_lib\n",
      "    Link a bunch of stuff together to create a static library file.\n",
      "numpy.distutils.system_info.blas_info.get_cblas_libs\n",
      "    Check whether we can link with CBLAS interface\n",
      "numpy.testing._private.parameterized.parameterized\n",
      "    Parameterize a test case::\n",
      "numpy.distutils.intelccompiler.IntelCCompiler.preprocess\n",
      "    Preprocess a single C/C++ source file, named in 'source'.\n",
      "numpy.random.tests.test_random.TestRandint.rfunc\n",
      "    Return random integers from `low` (inclusive) to `high` (exclusive).\n",
      "numpy.distutils.intelccompiler.IntelCCompilerW.create_static_lib\n",
      "    Link a bunch of stuff together to create a static library file.\n",
      "numpy.testing._private.parameterized.parameterized_argument_value_pairs\n",
      "    Return tuples of parameterized arguments and their values."
     ]
    }
   ],
   "source": [
    "#Exercise 5\n",
    "np.lookfor('add')"
   ]
  },
  {
   "cell_type": "code",
   "execution_count": 32,
   "metadata": {},
   "outputs": [
    {
     "name": "stdout",
     "output_type": "stream",
     "text": [
      "[0. 0. 0. 0. 1. 0. 0. 0. 0. 0.]\n"
     ]
    }
   ],
   "source": [
    "#Exercise 6\n",
    "\n",
    "x = np.zeros(10)\n",
    "\n",
    "x[4]= 1\n",
    " \n",
    "print(x)\n",
    "\n",
    "\n"
   ]
  },
  {
   "cell_type": "code",
   "execution_count": 44,
   "metadata": {},
   "outputs": [
    {
     "name": "stdout",
     "output_type": "stream",
     "text": [
      "[10 11 12 13 14 15 16 17 18 19 20 21 22 23 24 25 26 27 28 29 30 31 32 33\n",
      " 34 35 36 37 38 39]\n"
     ]
    }
   ],
   "source": [
    "#Exercise 7\n",
    "import numpy as np\n",
    "\n",
    "x = np.arange(30)\n",
    "b = x+10\n",
    "\n",
    "print(b)"
   ]
  },
  {
   "cell_type": "code",
   "execution_count": 54,
   "metadata": {},
   "outputs": [
    {
     "name": "stdout",
     "output_type": "stream",
     "text": [
      "[29 28 27 26 25 24 23 22 21 20 19 18 17 16 15 14 13 12 11 10  9  8  7  6\n",
      "  5  4  3  2  1  0]\n"
     ]
    }
   ],
   "source": [
    "#Exercise 8\n",
    "\n",
    "\n",
    "x = np.arange(30)\n",
    "b= np.flip(x, axis=None)\n",
    "print(b)"
   ]
  },
  {
   "cell_type": "code",
   "execution_count": 57,
   "metadata": {},
   "outputs": [
    {
     "name": "stdout",
     "output_type": "stream",
     "text": [
      "[[0 1 2]\n",
      " [3 4 5]\n",
      " [6 7 8]]\n"
     ]
    }
   ],
   "source": [
    "#Exercise 9\n",
    "\n",
    "b= np.arange(9)\n",
    "\n",
    "b = b.reshape(3,3)\n",
    "print(b)"
   ]
  },
  {
   "cell_type": "code",
   "execution_count": 58,
   "metadata": {},
   "outputs": [
    {
     "name": "stdout",
     "output_type": "stream",
     "text": [
      "[0 1 4]\n"
     ]
    }
   ],
   "source": [
    "#Exercise 10\n",
    "\n",
    "x = np.array([1,2,0,0,4,0])\n",
    "x =np.where(x != 0)[0]\n",
    "print(x)\n"
   ]
  },
  {
   "cell_type": "code",
   "execution_count": 61,
   "metadata": {},
   "outputs": [
    {
     "name": "stdout",
     "output_type": "stream",
     "text": [
      "[[1 2 3]\n",
      " [4 5 6]]\n"
     ]
    }
   ],
   "source": [
    "#Exercise 11\n",
    "\n",
    "x =np.array([[1,2,3],[4,5,6],[7,8,9]])\n",
    "print(x)"
   ]
  },
  {
   "cell_type": "code",
   "execution_count": 62,
   "metadata": {},
   "outputs": [
    {
     "name": "stdout",
     "output_type": "stream",
     "text": [
      "[[ 0.54887663  0.42772855  1.42969035]\n",
      " [-1.91424818 -1.26096627  1.53121951]\n",
      " [-1.12743211  1.63896889 -0.76494006]]\n"
     ]
    }
   ],
   "source": [
    "#Exercise 12\n",
    "x = np.random.normal(size=(3,3))\n",
    "\n",
    "print(x)"
   ]
  },
  {
   "cell_type": "code",
   "execution_count": 2,
   "metadata": {},
   "outputs": [
    {
     "name": "stdout",
     "output_type": "stream",
     "text": [
      "[[-0.06500628 -0.5064209  -0.03557808 -0.64843879  0.22020327 -0.49244278\n",
      "  -1.14191758  0.0959376   0.15187091  0.51842604]\n",
      " [ 0.65249045  0.99817446  1.58816301  0.42515446 -0.53098766  0.18092288\n",
      "  -0.47012734  0.93224088 -0.8391895  -0.80079903]\n",
      " [ 0.05333547  0.95168882 -0.61604009  0.74603659 -1.26631444 -0.06481809\n",
      "  -0.00667271 -2.12749573  2.40632813  0.67400167]\n",
      " [-0.32969202 -0.64519411  0.72418448  1.43483742 -1.19750816 -0.89876686\n",
      "   0.54573358 -1.08428805  1.95694205  1.03733853]\n",
      " [ 2.67712677 -1.21713203  0.78775604  0.89543243  0.84573039 -0.03280022\n",
      "  -0.40531658 -0.35683405  0.38589093  1.08425487]\n",
      " [ 1.20769232  0.70021475  1.92531814 -0.66523847  1.3088169  -0.96192083\n",
      "  -0.13680255 -0.83463534  0.46403022  0.84733424]\n",
      " [ 0.40906467  1.1259352   0.04898639  0.39019746  1.18028551 -0.87876664\n",
      "   0.37672311  0.53442943  0.36467188  1.59997495]\n",
      " [-0.90161641 -1.60086864  0.28685643  1.05241917  1.51357884  0.37827419\n",
      "   0.85926787  0.77903337  1.91073671  0.73607567]\n",
      " [-0.10660316 -0.50360022 -1.24541001 -1.64736086  0.13811822  0.11310139\n",
      "  -1.69440524 -1.1501763   0.21855336 -0.89396029]\n",
      " [ 0.1030537   0.74414722 -0.37438862 -0.66684723  1.61004696 -0.23457346\n",
      "   2.84972682  1.83031239  0.70634616 -1.27936768]]\n",
      "2.8497268164577125\n",
      "-2.1274957323801122\n"
     ]
    }
   ],
   "source": [
    "#Exercise 13\n",
    "x = np.random.normal(size=(10,10))\n",
    "max = np.amax(x)\n",
    "min = np.amin(x)\n",
    "\n",
    "print(x)\n",
    "print(max)\n",
    "print(min)"
   ]
  },
  {
   "cell_type": "code",
   "execution_count": 65,
   "metadata": {},
   "outputs": [
    {
     "name": "stdout",
     "output_type": "stream",
     "text": [
      "[[ 0.21110534  0.52402134  1.10790033 -0.11059566 -0.68493844 -0.38115562\n",
      "   0.72601881  0.39203328 -0.92085598  1.35985984 -0.88733708  1.31737704\n",
      "  -1.43553995 -1.60202703 -0.17503191 -0.15301962  0.79122579 -0.63429549\n",
      "   0.58633201  0.31258842 -0.08185647 -0.78571689  0.03070938 -1.66808457\n",
      "   0.32014262  1.3255798  -0.08831546  0.35838836  2.37650039 -0.49674082]]\n",
      "0.3542079120574748\n"
     ]
    }
   ],
   "source": [
    "#Exercise 14\n",
    "x = np.random.normal(size=(1,30))\n",
    "max = np.amax(x)\n",
    "min = np.amin(x)\n",
    "\n",
    "\n",
    "print(x)\n",
    "print((max + min)/2)"
   ]
  },
  {
   "cell_type": "code",
   "execution_count": 3,
   "metadata": {},
   "outputs": [
    {
     "name": "stdout",
     "output_type": "stream",
     "text": [
      "[[1. 1. 1. 1. 1. 1. 1. 1. 1. 1.]\n",
      " [1. 0. 0. 0. 0. 0. 0. 0. 0. 1.]\n",
      " [1. 0. 0. 0. 0. 0. 0. 0. 0. 1.]\n",
      " [1. 0. 0. 0. 0. 0. 0. 0. 0. 1.]\n",
      " [1. 0. 0. 0. 0. 0. 0. 0. 0. 1.]\n",
      " [1. 0. 0. 0. 0. 0. 0. 0. 0. 1.]\n",
      " [1. 0. 0. 0. 0. 0. 0. 0. 0. 1.]\n",
      " [1. 0. 0. 0. 0. 0. 0. 0. 0. 1.]\n",
      " [1. 0. 0. 0. 0. 0. 0. 0. 0. 1.]\n",
      " [1. 1. 1. 1. 1. 1. 1. 1. 1. 1.]]\n"
     ]
    }
   ],
   "source": [
    "#Exercise 15\n",
    "Z = np.ones((10,10))\n",
    "Z[1:-1,1:-1] = 0\n",
    "print(Z)"
   ]
  },
  {
   "cell_type": "code",
   "execution_count": 5,
   "metadata": {},
   "outputs": [
    {
     "name": "stdout",
     "output_type": "stream",
     "text": [
      "[[0. 0. 0. 0. 0. 0. 0.]\n",
      " [0. 1. 1. 1. 1. 1. 0.]\n",
      " [0. 1. 1. 1. 1. 1. 0.]\n",
      " [0. 1. 1. 1. 1. 1. 0.]\n",
      " [0. 1. 1. 1. 1. 1. 0.]\n",
      " [0. 1. 1. 1. 1. 1. 0.]\n",
      " [0. 0. 0. 0. 0. 0. 0.]]\n"
     ]
    }
   ],
   "source": [
    "#Exercise 16 . This one I did not fully understand the question\n",
    "\n",
    "Z = np.ones((5,5))\n",
    "Z = np.pad(Z, pad_width=1, mode='constant', constant_values=0)\n",
    "print(Z)\n"
   ]
  },
  {
   "cell_type": "code",
   "execution_count": 6,
   "metadata": {},
   "outputs": [
    {
     "name": "stdout",
     "output_type": "stream",
     "text": [
      "nan\n",
      "False\n",
      "False\n",
      "nan\n",
      "True\n",
      "False\n"
     ]
    }
   ],
   "source": [
    "#Exercise 17\n",
    "print(0*np.nan)\n",
    "print(np.nan == np.nan)\n",
    "print(np.inf > np.nan)\n",
    "print(np.nan - np.nan)\n",
    "print(np.nan in set([np.nan]))\n",
    "print(0.3 == 3 * 0.1)"
   ]
  },
  {
   "cell_type": "code",
   "execution_count": 7,
   "metadata": {},
   "outputs": [
    {
     "name": "stdout",
     "output_type": "stream",
     "text": [
      "[[0 0 0 0 0]\n",
      " [1 0 0 0 0]\n",
      " [0 2 0 0 0]\n",
      " [0 0 3 0 0]\n",
      " [0 0 0 4 0]]\n"
     ]
    }
   ],
   "source": [
    "#Exercise 18\n",
    "Z = np.diag(1+np.arange(4),k=-1)\n",
    "print(Z)"
   ]
  },
  {
   "cell_type": "code",
   "execution_count": 8,
   "metadata": {},
   "outputs": [
    {
     "name": "stdout",
     "output_type": "stream",
     "text": [
      "[[0 1 0 1 0 1 0 1]\n",
      " [1 0 1 0 1 0 1 0]\n",
      " [0 1 0 1 0 1 0 1]\n",
      " [1 0 1 0 1 0 1 0]\n",
      " [0 1 0 1 0 1 0 1]\n",
      " [1 0 1 0 1 0 1 0]\n",
      " [0 1 0 1 0 1 0 1]\n",
      " [1 0 1 0 1 0 1 0]]\n"
     ]
    }
   ],
   "source": [
    "#Exercise 19 - ask why <\n",
    "\n",
    "Z = np.zeros((8,8),dtype=int)\n",
    "Z[1::2,::2] = 1\n",
    "Z[::2,1::2] = 1\n",
    "print(Z)"
   ]
  },
  {
   "cell_type": "code",
   "execution_count": 10,
   "metadata": {},
   "outputs": [
    {
     "name": "stdout",
     "output_type": "stream",
     "text": [
      "[[[  0   1   2   3   4   5   6   7]\n",
      "  [  8   9  10  11  12  13  14  15]\n",
      "  [ 16  17  18  19  20  21  22  23]\n",
      "  [ 24  25  26  27  28  29  30  31]\n",
      "  [ 32  33  34  35  36  37  38  39]\n",
      "  [ 40  41  42  43  44  45  46  47]\n",
      "  [ 48  49  50  51  52  53  54  55]]\n",
      "\n",
      " [[ 56  57  58  59  60  61  62  63]\n",
      "  [ 64  65  66  67  68  69  70  71]\n",
      "  [ 72  73  74  75  76  77  78  79]\n",
      "  [ 80  81  82  83  84  85  86  87]\n",
      "  [ 88  89  90  91  92  93  94  95]\n",
      "  [ 96  97  98  99 100 101 102 103]\n",
      "  [104 105 106 107 108 109 110 111]]\n",
      "\n",
      " [[112 113 114 115 116 117 118 119]\n",
      "  [120 121 122 123 124 125 126 127]\n",
      "  [128 129 130 131 132 133 134 135]\n",
      "  [136 137 138 139 140 141 142 143]\n",
      "  [144 145 146 147 148 149 150 151]\n",
      "  [152 153 154 155 156 157 158 159]\n",
      "  [160 161 162 163 164 165 166 167]]\n",
      "\n",
      " [[168 169 170 171 172 173 174 175]\n",
      "  [176 177 178 179 180 181 182 183]\n",
      "  [184 185 186 187 188 189 190 191]\n",
      "  [192 193 194 195 196 197 198 199]\n",
      "  [200 201 202 203 204 205 206 207]\n",
      "  [208 209 210 211 212 213 214 215]\n",
      "  [216 217 218 219 220 221 222 223]]\n",
      "\n",
      " [[224 225 226 227 228 229 230 231]\n",
      "  [232 233 234 235 236 237 238 239]\n",
      "  [240 241 242 243 244 245 246 247]\n",
      "  [248 249 250 251 252 253 254 255]\n",
      "  [256 257 258 259 260 261 262 263]\n",
      "  [264 265 266 267 268 269 270 271]\n",
      "  [272 273 274 275 276 277 278 279]]\n",
      "\n",
      " [[280 281 282 283 284 285 286 287]\n",
      "  [288 289 290 291 292 293 294 295]\n",
      "  [296 297 298 299 300 301 302 303]\n",
      "  [304 305 306 307 308 309 310 311]\n",
      "  [312 313 314 315 316 317 318 319]\n",
      "  [320 321 322 323 324 325 326 327]\n",
      "  [328 329 330 331 332 333 334 335]]]\n",
      "(array([1], dtype=int64), array([5], dtype=int64), array([4], dtype=int64))\n"
     ]
    }
   ],
   "source": [
    "#Exercise 20\n",
    "x = np.arange(336)\n",
    "x = x.reshape(6,7,8)\n",
    "result = np.where(x == 100)\n",
    "\n",
    "print(x)\n",
    "print(result)"
   ]
  },
  {
   "cell_type": "code",
   "execution_count": 11,
   "metadata": {},
   "outputs": [
    {
     "name": "stdout",
     "output_type": "stream",
     "text": [
      "[[0 1 0 1 0 1 0 1]\n",
      " [1 0 1 0 1 0 1 0]\n",
      " [0 1 0 1 0 1 0 1]\n",
      " [1 0 1 0 1 0 1 0]\n",
      " [0 1 0 1 0 1 0 1]\n",
      " [1 0 1 0 1 0 1 0]\n",
      " [0 1 0 1 0 1 0 1]\n",
      " [1 0 1 0 1 0 1 0]]\n"
     ]
    }
   ],
   "source": [
    "#Exercise 21\n",
    "#arr1 = np.arange(2) \n",
    "#x1 = np.tile(arr1, 4)\n",
    "\n",
    "#arr2 = np.array([1,0]) \n",
    "#x2 = np.tile(arr2, 4)\n",
    "\n",
    "#print(x1)\n",
    "#print(x2)\n",
    "#print(x1)\n",
    "#print(x2)\n",
    "#print(x1)\n",
    "#print(x2)\n",
    "#print(x1)\n",
    "#print(x2)\n",
    "\n",
    "\n",
    "Z = np.tile( np.array([[0,1],[1,0]]), (4,4))\n",
    "print(Z)"
   ]
  },
  {
   "cell_type": "code",
   "execution_count": 12,
   "metadata": {},
   "outputs": [
    {
     "name": "stdout",
     "output_type": "stream",
     "text": [
      "[[-0.91710421  0.24836595  1.73470144  0.2899409   0.75431426]\n",
      " [-1.62564889  0.0111851   1.49966753 -0.41915272  0.02689461]\n",
      " [ 0.44230641  1.14688662 -0.1212937   1.41601138 -1.12227868]\n",
      " [-1.35877399  1.25588095  0.08737604 -1.60345084 -1.55659216]\n",
      " [-0.69816233  0.22491807 -0.03073341  1.04132636 -0.72658467]]\n"
     ]
    }
   ],
   "source": [
    "#Exercise 22\n",
    "#22. Normalize a 5x5 random matrix \n",
    "Z = np.random.random((5,5))\n",
    "Z = (Z - np.mean (Z)) / (np.std (Z))\n",
    "print(Z)\n"
   ]
  },
  {
   "cell_type": "code",
   "execution_count": 13,
   "metadata": {},
   "outputs": [
    {
     "name": "stderr",
     "output_type": "stream",
     "text": [
      "<ipython-input-13-b9f1a6f5df9c>:1: FutureWarning: Passing (type, 1) or '1type' as a synonym of type is deprecated; in a future version of numpy, it will be understood as (type, (1,)) / '(1,)type'.\n",
      "  color = np.dtype([(\"r\", np.ubyte, 1),\n"
     ]
    }
   ],
   "source": [
    "color = np.dtype([(\"r\", np.ubyte, 1),\n",
    "                  (\"g\", np.ubyte, 1),\n",
    "                  (\"b\", np.ubyte, 1),\n",
    "                  (\"a\", np.ubyte, 1)])"
   ]
  },
  {
   "cell_type": "code",
   "execution_count": 1,
   "metadata": {},
   "outputs": [],
   "source": [
    "#Exercise 24 - Assignment not clear"
   ]
  },
  {
   "cell_type": "code",
   "execution_count": 4,
   "metadata": {},
   "outputs": [
    {
     "name": "stdout",
     "output_type": "stream",
     "text": [
      "[[-1.08968901 -3.83015754]\n",
      " [ 2.15407449  2.37811969]\n",
      " [-0.83975158 -0.41813823]\n",
      " [ 1.38850553 -5.79326604]\n",
      " [-0.01091719 -4.52746356]]\n"
     ]
    }
   ],
   "source": [
    "#Exercise 25\n",
    "\n",
    "x = np.random.normal(size=(5,3))\n",
    "x2 = np.random.normal(size=(3,2))\n",
    "\n",
    "print(np.dot(x,x2))"
   ]
  },
  {
   "cell_type": "code",
   "execution_count": 5,
   "metadata": {},
   "outputs": [
    {
     "name": "stdout",
     "output_type": "stream",
     "text": [
      "9\n",
      "10\n"
     ]
    }
   ],
   "source": [
    "#Ex. 26\n",
    "print(sum(range(5),-1))\n",
    "from numpy import *\n",
    "print(sum(range(5),-1))"
   ]
  },
  {
   "cell_type": "code",
   "execution_count": 11,
   "metadata": {},
   "outputs": [
    {
     "data": {
      "text/plain": [
       "False"
      ]
     },
     "execution_count": 11,
     "metadata": {},
     "output_type": "execute_result"
    }
   ],
   "source": [
    "#Ex. 27\n",
    "Z = 2\n",
    "\n",
    "#Z**Z\n",
    "#2 << Z >> 2\n",
    "#Z <- Z\n",
    "#1j*Z\n",
    "#Z/1/1\n",
    "#Z<Z>Z\n",
    "\n",
    "#what do you mean by legal? they all work"
   ]
  },
  {
   "cell_type": "code",
   "execution_count": 15,
   "metadata": {},
   "outputs": [
    {
     "name": "stderr",
     "output_type": "stream",
     "text": [
      "<ipython-input-15-796f86c3c15d>:2: RuntimeWarning: invalid value encountered in true_divide\n",
      "  np.array(0) / np.array(0)\n",
      "<ipython-input-15-796f86c3c15d>:3: RuntimeWarning: divide by zero encountered in floor_divide\n",
      "  np.array(0) // np.array(0)\n"
     ]
    },
    {
     "data": {
      "text/plain": [
       "array([-2.14748365e+09])"
      ]
     },
     "execution_count": 15,
     "metadata": {},
     "output_type": "execute_result"
    }
   ],
   "source": [
    "#Ex.28\n",
    "np.array(0) / np.array(0)\n",
    "np.array(0) // np.array(0)\n",
    "np.array([np.nan]).astype(int).astype(float)"
   ]
  },
  {
   "cell_type": "code",
   "execution_count": 16,
   "metadata": {},
   "outputs": [],
   "source": [
    "#Ex. 29 Not understood"
   ]
  },
  {
   "cell_type": "code",
   "execution_count": 17,
   "metadata": {},
   "outputs": [
    {
     "data": {
      "text/plain": [
       "array([1, 3])"
      ]
     },
     "execution_count": 17,
     "metadata": {},
     "output_type": "execute_result"
    }
   ],
   "source": [
    "#Ex. 30\n",
    "np.intersect1d([1, 3, 4, 3], [3, 1, 2, 1])"
   ]
  },
  {
   "cell_type": "code",
   "execution_count": 18,
   "metadata": {},
   "outputs": [
    {
     "data": {
      "text/plain": [
       "{'divide': 'warn', 'over': 'warn', 'under': 'ignore', 'invalid': 'warn'}"
      ]
     },
     "execution_count": 18,
     "metadata": {},
     "output_type": "execute_result"
    }
   ],
   "source": [
    "#Ex.31\n",
    "np.seterr(all='ignore')\n"
   ]
  },
  {
   "cell_type": "code",
   "execution_count": 19,
   "metadata": {},
   "outputs": [
    {
     "data": {
      "text/plain": [
       "False"
      ]
     },
     "execution_count": 19,
     "metadata": {},
     "output_type": "execute_result"
    }
   ],
   "source": [
    "#Ex.32\n",
    "np.sqrt(-1) == np.emath.sqrt(-1)"
   ]
  },
  {
   "cell_type": "code",
   "execution_count": 21,
   "metadata": {},
   "outputs": [
    {
     "name": "stdout",
     "output_type": "stream",
     "text": [
      "Today:  2021-01-06\n"
     ]
    }
   ],
   "source": [
    "#Ex. 33\n",
    "today     = np.datetime64('today', 'D')\n",
    "print(\"Today: \",today)"
   ]
  },
  {
   "cell_type": "code",
   "execution_count": 24,
   "metadata": {},
   "outputs": [],
   "source": [
    "#Ex.34\n"
   ]
  },
  {
   "cell_type": "code",
   "execution_count": 25,
   "metadata": {},
   "outputs": [],
   "source": [
    "#Ex.35 Not understood"
   ]
  },
  {
   "cell_type": "code",
   "execution_count": 4,
   "metadata": {},
   "outputs": [
    {
     "name": "stdout",
     "output_type": "stream",
     "text": [
      "[[ 1 -1  0  1  0]\n",
      " [ 1  0  0  0  0]\n",
      " [ 0  1  1 -2  0]\n",
      " [ 0 -1  0  0  0]\n",
      " [ 0  0 -1  0  0]]\n"
     ]
    }
   ],
   "source": [
    "#Ex.36\n",
    "x = np.random.normal(size=(5,5))\n",
    "\n",
    "x = x.astype(int)\n",
    "print(x)\n"
   ]
  },
  {
   "cell_type": "code",
   "execution_count": null,
   "metadata": {},
   "outputs": [],
   "source": []
  },
  {
   "cell_type": "code",
   "execution_count": 13,
   "metadata": {},
   "outputs": [
    {
     "name": "stdout",
     "output_type": "stream",
     "text": [
      "[[0. 1. 2. 3. 4.]\n",
      " [0. 1. 2. 3. 4.]\n",
      " [0. 1. 2. 3. 4.]\n",
      " [0. 1. 2. 3. 4.]\n",
      " [0. 1. 2. 3. 4.]]\n"
     ]
    }
   ],
   "source": [
    "#Ex. 37\n",
    "x = np.zeros((5,5))\n",
    "x += np.arange(5)\n",
    "print(x)"
   ]
  },
  {
   "cell_type": "code",
   "execution_count": 14,
   "metadata": {},
   "outputs": [
    {
     "data": {
      "text/plain": [
       "array([ 0,  1,  4,  9, 16, 25, 36, 49, 64, 81])"
      ]
     },
     "execution_count": 14,
     "metadata": {},
     "output_type": "execute_result"
    }
   ],
   "source": [
    "#Ex. 38\n",
    "iterable = (a*a for a in range(10))\n",
    "np.fromiter(iterable, int)"
   ]
  },
  {
   "cell_type": "code",
   "execution_count": 23,
   "metadata": {},
   "outputs": [
    {
     "data": {
      "text/plain": [
       "array([0.1 , 0.19, 0.28, 0.37, 0.46, 0.55, 0.64, 0.73, 0.82, 0.91])"
      ]
     },
     "execution_count": 23,
     "metadata": {},
     "output_type": "execute_result"
    }
   ],
   "source": [
    "#Ex. 39\n",
    "np.linspace(0.1, 1, num=10 ,endpoint=False)"
   ]
  },
  {
   "cell_type": "code",
   "execution_count": 24,
   "metadata": {},
   "outputs": [
    {
     "data": {
      "text/plain": [
       "array([-0.83965827, -0.64459081, -0.48512512, -0.18657653,  0.22006425,\n",
       "        0.3443278 ,  0.53259613,  0.61681702,  0.78233544,  1.79873973])"
      ]
     },
     "execution_count": 24,
     "metadata": {},
     "output_type": "execute_result"
    }
   ],
   "source": [
    "#ex.40\n",
    "x = np.random.normal(size=(10))\n",
    "np.sort(x)"
   ]
  },
  {
   "cell_type": "code",
   "execution_count": 26,
   "metadata": {},
   "outputs": [
    {
     "data": {
      "text/plain": [
       "array([2, 4])"
      ]
     },
     "execution_count": 26,
     "metadata": {},
     "output_type": "execute_result"
    }
   ],
   "source": [
    "#Ex.41\n",
    "a = np.arange(4).reshape(2, 2) \n",
    "np.add.reduce(a) "
   ]
  },
  {
   "cell_type": "code",
   "execution_count": 27,
   "metadata": {},
   "outputs": [
    {
     "data": {
      "text/plain": [
       "False"
      ]
     },
     "execution_count": 27,
     "metadata": {},
     "output_type": "execute_result"
    }
   ],
   "source": [
    "#Ex.42\n",
    "np.array_equal(x,a)"
   ]
  },
  {
   "cell_type": "code",
   "execution_count": 28,
   "metadata": {},
   "outputs": [],
   "source": [
    "#Ex.43\n",
    "a.flags.writeable=False"
   ]
  },
  {
   "cell_type": "code",
   "execution_count": null,
   "metadata": {},
   "outputs": [],
   "source": [
    "#Ex.44\n"
   ]
  }
 ],
 "metadata": {
  "kernelspec": {
   "display_name": "Python 3",
   "language": "python",
   "name": "python3"
  },
  "language_info": {
   "codemirror_mode": {
    "name": "ipython",
    "version": 3
   },
   "file_extension": ".py",
   "mimetype": "text/x-python",
   "name": "python",
   "nbconvert_exporter": "python",
   "pygments_lexer": "ipython3",
   "version": "3.8.5"
  }
 },
 "nbformat": 4,
 "nbformat_minor": 4
}

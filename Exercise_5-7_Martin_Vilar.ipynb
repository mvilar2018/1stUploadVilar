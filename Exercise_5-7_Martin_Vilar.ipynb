{
 "cells": [
  {
   "cell_type": "code",
   "execution_count": 10,
   "metadata": {},
   "outputs": [
    {
     "name": "stdout",
     "output_type": "stream",
     "text": [
      "0 = 0 **2 + 0 **2\n",
      "1 = 0 **2 + 1 **2\n",
      "4 = 0 **2 + 2 **2\n",
      "1 = 1 **2 + 0 **2\n",
      "2 = 1 **2 + 1 **2\n",
      "5 = 1 **2 + 2 **2\n",
      "4 = 2 **2 + 0 **2\n",
      "5 = 2 **2 + 1 **2\n",
      "8 = 2 **2 + 2 **2\n"
     ]
    }
   ],
   "source": [
    "def sum_squares(a,b):\n",
    "    for a in range (9):\n",
    "        for b in range(9):\n",
    "            for z in range (9):\n",
    "              if z == (a**2 + b**2):\n",
    "                print (z ,\"=\", a ,\"**2\" ,\"+\", b, \"**2\" )\n",
    "        \n",
    "    \n",
    "    \n",
    "sum_squares(2,3)"
   ]
  },
  {
   "cell_type": "code",
   "execution_count": null,
   "metadata": {},
   "outputs": [],
   "source": []
  }
 ],
 "metadata": {
  "kernelspec": {
   "display_name": "Python 3",
   "language": "python",
   "name": "python3"
  },
  "language_info": {
   "codemirror_mode": {
    "name": "ipython",
    "version": 3
   },
   "file_extension": ".py",
   "mimetype": "text/x-python",
   "name": "python",
   "nbconvert_exporter": "python",
   "pygments_lexer": "ipython3",
   "version": "3.8.3"
  }
 },
 "nbformat": 4,
 "nbformat_minor": 4
}

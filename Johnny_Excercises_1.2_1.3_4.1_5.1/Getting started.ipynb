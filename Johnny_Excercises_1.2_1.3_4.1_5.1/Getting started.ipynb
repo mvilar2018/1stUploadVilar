{
 "cells": [
  {
   "cell_type": "markdown",
   "metadata": {
    "cell_id": "3599f9d4-6666-4455-8015-de79af406f30",
    "deepnote_cell_type": "markdown"
   },
   "source": [
    "# Getting started\n",
    "\n",
    "👋 Welcome to Deepnote! Here is a short guide to get you started!"
   ]
  },
  {
   "cell_type": "markdown",
   "metadata": {
    "cell_id": "41e4c6df-c2a3-4f8e-b5eb-7a70ad671bce",
    "deepnote_cell_type": "markdown",
    "tags": []
   },
   "source": [
    "## 1. Execute a cell\n",
    "Let's run the code cell below by selecting it and clicking _Run_ in the right sidebar. You can also use the shortcut <kbd>Shift</kbd>+<kbd>Enter</kbd> to run it and move to the next cell."
   ]
  },
  {
   "cell_type": "code",
   "execution_count": 1,
   "metadata": {
    "cell_id": "0b9b7a2b-9e8b-458b-90e1-e03933d2c995",
    "deepnote_cell_type": "code",
    "execution_millis": 461,
    "execution_start": 1606916226029,
    "output_cleared": false,
    "source_hash": "a0f26adf",
    "tags": []
   },
   "outputs": [
    {
     "data": {
      "application/vnd.deepnote.dataframe.v2+json": {
       "column_count": 5,
       "columns": [
        {
         "dtype": "float64",
         "name": "sepal_length",
         "stats": {
          "histogram": [
           {
            "bin_end": 4.66,
            "bin_start": 4.3,
            "count": 9
           },
           {
            "bin_end": 5.02,
            "bin_start": 4.66,
            "count": 23
           },
           {
            "bin_end": 5.38,
            "bin_start": 5.02,
            "count": 14
           },
           {
            "bin_end": 5.74,
            "bin_start": 5.38,
            "count": 27
           },
           {
            "bin_end": 6.1,
            "bin_start": 5.74,
            "count": 16
           },
           {
            "bin_end": 6.46,
            "bin_start": 6.1,
            "count": 26
           },
           {
            "bin_end": 6.82,
            "bin_start": 6.46,
            "count": 18
           },
           {
            "bin_end": 7.18,
            "bin_start": 6.82,
            "count": 6
           },
           {
            "bin_end": 7.54,
            "bin_start": 7.18,
            "count": 5
           },
           {
            "bin_end": 7.9,
            "bin_start": 7.54,
            "count": 6
           }
          ],
          "max": 7.9,
          "min": 4.3,
          "nan_count": 0,
          "unique_count": 35
         }
        },
        {
         "dtype": "float64",
         "name": "sepal_width",
         "stats": {
          "histogram": [
           {
            "bin_end": 2.24,
            "bin_start": 2,
            "count": 4
           },
           {
            "bin_end": 2.48,
            "bin_start": 2.24,
            "count": 7
           },
           {
            "bin_end": 2.72,
            "bin_start": 2.48,
            "count": 22
           },
           {
            "bin_end": 2.96,
            "bin_start": 2.72,
            "count": 24
           },
           {
            "bin_end": 3.2,
            "bin_start": 2.96,
            "count": 37
           },
           {
            "bin_end": 3.4400000000000004,
            "bin_start": 3.2,
            "count": 31
           },
           {
            "bin_end": 3.6800000000000006,
            "bin_start": 3.4400000000000004,
            "count": 10
           },
           {
            "bin_end": 3.9200000000000004,
            "bin_start": 3.6800000000000006,
            "count": 11
           },
           {
            "bin_end": 4.16,
            "bin_start": 3.9200000000000004,
            "count": 2
           },
           {
            "bin_end": 4.4,
            "bin_start": 4.16,
            "count": 2
           }
          ],
          "max": 4.4,
          "min": 2,
          "nan_count": 0,
          "unique_count": 23
         }
        },
        {
         "dtype": "float64",
         "name": "petal_length",
         "stats": {
          "histogram": [
           {
            "bin_end": 1.59,
            "bin_start": 1,
            "count": 37
           },
           {
            "bin_end": 2.18,
            "bin_start": 1.59,
            "count": 13
           },
           {
            "bin_end": 2.7700000000000005,
            "bin_start": 2.18,
            "count": 0
           },
           {
            "bin_end": 3.3600000000000003,
            "bin_start": 2.7700000000000005,
            "count": 3
           },
           {
            "bin_end": 3.95,
            "bin_start": 3.3600000000000003,
            "count": 8
           },
           {
            "bin_end": 4.540000000000001,
            "bin_start": 3.95,
            "count": 26
           },
           {
            "bin_end": 5.130000000000001,
            "bin_start": 4.540000000000001,
            "count": 29
           },
           {
            "bin_end": 5.720000000000001,
            "bin_start": 5.130000000000001,
            "count": 18
           },
           {
            "bin_end": 6.3100000000000005,
            "bin_start": 5.720000000000001,
            "count": 11
           },
           {
            "bin_end": 6.9,
            "bin_start": 6.3100000000000005,
            "count": 5
           }
          ],
          "max": 6.9,
          "min": 1,
          "nan_count": 0,
          "unique_count": 43
         }
        },
        {
         "dtype": "float64",
         "name": "petal_width",
         "stats": {
          "histogram": [
           {
            "bin_end": 0.33999999999999997,
            "bin_start": 0.1,
            "count": 41
           },
           {
            "bin_end": 0.58,
            "bin_start": 0.33999999999999997,
            "count": 8
           },
           {
            "bin_end": 0.82,
            "bin_start": 0.58,
            "count": 1
           },
           {
            "bin_end": 1.06,
            "bin_start": 0.82,
            "count": 7
           },
           {
            "bin_end": 1.3,
            "bin_start": 1.06,
            "count": 8
           },
           {
            "bin_end": 1.54,
            "bin_start": 1.3,
            "count": 33
           },
           {
            "bin_end": 1.78,
            "bin_start": 1.54,
            "count": 6
           },
           {
            "bin_end": 2.02,
            "bin_start": 1.78,
            "count": 23
           },
           {
            "bin_end": 2.2600000000000002,
            "bin_start": 2.02,
            "count": 9
           },
           {
            "bin_end": 2.5,
            "bin_start": 2.2600000000000002,
            "count": 14
           }
          ],
          "max": 2.5,
          "min": 0.1,
          "nan_count": 0,
          "unique_count": 22
         }
        },
        {
         "dtype": "object",
         "name": "class",
         "stats": {
          "categories": [
           {
            "count": 50,
            "name": "0"
           },
           {
            "count": 50,
            "name": "1"
           },
           {
            "count": 50,
            "name": "2"
           }
          ],
          "nan_count": 0,
          "unique_count": 3
         }
        },
        {
         "dtype": "int64",
         "name": "_deepnote_index_column"
        }
       ],
       "row_count": 150,
       "rows_bottom": null,
       "rows_top": [
        {
         "_deepnote_index_column": 0,
         "class": "0",
         "petal_length": 1.4,
         "petal_width": 0.2,
         "sepal_length": 5.1,
         "sepal_width": 3.5
        },
        {
         "_deepnote_index_column": 1,
         "class": "0",
         "petal_length": 1.4,
         "petal_width": 0.2,
         "sepal_length": 4.9,
         "sepal_width": 3
        },
        {
         "_deepnote_index_column": 2,
         "class": "0",
         "petal_length": 1.3,
         "petal_width": 0.2,
         "sepal_length": 4.7,
         "sepal_width": 3.2
        },
        {
         "_deepnote_index_column": 3,
         "class": "0",
         "petal_length": 1.5,
         "petal_width": 0.2,
         "sepal_length": 4.6,
         "sepal_width": 3.1
        },
        {
         "_deepnote_index_column": 4,
         "class": "0",
         "petal_length": 1.4,
         "petal_width": 0.2,
         "sepal_length": 5,
         "sepal_width": 3.6
        },
        {
         "_deepnote_index_column": 5,
         "class": "0",
         "petal_length": 1.7,
         "petal_width": 0.4,
         "sepal_length": 5.4,
         "sepal_width": 3.9
        },
        {
         "_deepnote_index_column": 6,
         "class": "0",
         "petal_length": 1.4,
         "petal_width": 0.3,
         "sepal_length": 4.6,
         "sepal_width": 3.4
        },
        {
         "_deepnote_index_column": 7,
         "class": "0",
         "petal_length": 1.5,
         "petal_width": 0.2,
         "sepal_length": 5,
         "sepal_width": 3.4
        },
        {
         "_deepnote_index_column": 8,
         "class": "0",
         "petal_length": 1.4,
         "petal_width": 0.2,
         "sepal_length": 4.4,
         "sepal_width": 2.9
        },
        {
         "_deepnote_index_column": 9,
         "class": "0",
         "petal_length": 1.5,
         "petal_width": 0.1,
         "sepal_length": 4.9,
         "sepal_width": 3.1
        },
        {
         "_deepnote_index_column": 10,
         "class": "0",
         "petal_length": 1.5,
         "petal_width": 0.2,
         "sepal_length": 5.4,
         "sepal_width": 3.7
        },
        {
         "_deepnote_index_column": 11,
         "class": "0",
         "petal_length": 1.6,
         "petal_width": 0.2,
         "sepal_length": 4.8,
         "sepal_width": 3.4
        },
        {
         "_deepnote_index_column": 12,
         "class": "0",
         "petal_length": 1.4,
         "petal_width": 0.1,
         "sepal_length": 4.8,
         "sepal_width": 3
        },
        {
         "_deepnote_index_column": 13,
         "class": "0",
         "petal_length": 1.1,
         "petal_width": 0.1,
         "sepal_length": 4.3,
         "sepal_width": 3
        },
        {
         "_deepnote_index_column": 14,
         "class": "0",
         "petal_length": 1.2,
         "petal_width": 0.2,
         "sepal_length": 5.8,
         "sepal_width": 4
        },
        {
         "_deepnote_index_column": 15,
         "class": "0",
         "petal_length": 1.5,
         "petal_width": 0.4,
         "sepal_length": 5.7,
         "sepal_width": 4.4
        },
        {
         "_deepnote_index_column": 16,
         "class": "0",
         "petal_length": 1.3,
         "petal_width": 0.4,
         "sepal_length": 5.4,
         "sepal_width": 3.9
        },
        {
         "_deepnote_index_column": 17,
         "class": "0",
         "petal_length": 1.4,
         "petal_width": 0.3,
         "sepal_length": 5.1,
         "sepal_width": 3.5
        },
        {
         "_deepnote_index_column": 18,
         "class": "0",
         "petal_length": 1.7,
         "petal_width": 0.3,
         "sepal_length": 5.7,
         "sepal_width": 3.8
        },
        {
         "_deepnote_index_column": 19,
         "class": "0",
         "petal_length": 1.5,
         "petal_width": 0.3,
         "sepal_length": 5.1,
         "sepal_width": 3.8
        },
        {
         "_deepnote_index_column": 20,
         "class": "0",
         "petal_length": 1.7,
         "petal_width": 0.2,
         "sepal_length": 5.4,
         "sepal_width": 3.4
        },
        {
         "_deepnote_index_column": 21,
         "class": "0",
         "petal_length": 1.5,
         "petal_width": 0.4,
         "sepal_length": 5.1,
         "sepal_width": 3.7
        },
        {
         "_deepnote_index_column": 22,
         "class": "0",
         "petal_length": 1,
         "petal_width": 0.2,
         "sepal_length": 4.6,
         "sepal_width": 3.6
        },
        {
         "_deepnote_index_column": 23,
         "class": "0",
         "petal_length": 1.7,
         "petal_width": 0.5,
         "sepal_length": 5.1,
         "sepal_width": 3.3
        },
        {
         "_deepnote_index_column": 24,
         "class": "0",
         "petal_length": 1.9,
         "petal_width": 0.2,
         "sepal_length": 4.8,
         "sepal_width": 3.4
        },
        {
         "_deepnote_index_column": 25,
         "class": "0",
         "petal_length": 1.6,
         "petal_width": 0.2,
         "sepal_length": 5,
         "sepal_width": 3
        },
        {
         "_deepnote_index_column": 26,
         "class": "0",
         "petal_length": 1.6,
         "petal_width": 0.4,
         "sepal_length": 5,
         "sepal_width": 3.4
        },
        {
         "_deepnote_index_column": 27,
         "class": "0",
         "petal_length": 1.5,
         "petal_width": 0.2,
         "sepal_length": 5.2,
         "sepal_width": 3.5
        },
        {
         "_deepnote_index_column": 28,
         "class": "0",
         "petal_length": 1.4,
         "petal_width": 0.2,
         "sepal_length": 5.2,
         "sepal_width": 3.4
        },
        {
         "_deepnote_index_column": 29,
         "class": "0",
         "petal_length": 1.6,
         "petal_width": 0.2,
         "sepal_length": 4.7,
         "sepal_width": 3.2
        },
        {
         "_deepnote_index_column": 30,
         "class": "0",
         "petal_length": 1.6,
         "petal_width": 0.2,
         "sepal_length": 4.8,
         "sepal_width": 3.1
        },
        {
         "_deepnote_index_column": 31,
         "class": "0",
         "petal_length": 1.5,
         "petal_width": 0.4,
         "sepal_length": 5.4,
         "sepal_width": 3.4
        },
        {
         "_deepnote_index_column": 32,
         "class": "0",
         "petal_length": 1.5,
         "petal_width": 0.1,
         "sepal_length": 5.2,
         "sepal_width": 4.1
        },
        {
         "_deepnote_index_column": 33,
         "class": "0",
         "petal_length": 1.4,
         "petal_width": 0.2,
         "sepal_length": 5.5,
         "sepal_width": 4.2
        },
        {
         "_deepnote_index_column": 34,
         "class": "0",
         "petal_length": 1.5,
         "petal_width": 0.2,
         "sepal_length": 4.9,
         "sepal_width": 3.1
        },
        {
         "_deepnote_index_column": 35,
         "class": "0",
         "petal_length": 1.2,
         "petal_width": 0.2,
         "sepal_length": 5,
         "sepal_width": 3.2
        },
        {
         "_deepnote_index_column": 36,
         "class": "0",
         "petal_length": 1.3,
         "petal_width": 0.2,
         "sepal_length": 5.5,
         "sepal_width": 3.5
        },
        {
         "_deepnote_index_column": 37,
         "class": "0",
         "petal_length": 1.4,
         "petal_width": 0.1,
         "sepal_length": 4.9,
         "sepal_width": 3.6
        },
        {
         "_deepnote_index_column": 38,
         "class": "0",
         "petal_length": 1.3,
         "petal_width": 0.2,
         "sepal_length": 4.4,
         "sepal_width": 3
        },
        {
         "_deepnote_index_column": 39,
         "class": "0",
         "petal_length": 1.5,
         "petal_width": 0.2,
         "sepal_length": 5.1,
         "sepal_width": 3.4
        },
        {
         "_deepnote_index_column": 40,
         "class": "0",
         "petal_length": 1.3,
         "petal_width": 0.3,
         "sepal_length": 5,
         "sepal_width": 3.5
        },
        {
         "_deepnote_index_column": 41,
         "class": "0",
         "petal_length": 1.3,
         "petal_width": 0.3,
         "sepal_length": 4.5,
         "sepal_width": 2.3
        },
        {
         "_deepnote_index_column": 42,
         "class": "0",
         "petal_length": 1.3,
         "petal_width": 0.2,
         "sepal_length": 4.4,
         "sepal_width": 3.2
        },
        {
         "_deepnote_index_column": 43,
         "class": "0",
         "petal_length": 1.6,
         "petal_width": 0.6,
         "sepal_length": 5,
         "sepal_width": 3.5
        },
        {
         "_deepnote_index_column": 44,
         "class": "0",
         "petal_length": 1.9,
         "petal_width": 0.4,
         "sepal_length": 5.1,
         "sepal_width": 3.8
        },
        {
         "_deepnote_index_column": 45,
         "class": "0",
         "petal_length": 1.4,
         "petal_width": 0.3,
         "sepal_length": 4.8,
         "sepal_width": 3
        },
        {
         "_deepnote_index_column": 46,
         "class": "0",
         "petal_length": 1.6,
         "petal_width": 0.2,
         "sepal_length": 5.1,
         "sepal_width": 3.8
        },
        {
         "_deepnote_index_column": 47,
         "class": "0",
         "petal_length": 1.4,
         "petal_width": 0.2,
         "sepal_length": 4.6,
         "sepal_width": 3.2
        },
        {
         "_deepnote_index_column": 48,
         "class": "0",
         "petal_length": 1.5,
         "petal_width": 0.2,
         "sepal_length": 5.3,
         "sepal_width": 3.7
        },
        {
         "_deepnote_index_column": 49,
         "class": "0",
         "petal_length": 1.4,
         "petal_width": 0.2,
         "sepal_length": 5,
         "sepal_width": 3.3
        },
        {
         "_deepnote_index_column": 50,
         "class": "1",
         "petal_length": 4.7,
         "petal_width": 1.4,
         "sepal_length": 7,
         "sepal_width": 3.2
        },
        {
         "_deepnote_index_column": 51,
         "class": "1",
         "petal_length": 4.5,
         "petal_width": 1.5,
         "sepal_length": 6.4,
         "sepal_width": 3.2
        },
        {
         "_deepnote_index_column": 52,
         "class": "1",
         "petal_length": 4.9,
         "petal_width": 1.5,
         "sepal_length": 6.9,
         "sepal_width": 3.1
        },
        {
         "_deepnote_index_column": 53,
         "class": "1",
         "petal_length": 4,
         "petal_width": 1.3,
         "sepal_length": 5.5,
         "sepal_width": 2.3
        },
        {
         "_deepnote_index_column": 54,
         "class": "1",
         "petal_length": 4.6,
         "petal_width": 1.5,
         "sepal_length": 6.5,
         "sepal_width": 2.8
        },
        {
         "_deepnote_index_column": 55,
         "class": "1",
         "petal_length": 4.5,
         "petal_width": 1.3,
         "sepal_length": 5.7,
         "sepal_width": 2.8
        },
        {
         "_deepnote_index_column": 56,
         "class": "1",
         "petal_length": 4.7,
         "petal_width": 1.6,
         "sepal_length": 6.3,
         "sepal_width": 3.3
        },
        {
         "_deepnote_index_column": 57,
         "class": "1",
         "petal_length": 3.3,
         "petal_width": 1,
         "sepal_length": 4.9,
         "sepal_width": 2.4
        },
        {
         "_deepnote_index_column": 58,
         "class": "1",
         "petal_length": 4.6,
         "petal_width": 1.3,
         "sepal_length": 6.6,
         "sepal_width": 2.9
        },
        {
         "_deepnote_index_column": 59,
         "class": "1",
         "petal_length": 3.9,
         "petal_width": 1.4,
         "sepal_length": 5.2,
         "sepal_width": 2.7
        },
        {
         "_deepnote_index_column": 60,
         "class": "1",
         "petal_length": 3.5,
         "petal_width": 1,
         "sepal_length": 5,
         "sepal_width": 2
        },
        {
         "_deepnote_index_column": 61,
         "class": "1",
         "petal_length": 4.2,
         "petal_width": 1.5,
         "sepal_length": 5.9,
         "sepal_width": 3
        },
        {
         "_deepnote_index_column": 62,
         "class": "1",
         "petal_length": 4,
         "petal_width": 1,
         "sepal_length": 6,
         "sepal_width": 2.2
        },
        {
         "_deepnote_index_column": 63,
         "class": "1",
         "petal_length": 4.7,
         "petal_width": 1.4,
         "sepal_length": 6.1,
         "sepal_width": 2.9
        },
        {
         "_deepnote_index_column": 64,
         "class": "1",
         "petal_length": 3.6,
         "petal_width": 1.3,
         "sepal_length": 5.6,
         "sepal_width": 2.9
        },
        {
         "_deepnote_index_column": 65,
         "class": "1",
         "petal_length": 4.4,
         "petal_width": 1.4,
         "sepal_length": 6.7,
         "sepal_width": 3.1
        },
        {
         "_deepnote_index_column": 66,
         "class": "1",
         "petal_length": 4.5,
         "petal_width": 1.5,
         "sepal_length": 5.6,
         "sepal_width": 3
        },
        {
         "_deepnote_index_column": 67,
         "class": "1",
         "petal_length": 4.1,
         "petal_width": 1,
         "sepal_length": 5.8,
         "sepal_width": 2.7
        },
        {
         "_deepnote_index_column": 68,
         "class": "1",
         "petal_length": 4.5,
         "petal_width": 1.5,
         "sepal_length": 6.2,
         "sepal_width": 2.2
        },
        {
         "_deepnote_index_column": 69,
         "class": "1",
         "petal_length": 3.9,
         "petal_width": 1.1,
         "sepal_length": 5.6,
         "sepal_width": 2.5
        },
        {
         "_deepnote_index_column": 70,
         "class": "1",
         "petal_length": 4.8,
         "petal_width": 1.8,
         "sepal_length": 5.9,
         "sepal_width": 3.2
        },
        {
         "_deepnote_index_column": 71,
         "class": "1",
         "petal_length": 4,
         "petal_width": 1.3,
         "sepal_length": 6.1,
         "sepal_width": 2.8
        },
        {
         "_deepnote_index_column": 72,
         "class": "1",
         "petal_length": 4.9,
         "petal_width": 1.5,
         "sepal_length": 6.3,
         "sepal_width": 2.5
        },
        {
         "_deepnote_index_column": 73,
         "class": "1",
         "petal_length": 4.7,
         "petal_width": 1.2,
         "sepal_length": 6.1,
         "sepal_width": 2.8
        },
        {
         "_deepnote_index_column": 74,
         "class": "1",
         "petal_length": 4.3,
         "petal_width": 1.3,
         "sepal_length": 6.4,
         "sepal_width": 2.9
        },
        {
         "_deepnote_index_column": 75,
         "class": "1",
         "petal_length": 4.4,
         "petal_width": 1.4,
         "sepal_length": 6.6,
         "sepal_width": 3
        },
        {
         "_deepnote_index_column": 76,
         "class": "1",
         "petal_length": 4.8,
         "petal_width": 1.4,
         "sepal_length": 6.8,
         "sepal_width": 2.8
        },
        {
         "_deepnote_index_column": 77,
         "class": "1",
         "petal_length": 5,
         "petal_width": 1.7,
         "sepal_length": 6.7,
         "sepal_width": 3
        },
        {
         "_deepnote_index_column": 78,
         "class": "1",
         "petal_length": 4.5,
         "petal_width": 1.5,
         "sepal_length": 6,
         "sepal_width": 2.9
        },
        {
         "_deepnote_index_column": 79,
         "class": "1",
         "petal_length": 3.5,
         "petal_width": 1,
         "sepal_length": 5.7,
         "sepal_width": 2.6
        },
        {
         "_deepnote_index_column": 80,
         "class": "1",
         "petal_length": 3.8,
         "petal_width": 1.1,
         "sepal_length": 5.5,
         "sepal_width": 2.4
        },
        {
         "_deepnote_index_column": 81,
         "class": "1",
         "petal_length": 3.7,
         "petal_width": 1,
         "sepal_length": 5.5,
         "sepal_width": 2.4
        },
        {
         "_deepnote_index_column": 82,
         "class": "1",
         "petal_length": 3.9,
         "petal_width": 1.2,
         "sepal_length": 5.8,
         "sepal_width": 2.7
        },
        {
         "_deepnote_index_column": 83,
         "class": "1",
         "petal_length": 5.1,
         "petal_width": 1.6,
         "sepal_length": 6,
         "sepal_width": 2.7
        },
        {
         "_deepnote_index_column": 84,
         "class": "1",
         "petal_length": 4.5,
         "petal_width": 1.5,
         "sepal_length": 5.4,
         "sepal_width": 3
        },
        {
         "_deepnote_index_column": 85,
         "class": "1",
         "petal_length": 4.5,
         "petal_width": 1.6,
         "sepal_length": 6,
         "sepal_width": 3.4
        },
        {
         "_deepnote_index_column": 86,
         "class": "1",
         "petal_length": 4.7,
         "petal_width": 1.5,
         "sepal_length": 6.7,
         "sepal_width": 3.1
        },
        {
         "_deepnote_index_column": 87,
         "class": "1",
         "petal_length": 4.4,
         "petal_width": 1.3,
         "sepal_length": 6.3,
         "sepal_width": 2.3
        },
        {
         "_deepnote_index_column": 88,
         "class": "1",
         "petal_length": 4.1,
         "petal_width": 1.3,
         "sepal_length": 5.6,
         "sepal_width": 3
        },
        {
         "_deepnote_index_column": 89,
         "class": "1",
         "petal_length": 4,
         "petal_width": 1.3,
         "sepal_length": 5.5,
         "sepal_width": 2.5
        },
        {
         "_deepnote_index_column": 90,
         "class": "1",
         "petal_length": 4.4,
         "petal_width": 1.2,
         "sepal_length": 5.5,
         "sepal_width": 2.6
        },
        {
         "_deepnote_index_column": 91,
         "class": "1",
         "petal_length": 4.6,
         "petal_width": 1.4,
         "sepal_length": 6.1,
         "sepal_width": 3
        },
        {
         "_deepnote_index_column": 92,
         "class": "1",
         "petal_length": 4,
         "petal_width": 1.2,
         "sepal_length": 5.8,
         "sepal_width": 2.6
        },
        {
         "_deepnote_index_column": 93,
         "class": "1",
         "petal_length": 3.3,
         "petal_width": 1,
         "sepal_length": 5,
         "sepal_width": 2.3
        },
        {
         "_deepnote_index_column": 94,
         "class": "1",
         "petal_length": 4.2,
         "petal_width": 1.3,
         "sepal_length": 5.6,
         "sepal_width": 2.7
        },
        {
         "_deepnote_index_column": 95,
         "class": "1",
         "petal_length": 4.2,
         "petal_width": 1.2,
         "sepal_length": 5.7,
         "sepal_width": 3
        },
        {
         "_deepnote_index_column": 96,
         "class": "1",
         "petal_length": 4.2,
         "petal_width": 1.3,
         "sepal_length": 5.7,
         "sepal_width": 2.9
        },
        {
         "_deepnote_index_column": 97,
         "class": "1",
         "petal_length": 4.3,
         "petal_width": 1.3,
         "sepal_length": 6.2,
         "sepal_width": 2.9
        },
        {
         "_deepnote_index_column": 98,
         "class": "1",
         "petal_length": 3,
         "petal_width": 1.1,
         "sepal_length": 5.1,
         "sepal_width": 2.5
        },
        {
         "_deepnote_index_column": 99,
         "class": "1",
         "petal_length": 4.1,
         "petal_width": 1.3,
         "sepal_length": 5.7,
         "sepal_width": 2.8
        },
        {
         "_deepnote_index_column": 100,
         "class": "2",
         "petal_length": 6,
         "petal_width": 2.5,
         "sepal_length": 6.3,
         "sepal_width": 3.3
        },
        {
         "_deepnote_index_column": 101,
         "class": "2",
         "petal_length": 5.1,
         "petal_width": 1.9,
         "sepal_length": 5.8,
         "sepal_width": 2.7
        },
        {
         "_deepnote_index_column": 102,
         "class": "2",
         "petal_length": 5.9,
         "petal_width": 2.1,
         "sepal_length": 7.1,
         "sepal_width": 3
        },
        {
         "_deepnote_index_column": 103,
         "class": "2",
         "petal_length": 5.6,
         "petal_width": 1.8,
         "sepal_length": 6.3,
         "sepal_width": 2.9
        },
        {
         "_deepnote_index_column": 104,
         "class": "2",
         "petal_length": 5.8,
         "petal_width": 2.2,
         "sepal_length": 6.5,
         "sepal_width": 3
        },
        {
         "_deepnote_index_column": 105,
         "class": "2",
         "petal_length": 6.6,
         "petal_width": 2.1,
         "sepal_length": 7.6,
         "sepal_width": 3
        },
        {
         "_deepnote_index_column": 106,
         "class": "2",
         "petal_length": 4.5,
         "petal_width": 1.7,
         "sepal_length": 4.9,
         "sepal_width": 2.5
        },
        {
         "_deepnote_index_column": 107,
         "class": "2",
         "petal_length": 6.3,
         "petal_width": 1.8,
         "sepal_length": 7.3,
         "sepal_width": 2.9
        },
        {
         "_deepnote_index_column": 108,
         "class": "2",
         "petal_length": 5.8,
         "petal_width": 1.8,
         "sepal_length": 6.7,
         "sepal_width": 2.5
        },
        {
         "_deepnote_index_column": 109,
         "class": "2",
         "petal_length": 6.1,
         "petal_width": 2.5,
         "sepal_length": 7.2,
         "sepal_width": 3.6
        },
        {
         "_deepnote_index_column": 110,
         "class": "2",
         "petal_length": 5.1,
         "petal_width": 2,
         "sepal_length": 6.5,
         "sepal_width": 3.2
        },
        {
         "_deepnote_index_column": 111,
         "class": "2",
         "petal_length": 5.3,
         "petal_width": 1.9,
         "sepal_length": 6.4,
         "sepal_width": 2.7
        },
        {
         "_deepnote_index_column": 112,
         "class": "2",
         "petal_length": 5.5,
         "petal_width": 2.1,
         "sepal_length": 6.8,
         "sepal_width": 3
        },
        {
         "_deepnote_index_column": 113,
         "class": "2",
         "petal_length": 5,
         "petal_width": 2,
         "sepal_length": 5.7,
         "sepal_width": 2.5
        },
        {
         "_deepnote_index_column": 114,
         "class": "2",
         "petal_length": 5.1,
         "petal_width": 2.4,
         "sepal_length": 5.8,
         "sepal_width": 2.8
        },
        {
         "_deepnote_index_column": 115,
         "class": "2",
         "petal_length": 5.3,
         "petal_width": 2.3,
         "sepal_length": 6.4,
         "sepal_width": 3.2
        },
        {
         "_deepnote_index_column": 116,
         "class": "2",
         "petal_length": 5.5,
         "petal_width": 1.8,
         "sepal_length": 6.5,
         "sepal_width": 3
        },
        {
         "_deepnote_index_column": 117,
         "class": "2",
         "petal_length": 6.7,
         "petal_width": 2.2,
         "sepal_length": 7.7,
         "sepal_width": 3.8
        },
        {
         "_deepnote_index_column": 118,
         "class": "2",
         "petal_length": 6.9,
         "petal_width": 2.3,
         "sepal_length": 7.7,
         "sepal_width": 2.6
        },
        {
         "_deepnote_index_column": 119,
         "class": "2",
         "petal_length": 5,
         "petal_width": 1.5,
         "sepal_length": 6,
         "sepal_width": 2.2
        },
        {
         "_deepnote_index_column": 120,
         "class": "2",
         "petal_length": 5.7,
         "petal_width": 2.3,
         "sepal_length": 6.9,
         "sepal_width": 3.2
        },
        {
         "_deepnote_index_column": 121,
         "class": "2",
         "petal_length": 4.9,
         "petal_width": 2,
         "sepal_length": 5.6,
         "sepal_width": 2.8
        },
        {
         "_deepnote_index_column": 122,
         "class": "2",
         "petal_length": 6.7,
         "petal_width": 2,
         "sepal_length": 7.7,
         "sepal_width": 2.8
        },
        {
         "_deepnote_index_column": 123,
         "class": "2",
         "petal_length": 4.9,
         "petal_width": 1.8,
         "sepal_length": 6.3,
         "sepal_width": 2.7
        },
        {
         "_deepnote_index_column": 124,
         "class": "2",
         "petal_length": 5.7,
         "petal_width": 2.1,
         "sepal_length": 6.7,
         "sepal_width": 3.3
        },
        {
         "_deepnote_index_column": 125,
         "class": "2",
         "petal_length": 6,
         "petal_width": 1.8,
         "sepal_length": 7.2,
         "sepal_width": 3.2
        },
        {
         "_deepnote_index_column": 126,
         "class": "2",
         "petal_length": 4.8,
         "petal_width": 1.8,
         "sepal_length": 6.2,
         "sepal_width": 2.8
        },
        {
         "_deepnote_index_column": 127,
         "class": "2",
         "petal_length": 4.9,
         "petal_width": 1.8,
         "sepal_length": 6.1,
         "sepal_width": 3
        },
        {
         "_deepnote_index_column": 128,
         "class": "2",
         "petal_length": 5.6,
         "petal_width": 2.1,
         "sepal_length": 6.4,
         "sepal_width": 2.8
        },
        {
         "_deepnote_index_column": 129,
         "class": "2",
         "petal_length": 5.8,
         "petal_width": 1.6,
         "sepal_length": 7.2,
         "sepal_width": 3
        },
        {
         "_deepnote_index_column": 130,
         "class": "2",
         "petal_length": 6.1,
         "petal_width": 1.9,
         "sepal_length": 7.4,
         "sepal_width": 2.8
        },
        {
         "_deepnote_index_column": 131,
         "class": "2",
         "petal_length": 6.4,
         "petal_width": 2,
         "sepal_length": 7.9,
         "sepal_width": 3.8
        },
        {
         "_deepnote_index_column": 132,
         "class": "2",
         "petal_length": 5.6,
         "petal_width": 2.2,
         "sepal_length": 6.4,
         "sepal_width": 2.8
        },
        {
         "_deepnote_index_column": 133,
         "class": "2",
         "petal_length": 5.1,
         "petal_width": 1.5,
         "sepal_length": 6.3,
         "sepal_width": 2.8
        },
        {
         "_deepnote_index_column": 134,
         "class": "2",
         "petal_length": 5.6,
         "petal_width": 1.4,
         "sepal_length": 6.1,
         "sepal_width": 2.6
        },
        {
         "_deepnote_index_column": 135,
         "class": "2",
         "petal_length": 6.1,
         "petal_width": 2.3,
         "sepal_length": 7.7,
         "sepal_width": 3
        },
        {
         "_deepnote_index_column": 136,
         "class": "2",
         "petal_length": 5.6,
         "petal_width": 2.4,
         "sepal_length": 6.3,
         "sepal_width": 3.4
        },
        {
         "_deepnote_index_column": 137,
         "class": "2",
         "petal_length": 5.5,
         "petal_width": 1.8,
         "sepal_length": 6.4,
         "sepal_width": 3.1
        },
        {
         "_deepnote_index_column": 138,
         "class": "2",
         "petal_length": 4.8,
         "petal_width": 1.8,
         "sepal_length": 6,
         "sepal_width": 3
        },
        {
         "_deepnote_index_column": 139,
         "class": "2",
         "petal_length": 5.4,
         "petal_width": 2.1,
         "sepal_length": 6.9,
         "sepal_width": 3.1
        },
        {
         "_deepnote_index_column": 140,
         "class": "2",
         "petal_length": 5.6,
         "petal_width": 2.4,
         "sepal_length": 6.7,
         "sepal_width": 3.1
        },
        {
         "_deepnote_index_column": 141,
         "class": "2",
         "petal_length": 5.1,
         "petal_width": 2.3,
         "sepal_length": 6.9,
         "sepal_width": 3.1
        },
        {
         "_deepnote_index_column": 142,
         "class": "2",
         "petal_length": 5.1,
         "petal_width": 1.9,
         "sepal_length": 5.8,
         "sepal_width": 2.7
        },
        {
         "_deepnote_index_column": 143,
         "class": "2",
         "petal_length": 5.9,
         "petal_width": 2.3,
         "sepal_length": 6.8,
         "sepal_width": 3.2
        },
        {
         "_deepnote_index_column": 144,
         "class": "2",
         "petal_length": 5.7,
         "petal_width": 2.5,
         "sepal_length": 6.7,
         "sepal_width": 3.3
        },
        {
         "_deepnote_index_column": 145,
         "class": "2",
         "petal_length": 5.2,
         "petal_width": 2.3,
         "sepal_length": 6.7,
         "sepal_width": 3
        },
        {
         "_deepnote_index_column": 146,
         "class": "2",
         "petal_length": 5,
         "petal_width": 1.9,
         "sepal_length": 6.3,
         "sepal_width": 2.5
        },
        {
         "_deepnote_index_column": 147,
         "class": "2",
         "petal_length": 5.2,
         "petal_width": 2,
         "sepal_length": 6.5,
         "sepal_width": 3
        },
        {
         "_deepnote_index_column": 148,
         "class": "2",
         "petal_length": 5.4,
         "petal_width": 2.3,
         "sepal_length": 6.2,
         "sepal_width": 3.4
        },
        {
         "_deepnote_index_column": 149,
         "class": "2",
         "petal_length": 5.1,
         "petal_width": 1.8,
         "sepal_length": 5.9,
         "sepal_width": 3
        }
       ]
      },
      "text/html": [
       "<div>\n",
       "<style scoped>\n",
       "    .dataframe tbody tr th:only-of-type {\n",
       "        vertical-align: middle;\n",
       "    }\n",
       "\n",
       "    .dataframe tbody tr th {\n",
       "        vertical-align: top;\n",
       "    }\n",
       "\n",
       "    .dataframe thead th {\n",
       "        text-align: right;\n",
       "    }\n",
       "</style>\n",
       "<table border=\"1\" class=\"dataframe\">\n",
       "  <thead>\n",
       "    <tr style=\"text-align: right;\">\n",
       "      <th></th>\n",
       "      <th>sepal_length</th>\n",
       "      <th>sepal_width</th>\n",
       "      <th>petal_length</th>\n",
       "      <th>petal_width</th>\n",
       "      <th>class</th>\n",
       "    </tr>\n",
       "  </thead>\n",
       "  <tbody>\n",
       "    <tr>\n",
       "      <th>0</th>\n",
       "      <td>5.1</td>\n",
       "      <td>3.5</td>\n",
       "      <td>1.4</td>\n",
       "      <td>0.2</td>\n",
       "      <td>0</td>\n",
       "    </tr>\n",
       "    <tr>\n",
       "      <th>1</th>\n",
       "      <td>4.9</td>\n",
       "      <td>3.0</td>\n",
       "      <td>1.4</td>\n",
       "      <td>0.2</td>\n",
       "      <td>0</td>\n",
       "    </tr>\n",
       "    <tr>\n",
       "      <th>2</th>\n",
       "      <td>4.7</td>\n",
       "      <td>3.2</td>\n",
       "      <td>1.3</td>\n",
       "      <td>0.2</td>\n",
       "      <td>0</td>\n",
       "    </tr>\n",
       "    <tr>\n",
       "      <th>3</th>\n",
       "      <td>4.6</td>\n",
       "      <td>3.1</td>\n",
       "      <td>1.5</td>\n",
       "      <td>0.2</td>\n",
       "      <td>0</td>\n",
       "    </tr>\n",
       "    <tr>\n",
       "      <th>4</th>\n",
       "      <td>5.0</td>\n",
       "      <td>3.6</td>\n",
       "      <td>1.4</td>\n",
       "      <td>0.2</td>\n",
       "      <td>0</td>\n",
       "    </tr>\n",
       "    <tr>\n",
       "      <th>...</th>\n",
       "      <td>...</td>\n",
       "      <td>...</td>\n",
       "      <td>...</td>\n",
       "      <td>...</td>\n",
       "      <td>...</td>\n",
       "    </tr>\n",
       "    <tr>\n",
       "      <th>145</th>\n",
       "      <td>6.7</td>\n",
       "      <td>3.0</td>\n",
       "      <td>5.2</td>\n",
       "      <td>2.3</td>\n",
       "      <td>2</td>\n",
       "    </tr>\n",
       "    <tr>\n",
       "      <th>146</th>\n",
       "      <td>6.3</td>\n",
       "      <td>2.5</td>\n",
       "      <td>5.0</td>\n",
       "      <td>1.9</td>\n",
       "      <td>2</td>\n",
       "    </tr>\n",
       "    <tr>\n",
       "      <th>147</th>\n",
       "      <td>6.5</td>\n",
       "      <td>3.0</td>\n",
       "      <td>5.2</td>\n",
       "      <td>2.0</td>\n",
       "      <td>2</td>\n",
       "    </tr>\n",
       "    <tr>\n",
       "      <th>148</th>\n",
       "      <td>6.2</td>\n",
       "      <td>3.4</td>\n",
       "      <td>5.4</td>\n",
       "      <td>2.3</td>\n",
       "      <td>2</td>\n",
       "    </tr>\n",
       "    <tr>\n",
       "      <th>149</th>\n",
       "      <td>5.9</td>\n",
       "      <td>3.0</td>\n",
       "      <td>5.1</td>\n",
       "      <td>1.8</td>\n",
       "      <td>2</td>\n",
       "    </tr>\n",
       "  </tbody>\n",
       "</table>\n",
       "<p>150 rows × 5 columns</p>\n",
       "</div>"
      ],
      "text/plain": [
       "     sepal_length  sepal_width  petal_length  petal_width class\n",
       "0             5.1          3.5           1.4          0.2     0\n",
       "1             4.9          3.0           1.4          0.2     0\n",
       "2             4.7          3.2           1.3          0.2     0\n",
       "3             4.6          3.1           1.5          0.2     0\n",
       "4             5.0          3.6           1.4          0.2     0\n",
       "..            ...          ...           ...          ...   ...\n",
       "145           6.7          3.0           5.2          2.3     2\n",
       "146           6.3          2.5           5.0          1.9     2\n",
       "147           6.5          3.0           5.2          2.0     2\n",
       "148           6.2          3.4           5.4          2.3     2\n",
       "149           5.9          3.0           5.1          1.8     2\n",
       "\n",
       "[150 rows x 5 columns]"
      ]
     },
     "execution_count": 1,
     "metadata": {},
     "output_type": "execute_result"
    }
   ],
   "source": [
    "from sklearn import datasets\n",
    "import pandas as pd\n",
    "\n",
    "raw_data = datasets.load_iris()\n",
    "# Load iris dataset\n",
    "iris_df = pd.DataFrame(raw_data.data)\n",
    "iris_df['class'] = raw_data.target.astype('str')\n",
    "iris_df.columns=['sepal_length', 'sepal_width', 'petal_length', 'petal_width', 'class']\n",
    "iris_df"
   ]
  },
  {
   "cell_type": "markdown",
   "metadata": {
    "cell_id": "2bac4f9d-4024-40e5-999b-1d817c9f0190",
    "deepnote_cell_type": "markdown",
    "tags": []
   },
   "source": [
    "Your variables show up in the **Variable explorer** in the **Files** sidebar on the left. It's quite easy to lose track of all your variables and their values, and the Variable explorer comes in handy when that happens."
   ]
  },
  {
   "cell_type": "markdown",
   "metadata": {
    "cell_id": "a3fd1a9e-e3d4-4347-943b-a62e480f5001",
    "deepnote_cell_type": "markdown",
    "tags": []
   },
   "source": [
    "## 2. Collaborate 🤝\n",
    "Do you know anyone who would also appreciate a new way to work with notebooks?  \n",
    "\n",
    "Invite them to Deepnote! Head to the **Share** menu and hit **Manage collaborators** to add them to this project. \n",
    "\n",
    "> Actually, why don't you try adding them right now, and collaborating on this project in real-time:\n",
    "\n",
    "<video autoplay loop width=\"520\" playsinline=\"\" muted=\"\" preload=\"auto\" poster=\"/static/landing/feature-collaboration.jpg\" class=\"css-1q77k7q\">\n",
    "    <source type=\"video/mp4\" src=\"/static/landing/feature-collaboration.mp4\">\n",
    "</video>"
   ]
  },
  {
   "cell_type": "markdown",
   "metadata": {
    "cell_id": "00005-ac80f824-5e78-48f1-8e2b-e3042d5b85be",
    "deepnote_cell_type": "markdown",
    "tags": []
   },
   "source": [
    "## 3. Access your data... ⬆️\n",
    "- In the **Integrations** sidebar tab, you can connect to your database, bucket or BigQuery. You can also upload files to a **Shared dataset**.\n",
    "\n",
    "- To upload your local data, head to the **Files** tab and hit _Upload_"
   ]
  },
  {
   "cell_type": "markdown",
   "metadata": {
    "cell_id": "9b2c26c6-2a8b-4def-89a8-86b3fa307c3f",
    "deepnote_cell_type": "markdown",
    "tags": []
   },
   "source": [
    "## 4. Terminals 💻\n",
    "- Create new terminal in **Terminal** sidebar tab.\n",
    "- You have full control of your machine, including **sudo** access"
   ]
  },
  {
   "cell_type": "markdown",
   "metadata": {
    "cell_id": "46acef5c-3f72-4915-a747-4c3cdd85d1b7",
    "deepnote_cell_type": "markdown",
    "tags": []
   },
   "source": [
    "## 5. Work efficiently \n",
    "Moving from keyboard to mouse takes time, and we know learning 30 keyboard shortcuts is inefficient.  \n",
    "Press <kbd>⌘</kbd>+<kbd>P</kbd> or <kbd>Ctrl</kbd>+<kbd>P</kbd> to open the **Command palette** and navigate to the notebook `you rock.ipynb`.\n",
    "\n",
    "<img style=\"margin: 0 auto;\" src='https://storage.googleapis.com/deepnote-mg-cdn/command%20palette.png'>"
   ]
  },
  {
   "cell_type": "markdown",
   "metadata": {
    "cell_id": "5d27c77e-2311-410b-a33f-b9041f81bf1b",
    "deepnote_cell_type": "markdown",
    "tags": []
   },
   "source": [
    "*(Become a Deepnote Ninja, and do step 5. The tutorial continues there.)*"
   ]
  },
  {
   "cell_type": "markdown",
   "metadata": {
    "cell_id": "00004-e7d2344e-5168-46af-bb88-cc2de856e390",
    "deepnote_cell_type": "markdown",
    "tags": []
   },
   "source": [
    "## *Have a question?* 🤔\n",
    "Hit the question mark in the bottom left corner and **chat with us**! We're happy to help 👋\n",
    "\n",
    "- You can find answers to the most common questions in our docs at [docs.deepnote.com](https://docs.deepnote.com/)\n",
    "- Don't forget to join our [slack community](https://deepnotecommunity.slack.com/join/shared_invite/enQtOTI4OTA1MzYwNTMzLTQ4ZGY4Y2VkOTZkYTNjY2U3NTU5ZjJjMDRiMmNmOTgzMzhmYjZlMTczZmY1MDhhM2RmMDk3OWYxM2MyZmFlMDc#/)!"
   ]
  },
  {
   "cell_type": "code",
   "execution_count": 2,
   "metadata": {
    "cell_id": "00010-27c58a5f-777b-4341-9d6d-49b32373beb6",
    "deepnote_cell_type": "code",
    "execution_millis": 89,
    "execution_start": 1606916978177,
    "output_cleared": false,
    "source_hash": "793aac2",
    "tags": []
   },
   "outputs": [
    {
     "ename": "ZeroDivisionError",
     "evalue": "division by zero",
     "output_type": "error",
     "traceback": [
      "\u001b[0;31m---------------------------------------------------------------------------\u001b[0m",
      "\u001b[0;31mZeroDivisionError\u001b[0m                         Traceback (most recent call last)",
      "\u001b[0;32m<ipython-input-2-191593c14322>\u001b[0m in \u001b[0;36m<module>\u001b[0;34m\u001b[0m\n\u001b[1;32m      2\u001b[0m \u001b[0my\u001b[0m \u001b[0;34m=\u001b[0m \u001b[0;36m0\u001b[0m\u001b[0;34m\u001b[0m\u001b[0;34m\u001b[0m\u001b[0m\n\u001b[1;32m      3\u001b[0m \u001b[0;34m\u001b[0m\u001b[0m\n\u001b[0;32m----> 4\u001b[0;31m \u001b[0mprint\u001b[0m \u001b[0;34m(\u001b[0m\u001b[0;36m10\u001b[0m\u001b[0;34m/\u001b[0m\u001b[0;36m0\u001b[0m\u001b[0;34m)\u001b[0m\u001b[0;34m\u001b[0m\u001b[0;34m\u001b[0m\u001b[0m\n\u001b[0m",
      "\u001b[0;31mZeroDivisionError\u001b[0m: division by zero"
     ]
    }
   ],
   "source": [
    "#Excercise 1.2\n",
    "#raise ZeroDivisionError\n",
    "\n",
    "x = 10\n",
    "y = 0\n",
    "\n",
    "print (10/0)\n"
   ]
  },
  {
   "cell_type": "code",
   "execution_count": 62,
   "metadata": {
    "cell_id": "00012-49f0944f-34a1-4039-be1f-f750ea31d863",
    "deepnote_cell_type": "code",
    "execution_millis": 0,
    "execution_start": 1606921825377,
    "output_cleared": false,
    "source_hash": "120668a1",
    "tags": []
   },
   "outputs": [
    {
     "name": "stdout",
     "output_type": "stream",
     "text": [
      "The alarm will go off at 21 :00.\n"
     ]
    }
   ],
   "source": [
    "#Excercise 1.3\n",
    "# it is 14:00, what time after 535 hours\n",
    "\n",
    "h = 535\n",
    "d = 24\n",
    "c = 14\n",
    "\n",
    "print (\"The alarm will go off at\",(h % d) + c,\":00.\")\n"
   ]
  },
  {
   "cell_type": "code",
   "execution_count": 60,
   "metadata": {
    "cell_id": "00013-8b360ba9-3150-4cfc-bc2c-71f23e134f57",
    "deepnote_cell_type": "code",
    "execution_millis": 3,
    "execution_start": 1606921701161,
    "output_cleared": false,
    "source_hash": "ec713fc0",
    "tags": []
   },
   "outputs": [
    {
     "name": "stdout",
     "output_type": "stream",
     "text": [
      "20\n",
      "19\n",
      "18\n",
      "17\n",
      "16\n",
      "15\n",
      "14\n",
      "13\n",
      "12\n",
      "11\n",
      "10\n",
      "9\n",
      "8\n",
      "7\n",
      "6\n",
      "5\n",
      "4\n",
      "3\n",
      "2\n",
      "Blast, off!\n"
     ]
    }
   ],
   "source": [
    "#Excercise 5.1\n",
    "#countdown\n",
    "\n",
    "for i in range(20, 1, -1):\n",
    "    print(i)\n",
    "print(\"Blast, off!\")\n"
   ]
  },
  {
   "cell_type": "code",
   "execution_count": 83,
   "metadata": {
    "cell_id": "00015-06a22cfc-d7ac-4ab9-bc2c-4b216388b239",
    "deepnote_cell_type": "code",
    "execution_millis": 3,
    "execution_start": 1606924279678,
    "output_cleared": false,
    "source_hash": "6f969426",
    "tags": []
   },
   "outputs": [
    {
     "name": "stdout",
     "output_type": "stream",
     "text": [
      "['a', 'b', 'c', 'd', 'e', 'f', 'g', 'h', 'i', 'j', 'k', 'l', 'm', 'n', 'o', 'p', 'q', 'r', 's', 't', 'u', 'v', 'w', 'x', 'y', 'z', ('J', 1), ('J', 1), ('J', 1), ('J', 1), ('J', 1), ('J', 1), ('J', 1), ('J', 1), ('J', 1), ('J', 1), ('J', 1), ('J', 1), ('J', 1), ('J', 1), ('J', 1), ('J', 1), ('J', 1), ('J', 1), ('J', 1), ('J', 1), ('J', 1), ('J', 1), ('J', 1), ('J', 1), ('J', 1), ('J', 1), ('o', 1), ('o', 1), ('o', 1), ('o', 1), ('o', 1), ('o', 1), ('o', 1), ('o', 1), ('o', 1), ('o', 1), ('o', 1), ('o', 1), ('o', 1), ('o', 1), ('o', 1), ('o', 1), ('o', 1), ('o', 1), ('o', 1), ('o', 1), ('o', 1), ('o', 1), ('o', 1), ('o', 1), ('o', 1), ('o', 1), ('o', 1), ('o', 1), ('o', 1), ('o', 1), ('o', 1), ('o', 1), ('o', 1), ('o', 1), ('o', 1), ('o', 1), ('o', 1), ('o', 1), ('o', 1), ('o', 1), ('o', 1), ('o', 1), ('o', 1), ('o', 1), ('o', 1), ('o', 1), ('o', 1), ('o', 1), ('o', 1), ('o', 1), ('o', 1), ('h', 1), ('h', 1), ('h', 1), ('h', 1), ('h', 1), ('h', 1), ('h', 1), ('h', 1), ('h', 1), ('h', 1), ('h', 1), ('h', 1), ('h', 1), ('h', 1), ('h', 1), ('h', 1), ('h', 1), ('h', 1), ('h', 1), ('h', 1), ('h', 1), ('h', 1), ('h', 1), ('h', 1), ('h', 1), ('h', 1), ('h', 1), ('h', 1), ('h', 1), ('h', 1), ('h', 1), ('h', 1), ('h', 1), ('h', 1), ('h', 1), ('h', 1), ('h', 1), ('h', 1), ('h', 1), ('h', 1), ('h', 1), ('h', 1), ('h', 1), ('h', 1), ('h', 1), ('h', 1), ('h', 1), ('h', 1), ('h', 1), ('h', 1), ('h', 1), ('h', 1), ('h', 1), ('h', 1), ('h', 1), ('h', 1), ('h', 1), ('h', 1), ('h', 1), ('h', 1), ('h', 1), ('h', 1), ('h', 1), ('h', 1), ('h', 1), ('h', 1), ('h', 1), ('h', 1), ('h', 1), ('h', 1), ('h', 1), ('h', 1), ('h', 1), ('h', 1), ('h', 1), ('h', 1), ('h', 1), ('h', 1), ('h', 1), ('h', 1), ('h', 1), ('h', 1), ('h', 1), ('h', 1), ('h', 1), ('h', 1), ('h', 1), ('h', 1), ('h', 1), ('h', 1), ('h', 1), ('h', 1), ('h', 1), ('h', 1), ('h', 1), ('h', 1), ('h', 1), ('h', 1), ('h', 1), ('h', 1), ('h', 1), ('h', 1), ('n', 2), ('n', 2), ('n', 2), ('n', 2), ('n', 2), ('n', 2), ('n', 2), ('n', 2), ('n', 2), ('n', 2), ('n', 2), ('n', 2), ('n', 2), ('n', 2), ('n', 2), ('n', 2), ('n', 2), ('n', 2), ('n', 2), ('n', 2), ('n', 2), ('n', 2), ('n', 2), ('n', 2), ('n', 2), ('n', 2), ('n', 2), ('n', 2), ('n', 2), ('n', 2), ('n', 2), ('n', 2), ('n', 2), ('n', 2), ('n', 2), ('n', 2), ('n', 2), ('n', 2), ('n', 2), ('n', 2), ('n', 2), ('n', 2), ('n', 2), ('n', 2), ('n', 2), ('n', 2), ('n', 2), ('n', 2), ('n', 2), ('n', 2), ('n', 2), ('n', 2), ('n', 2), ('n', 2), ('n', 2), ('n', 2), ('n', 2), ('n', 2), ('n', 2), ('n', 2), ('n', 2), ('n', 2), ('n', 2), ('n', 2), ('n', 2), ('n', 2), ('n', 2), ('n', 2), ('n', 2), ('n', 2), ('n', 2), ('n', 2), ('n', 2), ('n', 2), ('n', 2), ('n', 2), ('n', 2), ('n', 2), ('n', 2), ('n', 2), ('n', 2), ('n', 2), ('n', 2), ('n', 2), ('n', 2), ('n', 2), ('n', 2), ('n', 2), ('n', 2), ('n', 2), ('n', 2), ('n', 2), ('n', 2), ('n', 2), ('n', 2), ('n', 2), ('n', 2), ('n', 2), ('n', 2), ('n', 2), ('n', 2), ('n', 2), ('n', 2), ('n', 2), ('n', 2), ('n', 2), ('n', 2), ('n', 2), ('n', 2), ('n', 2), ('n', 2), ('n', 2), ('n', 2), ('n', 2), ('n', 2), ('n', 2), ('n', 2), ('n', 2), ('n', 2), ('n', 2), ('n', 2), ('n', 2), ('n', 2), ('n', 2), ('n', 2), ('n', 2), ('n', 2), ('n', 2), ('n', 2), ('n', 2), ('n', 2), ('n', 2), ('n', 2), ('n', 2), ('n', 2), ('n', 2), ('n', 2), ('n', 2), ('n', 2), ('n', 2), ('n', 2), ('n', 2), ('n', 2), ('n', 2), ('n', 2), ('n', 2), ('n', 2), ('n', 2), ('n', 2), ('n', 2), ('n', 2), ('n', 2), ('n', 2), ('n', 2), ('n', 2), ('n', 2), ('n', 2), ('n', 2), ('n', 2), ('n', 2), ('n', 2), ('n', 2), ('n', 2), ('n', 2), ('n', 2), ('n', 2), ('n', 2), ('n', 2), ('n', 2), ('n', 2), ('n', 2), ('n', 2), ('n', 2), ('n', 2), ('n', 2), ('n', 2), ('n', 2), ('n', 2), ('n', 2), ('n', 2), ('n', 2), ('n', 2), ('n', 2), ('n', 2), ('n', 2), ('n', 2), ('n', 2), ('n', 2), ('n', 2), ('n', 2), ('n', 2), ('n', 2), ('n', 2), ('n', 2), ('n', 2), ('n', 2), ('n', 2), ('n', 2), ('n', 2), ('n', 2), ('n', 2), ('n', 2), ('n', 2), ('n', 2), ('n', 2), ('n', 2), ('n', 2), ('n', 2), ('n', 2), ('n', 2), ('n', 2), ('n', 2), ('n', 2), ('n', 2), ('n', 2), ('n', 2), ('n', 2), ('n', 2), ('n', 2), ('n', 2), ('n', 2), ('n', 2), ('n', 2), ('n', 2), ('n', 2), ('n', 2), ('n', 2), ('n', 2), ('n', 2), ('n', 2), ('n', 2), ('n', 2), ('n', 2), ('n', 2), ('n', 2), ('n', 2), ('n', 2), ('n', 2), ('n', 2), ('n', 2), ('n', 2), ('n', 2), ('n', 2), ('n', 2), ('n', 2), ('n', 2), ('n', 2), ('n', 2), ('n', 2), ('n', 2), ('n', 2), ('n', 2), ('n', 2), ('n', 2), ('n', 2), ('n', 2), ('n', 2), ('n', 2), ('n', 2), ('n', 2), ('n', 2), ('n', 2), ('n', 2), ('n', 2), ('n', 2), ('n', 2), ('n', 2), ('n', 2), ('n', 2), ('n', 2), ('n', 2), ('n', 2), ('n', 2), ('n', 2), ('n', 2), ('n', 2), ('n', 2), ('n', 2), ('n', 2), ('n', 2), ('n', 2), ('n', 2), ('n', 2), ('n', 2), ('n', 2), ('n', 2), ('n', 2), ('n', 2), ('n', 2), ('n', 2), ('n', 2), ('n', 2), ('n', 2), ('n', 2), ('n', 2), ('n', 2), ('n', 2), ('n', 2), ('n', 2), ('n', 2), ('n', 2), ('n', 2), ('n', 2), ('n', 2), ('n', 2), ('n', 2), ('n', 2), ('n', 2), ('n', 2), ('n', 2), ('n', 2), ('n', 2), ('n', 2), ('n', 2), ('n', 2), ('n', 2), ('n', 2), ('n', 2), ('n', 2), ('n', 2), ('n', 2), ('n', 2), ('n', 2), ('n', 2), ('n', 2), ('n', 2), ('n', 2), ('n', 2), ('n', 2), ('n', 2), ('n', 2), ('n', 2), ('n', 2), ('n', 2), ('n', 2), ('n', 2), ('n', 2), ('n', 2), ('n', 2), ('n', 2), ('n', 2), ('n', 2), ('n', 2), ('n', 2), ('n', 2), ('n', 2), ('n', 2), ('n', 2), ('n', 2), ('n', 2), ('n', 2), ('n', 2), ('n', 2), ('n', 2), ('n', 2), ('n', 2), ('n', 2), ('n', 2), ('n', 2), ('n', 2), ('n', 2), ('n', 2), ('n', 2), ('n', 2), ('n', 2), ('n', 2), ('n', 2), ('n', 2), ('n', 2), ('n', 2), ('n', 2), ('n', 2), ('n', 2), ('n', 2), ('n', 2), ('n', 2), ('n', 2), ('n', 2), ('n', 2), ('n', 2), ('n', 2), ('n', 2), ('n', 2), ('n', 2), ('n', 2), ('n', 2), ('n', 2), ('n', 2), ('n', 2), ('n', 2), ('n', 2), ('n', 2), ('n', 2), ('n', 2), ('n', 2), ('n', 2), ('n', 2), ('n', 2), ('n', 2), ('n', 2), ('n', 2), ('n', 2), ('n', 2), ('n', 2), ('n', 2), ('n', 2), ('n', 2), ('n', 2), ('y', 1), ('y', 1), ('y', 1), ('y', 1), ('y', 1), ('y', 1), ('y', 1), ('y', 1), ('y', 1), ('y', 1), ('y', 1), ('y', 1), ('y', 1), ('y', 1), ('y', 1), ('y', 1), ('y', 1), ('y', 1), ('y', 1), ('y', 1), ('y', 1), ('y', 1), ('y', 1), ('y', 1), ('y', 1), ('y', 1), ('y', 1), ('y', 1), ('y', 1), ('y', 1), ('y', 1), ('y', 1), ('y', 1), ('y', 1), ('y', 1), ('y', 1), ('y', 1), ('y', 1), ('y', 1), ('y', 1), ('y', 1), ('y', 1), ('y', 1), ('y', 1), ('y', 1), ('y', 1), ('y', 1), ('y', 1), ('y', 1), ('y', 1), ('y', 1), ('y', 1), ('y', 1), ('y', 1), ('y', 1), ('y', 1), ('y', 1), ('y', 1), ('y', 1), ('y', 1), ('y', 1), ('y', 1), ('y', 1), ('y', 1), ('y', 1), ('y', 1), ('y', 1), ('y', 1), ('y', 1), ('y', 1), ('y', 1), ('y', 1), ('y', 1), ('y', 1), ('y', 1), ('y', 1), ('y', 1), ('y', 1), ('y', 1), ('y', 1), ('y', 1), ('y', 1), ('y', 1), ('y', 1), ('y', 1), ('y', 1), ('y', 1), ('y', 1), ('y', 1), ('y', 1), ('y', 1), ('y', 1), ('y', 1), ('y', 1), ('y', 1), ('y', 1), ('y', 1), ('y', 1), ('y', 1), ('y', 1), ('y', 1), ('y', 1), ('y', 1), ('y', 1), ('y', 1), ('y', 1), ('y', 1), ('y', 1), ('y', 1), ('y', 1), ('y', 1), ('y', 1), ('y', 1), ('y', 1), ('y', 1), ('y', 1), ('y', 1), ('y', 1), ('y', 1), ('y', 1), ('y', 1), ('y', 1), ('y', 1), ('y', 1), ('y', 1), ('y', 1), ('y', 1), ('y', 1), ('y', 1), ('y', 1), ('y', 1), ('y', 1), ('y', 1), ('y', 1), ('y', 1), ('y', 1), ('y', 1), ('y', 1), ('y', 1), ('y', 1), ('y', 1), ('y', 1), ('y', 1), ('y', 1), ('y', 1), ('y', 1), ('y', 1), ('y', 1), ('y', 1), ('y', 1), ('y', 1), ('y', 1), ('y', 1), ('y', 1), ('y', 1), ('y', 1), ('y', 1), ('y', 1), ('y', 1), ('y', 1), ('y', 1), ('y', 1), ('y', 1), ('y', 1), ('y', 1), ('y', 1), ('y', 1), ('y', 1), ('y', 1), ('y', 1), ('y', 1), ('y', 1), ('y', 1), ('y', 1), ('y', 1), ('y', 1), ('y', 1), ('y', 1), ('y', 1), ('y', 1), ('y', 1), ('y', 1), ('y', 1), ('y', 1), ('y', 1), ('y', 1), ('y', 1), ('y', 1), ('y', 1), ('y', 1), ('y', 1), ('y', 1), ('y', 1), ('y', 1), ('y', 1), ('y', 1), ('y', 1), ('y', 1), ('y', 1), ('y', 1), ('y', 1), ('y', 1), ('y', 1), ('y', 1), ('y', 1), ('y', 1), ('y', 1), ('y', 1), ('y', 1), ('y', 1), ('y', 1), ('y', 1), ('y', 1), ('y', 1), ('y', 1), ('y', 1), ('y', 1), ('y', 1), ('y', 1), ('y', 1), ('y', 1), ('y', 1), ('y', 1), ('y', 1), ('y', 1), ('y', 1), ('y', 1), ('y', 1), ('y', 1), ('y', 1), ('y', 1), ('y', 1), ('y', 1), ('y', 1), ('y', 1), ('y', 1), ('y', 1), ('y', 1), ('y', 1), ('y', 1), ('y', 1), ('y', 1), ('y', 1), ('y', 1), ('y', 1), ('y', 1), ('y', 1), ('y', 1), ('y', 1), ('y', 1), ('y', 1), ('y', 1), ('y', 1), ('y', 1), ('y', 1), ('y', 1), ('y', 1), ('y', 1), ('y', 1), ('y', 1), ('y', 1), ('y', 1), ('y', 1), ('y', 1), ('y', 1), ('y', 1), ('y', 1), ('y', 1), ('y', 1), ('y', 1), ('y', 1), ('y', 1), ('y', 1), ('y', 1), ('y', 1), ('y', 1), ('y', 1), ('y', 1), ('y', 1), ('y', 1), ('y', 1), ('y', 1), ('y', 1), ('y', 1), ('y', 1), ('y', 1), ('y', 1), ('y', 1), ('y', 1), ('y', 1), ('y', 1), ('y', 1), ('y', 1), ('y', 1), ('y', 1), ('y', 1), ('y', 1), ('y', 1), ('y', 1), ('y', 1), ('y', 1), ('y', 1), ('y', 1), ('y', 1), ('y', 1), ('y', 1), ('y', 1), ('y', 1), ('y', 1), ('y', 1), ('y', 1), ('y', 1), ('y', 1), ('y', 1), ('y', 1), ('y', 1), ('y', 1), ('y', 1), ('y', 1), ('y', 1), ('y', 1), ('y', 1), ('y', 1), ('y', 1), ('y', 1), ('y', 1), ('y', 1), ('y', 1), ('y', 1), ('y', 1), ('y', 1), ('y', 1), ('y', 1), ('y', 1), ('y', 1), ('y', 1), ('y', 1), ('y', 1), ('y', 1), ('y', 1), ('y', 1), ('y', 1), ('y', 1), ('y', 1), ('y', 1), ('y', 1), ('y', 1), ('y', 1), ('y', 1), ('y', 1), ('y', 1), ('y', 1), ('y', 1), ('y', 1), ('y', 1), ('y', 1), ('y', 1), ('y', 1), ('y', 1), ('y', 1), ('y', 1), ('y', 1), ('y', 1), ('y', 1), ('y', 1), ('y', 1), ('y', 1), ('y', 1), ('y', 1), ('y', 1), ('y', 1), ('y', 1), ('y', 1), ('y', 1), ('y', 1), ('y', 1), ('y', 1), ('y', 1), ('y', 1), ('y', 1), ('y', 1), ('y', 1), ('y', 1), ('y', 1), ('y', 1), ('y', 1), ('y', 1), ('y', 1), ('y', 1), ('y', 1), ('y', 1), ('y', 1), ('y', 1), ('y', 1), ('y', 1), ('y', 1), ('y', 1), ('y', 1), ('y', 1), ('y', 1), ('y', 1), ('y', 1), ('y', 1), ('y', 1), ('y', 1), ('y', 1), ('y', 1), ('y', 1), ('y', 1), ('y', 1), ('y', 1), ('y', 1), ('y', 1), ('y', 1), ('y', 1), ('y', 1), ('y', 1), ('y', 1), ('y', 1), ('y', 1), ('y', 1), ('y', 1), ('y', 1), ('y', 1), ('y', 1), ('y', 1), ('y', 1), ('y', 1), ('y', 1), ('y', 1), ('y', 1), ('y', 1), ('y', 1), ('y', 1), ('y', 1), ('y', 1), ('y', 1), ('y', 1), ('y', 1), ('y', 1), ('y', 1), ('y', 1), ('y', 1), ('y', 1), ('y', 1), ('y', 1), ('y', 1), ('y', 1), ('y', 1), ('y', 1), ('y', 1), ('y', 1), ('y', 1), ('y', 1), ('y', 1), ('y', 1), ('y', 1), ('y', 1), ('y', 1), ('y', 1), ('y', 1), ('y', 1), ('y', 1), ('y', 1), ('y', 1), ('y', 1), ('y', 1), ('y', 1), ('y', 1), ('y', 1), ('y', 1), ('y', 1), ('y', 1), ('y', 1), ('y', 1), ('y', 1), ('y', 1), ('y', 1), ('y', 1), ('y', 1), ('y', 1), ('y', 1), ('y', 1), ('y', 1), ('y', 1), ('y', 1), ('y', 1), ('y', 1), ('y', 1), ('y', 1), ('y', 1), ('y', 1), ('y', 1), ('y', 1), ('y', 1), ('y', 1), ('y', 1), ('y', 1), ('y', 1), ('y', 1), ('y', 1), ('y', 1), ('y', 1), ('y', 1), ('y', 1), ('y', 1), ('y', 1), ('y', 1), ('y', 1), ('y', 1), ('y', 1), ('y', 1), ('y', 1), ('y', 1), ('y', 1), ('y', 1), ('y', 1), ('y', 1), ('y', 1), ('y', 1), ('y', 1), ('y', 1), ('y', 1), ('y', 1), ('y', 1), ('y', 1), ('y', 1), ('y', 1), ('y', 1), ('y', 1), ('y', 1), ('y', 1), ('y', 1), ('y', 1), ('y', 1), ('y', 1), ('y', 1), ('y', 1), ('y', 1), ('y', 1), ('y', 1), ('y', 1), ('y', 1), ('y', 1), ('y', 1), ('y', 1), ('y', 1), ('y', 1), ('y', 1), ('y', 1), ('y', 1), ('y', 1), ('y', 1), ('y', 1), ('y', 1), ('y', 1), ('y', 1), ('y', 1), ('y', 1), ('y', 1), ('y', 1), ('y', 1), ('y', 1), ('y', 1), ('y', 1), ('y', 1), ('y', 1), ('y', 1), ('y', 1), ('y', 1), ('y', 1), ('y', 1), ('y', 1), ('y', 1), ('y', 1), ('y', 1), ('y', 1), ('y', 1), ('y', 1), ('y', 1), ('y', 1), ('y', 1), ('y', 1), ('y', 1), ('y', 1), ('y', 1), ('y', 1), ('y', 1), ('y', 1), ('y', 1), ('y', 1), ('y', 1), ('y', 1), ('y', 1), ('y', 1), ('y', 1), ('y', 1), ('y', 1), ('y', 1), ('y', 1), ('y', 1), ('y', 1), ('y', 1), ('y', 1), ('y', 1), ('y', 1), ('y', 1), ('y', 1), ('y', 1), ('y', 1), ('y', 1), ('y', 1)]\n"
     ]
    }
   ],
   "source": [
    "#Excercise 4.1\n",
    "#code is still in progress\n",
    "\n",
    "import string\n",
    "def countLetters(word):\n",
    "    x = 0\n",
    "    y = list(string.ascii_lowercase)\n",
    "    for i in word:\n",
    "        for j in range(len(y)):\n",
    "            if i not in y[j]:\n",
    "                x = (i, word.count(i))\n",
    "                y.append(x)\n",
    "    return y\n",
    "\n",
    "print(countLetters(\"Johnny\")) \n",
    "\n",
    "\n"
   ]
  },
  {
   "cell_type": "code",
   "execution_count": null,
   "metadata": {
    "cell_id": "00016-c4d3501c-709e-4858-9c45-bc17e4ebf271",
    "deepnote_cell_type": "code",
    "tags": []
   },
   "outputs": [],
   "source": []
  }
 ],
 "metadata": {
  "deepnoteSessionId": "dea8a0f5-35e3-4468-94eb-804ff5fc7baa",
  "deepnote_execution_queue": [],
  "deepnote_notebook_id": "0f460af1-1872-4aa4-804e-36716dbf15fd",
  "kernelspec": {
   "display_name": "Python 3",
   "language": "python",
   "name": "python3"
  },
  "language_info": {
   "codemirror_mode": {
    "name": "ipython",
    "version": 3
   },
   "file_extension": ".py",
   "mimetype": "text/x-python",
   "name": "python",
   "nbconvert_exporter": "python",
   "pygments_lexer": "ipython3",
   "version": "3.8.3"
  }
 },
 "nbformat": 4,
 "nbformat_minor": 2
}

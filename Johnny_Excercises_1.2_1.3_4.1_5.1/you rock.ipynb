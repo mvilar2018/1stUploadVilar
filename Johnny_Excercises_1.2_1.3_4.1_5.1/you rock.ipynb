{
 "cells": [
  {
   "cell_type": "markdown",
   "metadata": {
    "cell_id": "bd409ae2-dbd5-4462-b1dd-da86166c57db",
    "tags": []
   },
   "source": [
    "# Great job so far!\n",
    "<video width='300px' autoplay loop playsinline=\"\" muted=\"\" preload=\"auto\">\n",
    "  <source type=\"video/mp4\" src=\"https://storage.googleapis.com/deepnote-landing/high-five.mp4\">\n",
    "</video>"
   ]
  },
  {
   "cell_type": "markdown",
   "metadata": {
    "cell_id": "5abfb71b-1665-4a12-95c6-6a64b9a6b80a",
    "tags": []
   },
   "source": [
    "> <img width='40px' src='https://deepnote.com/static/landing/logo.svg'>\n",
    "\n",
    "> ## Our Mission 🚀\n",
    "\n",
    "> At Deepnote, we are building a new kind of data science notebook that makes data science teams radically more productive.\n",
    "\n",
    "> In order to solve the hardest problems in data science and machine learning, we don't need just bigger datasets and more computing power.\n",
    "We need powerful user interfaces that help us reason, think, experiment and collaborate.\n",
    "\n",
    "> These interfaces do not exist yet. We need to invent them first. Join us!"
   ]
  },
  {
   "cell_type": "markdown",
   "metadata": {
    "cell_id": "f1a42fda-7c7f-44f5-9ae0-3146b2b3b60e",
    "tags": []
   },
   "source": [
    "## 6. Publish your notebook\n",
    "\n",
    "Published notebooks have a cleaner layout intended for reading or presenting the notebook outputs. Click on the dropdown menu in the topbar to publish your notebook."
   ]
  },
  {
   "cell_type": "markdown",
   "metadata": {
    "cell_id": "16f7567a-c08e-40df-8c25-9b84f78ac743",
    "tags": []
   },
   "source": [
    "## 7. Next steps 🎉\n",
    "\n",
    "You have some work that's waiting for you, don't you? \n",
    "Do you want to try doing it in Deepnote? Simply [create a new project](https://deepnote.com/launch) and upload your notebook. The setup is easy, we promise.\n"
   ]
  }
 ],
 "metadata": {
  "deepnote_execution_queue": [],
  "deepnote_notebook_id": "39cdbb3a-0d75-4edb-a6c7-80d8a7195671",
  "deepnote_published_id": "dd086f74-e883-4d02-ad6d-5bad3a7a728b",
  "kernelspec": {
   "display_name": "Python 3",
   "language": "python",
   "name": "python3"
  },
  "language_info": {
   "codemirror_mode": {
    "name": "ipython",
    "version": 3
   },
   "file_extension": ".py",
   "mimetype": "text/x-python",
   "name": "python",
   "nbconvert_exporter": "python",
   "pygments_lexer": "ipython3",
   "version": "3.8.3"
  }
 },
 "nbformat": 4,
 "nbformat_minor": 2
}

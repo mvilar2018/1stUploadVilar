{
 "cells": [
  {
   "cell_type": "code",
   "execution_count": 4,
   "metadata": {},
   "outputs": [
    {
     "name": "stdout",
     "output_type": "stream",
     "text": [
      "3.7416573867739413\n"
     ]
    }
   ],
   "source": [
    "import numpy as np\n",
    "import math\n",
    "\n",
    "arr =[1,2,3]\n",
    "a = arr[0]\n",
    "b = arr[1]\n",
    "c = arr[2]\n",
    "\n",
    "def magnitude(a,b,c):\n",
    "    \n",
    "    result = math.sqrt(a**2+b**2+c**2)\n",
    "    print(result)\n",
    "\n",
    "magnitude(a,b,c)"
   ]
  },
  {
   "cell_type": "code",
   "execution_count": 18,
   "metadata": {},
   "outputs": [
    {
     "name": "stdout",
     "output_type": "stream",
     "text": [
      "5.0\n"
     ]
    }
   ],
   "source": [
    "import numpy as np\n",
    "import math\n",
    "\n",
    "a =[5,1]\n",
    "b=[-1,-4]\n",
    "\n",
    "\n",
    "#a= arr[0]\n",
    "#b = arr[1]\n",
    "#c= arr2[0]\n",
    "#d=arr2[1]\n",
    "\n",
    "def magnitude_vectors(a, b):\n",
    "    if len(arr) == len(arr2):\n",
    "        result = np.add(arr,arr2)\n",
    "        r2= math.sqrt(result[0]**2+result[1]**2)\n",
    "        print(r2)\n",
    "    else:\n",
    "        print(\"vector size is not equal\")\n",
    "        \n",
    "        \n",
    "\n",
    "magnitude_vectors(a, b)"
   ]
  },
  {
   "cell_type": "code",
   "execution_count": null,
   "metadata": {},
   "outputs": [],
   "source": [
    "a =[5,1]\n",
    "\n",
    "alpha=a[0]\n",
    "b=a[1]\n",
    "\n",
    "def alpha_magnitude(alpha, b):\n",
    "    result = math.sqrt(alpha**2+b**2)\n",
    "    print(result)\n",
    "    if alpha>0 and result>0:\n",
    "        print(\"alpha changed the vector to positive direction\")\n",
    "    elif alpha<0 and result<0 :\n",
    "        print(\"alpha changed the vector to negative direction\")\n",
    "    elif 0<alpha<1\n",
    "    "
   ]
  }
 ],
 "metadata": {
  "kernelspec": {
   "display_name": "Python 3",
   "language": "python",
   "name": "python3"
  },
  "language_info": {
   "codemirror_mode": {
    "name": "ipython",
    "version": 3
   },
   "file_extension": ".py",
   "mimetype": "text/x-python",
   "name": "python",
   "nbconvert_exporter": "python",
   "pygments_lexer": "ipython3",
   "version": "3.8.5"
  }
 },
 "nbformat": 4,
 "nbformat_minor": 4
}

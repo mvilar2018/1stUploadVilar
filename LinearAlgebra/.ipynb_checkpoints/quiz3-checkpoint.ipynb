{
 "cells": [
  {
   "cell_type": "code",
   "execution_count": 8,
   "metadata": {},
   "outputs": [
    {
     "name": "stdout",
     "output_type": "stream",
     "text": [
      "[[-11.   3.  15.]\n",
      " [ -6.  -2. -22.]\n",
      " [ 16. -80. -30.]]\n",
      "-22.0\n"
     ]
    }
   ],
   "source": [
    "import numpy as np\n",
    "import math\n",
    "\n",
    "a = np.array([3,1,2])\n",
    "b = np.array([-5,4,1])\n",
    "c= np.array([0,3,-8])\n",
    "\n",
    "A = np.stack([a,b,c])\n",
    "\n",
    "\n",
    "\n",
    "d = np.array([0,5,-1])\n",
    "e = np.array([3,2,-1])\n",
    "f = np.array([10,0.5,4])\n",
    "\n",
    "B = np.stack([d,e,f])\n",
    "\n",
    "\n",
    "C = np.cross(A,B)\n",
    "\n",
    "print(C)\n",
    "print(C[1,2])"
   ]
  },
  {
   "cell_type": "code",
   "execution_count": 9,
   "metadata": {},
   "outputs": [
    {
     "data": {
      "text/plain": [
       "array([[-2. ,  1. ],\n",
       "       [ 1.5, -0.5]])"
      ]
     },
     "execution_count": 9,
     "metadata": {},
     "output_type": "execute_result"
    }
   ],
   "source": [
    "def inverse_matrix(A):\n",
    "    mat_inv = np.linalg.inv(A)\n",
    "    return mat_inv\n",
    "\n",
    "b = np.array([[1., 2.], [3., 4.]])\n",
    "\n",
    "\n",
    "inverse_matrix(b)"
   ]
  },
  {
   "cell_type": "code",
   "execution_count": 10,
   "metadata": {},
   "outputs": [
    {
     "data": {
      "text/plain": [
       "-2.7"
      ]
     },
     "execution_count": 10,
     "metadata": {},
     "output_type": "execute_result"
    }
   ],
   "source": [
    "A = np.array([[3, 0.6, 4, -3],[-1.3,4,0,8.6],[7,0,-8,0.006]])\n",
    "B = np.array([[3, -5.76, 45, 0],[2, -2, 1.3 , 9],[-9, 0,0,0]])\n",
    "C = np.array([[0,1009, -66.7849, 90],[0,5,4,-0.07],[-7.7,0,0,0]])\n",
    "\n",
    "D = A + B - C\n",
    "\n",
    "D[1][2]"
   ]
  },
  {
   "cell_type": "code",
   "execution_count": 11,
   "metadata": {},
   "outputs": [
    {
     "data": {
      "text/plain": [
       "5.7"
      ]
     },
     "execution_count": 11,
     "metadata": {},
     "output_type": "execute_result"
    }
   ],
   "source": [
    "D[2][0]\n"
   ]
  },
  {
   "cell_type": "code",
   "execution_count": 12,
   "metadata": {},
   "outputs": [
    {
     "data": {
      "text/plain": [
       "array([-102.8,  255.2,  595.6])"
      ]
     },
     "execution_count": 12,
     "metadata": {},
     "output_type": "execute_result"
    }
   ],
   "source": [
    "AA = np.array([0.6,-15,2,5,98])\n",
    "BB = np.array([[2,2,-4],[9,-14,0],[13,-0.5,44],[1,9,4],[0,0,5]])\n",
    "\n",
    "CC = np.dot(AA.T, BB)\n",
    "CC"
   ]
  },
  {
   "cell_type": "code",
   "execution_count": 13,
   "metadata": {},
   "outputs": [
    {
     "data": {
      "text/plain": [
       "595.6"
      ]
     },
     "execution_count": 13,
     "metadata": {},
     "output_type": "execute_result"
    }
   ],
   "source": [
    "CC[2]"
   ]
  },
  {
   "cell_type": "code",
   "execution_count": null,
   "metadata": {},
   "outputs": [],
   "source": []
  }
 ],
 "metadata": {
  "kernelspec": {
   "display_name": "Python 3",
   "language": "python",
   "name": "python3"
  },
  "language_info": {
   "codemirror_mode": {
    "name": "ipython",
    "version": 3
   },
   "file_extension": ".py",
   "mimetype": "text/x-python",
   "name": "python",
   "nbconvert_exporter": "python",
   "pygments_lexer": "ipython3",
   "version": "3.8.5"
  }
 },
 "nbformat": 4,
 "nbformat_minor": 4
}

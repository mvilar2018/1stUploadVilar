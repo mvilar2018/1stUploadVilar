{
 "cells": [
  {
   "cell_type": "code",
   "execution_count": 21,
   "metadata": {},
   "outputs": [
    {
     "name": "stdout",
     "output_type": "stream",
     "text": [
      "[0 0 0]\n",
      "[0 0 0]\n",
      "vectors are in the same plane\n"
     ]
    }
   ],
   "source": [
    "import numpy as np\n",
    "import math\n",
    "\n",
    "a = [1,2,3]\n",
    "b=[2,2,2]\n",
    "c=[8,8,8]\n",
    "\n",
    "def plane(a,b,c):\n",
    "    bc =np.cross(b,c)\n",
    "    print(bc)\n",
    "    r2=np.cross(a,bc)\n",
    "    print(r2)\n",
    "    if np.all(r2 == 0):\n",
    "        print(\"vectors are in the same plane\")\n",
    "    else:\n",
    "        print(\"vectors aren't coplanar\")\n",
    "\n",
    "plane(a,b,c)"
   ]
  },
  {
   "cell_type": "code",
   "execution_count": 8,
   "metadata": {},
   "outputs": [
    {
     "name": "stdout",
     "output_type": "stream",
     "text": [
      "[ 12  76 -61]\n"
     ]
    }
   ],
   "source": [
    "import numpy as np \n",
    "import math \n",
    "  \n",
    "v = np.array([4, 9, 12]) \n",
    "s = np.array([21, 32, 44]) \n",
    "r = np.cross(v, s) \n",
    "print(r) "
   ]
  },
  {
   "cell_type": "code",
   "execution_count": null,
   "metadata": {},
   "outputs": [],
   "source": []
  }
 ],
 "metadata": {
  "kernelspec": {
   "display_name": "Python 3",
   "language": "python",
   "name": "python3"
  },
  "language_info": {
   "codemirror_mode": {
    "name": "ipython",
    "version": 3
   },
   "file_extension": ".py",
   "mimetype": "text/x-python",
   "name": "python",
   "nbconvert_exporter": "python",
   "pygments_lexer": "ipython3",
   "version": "3.8.5"
  }
 },
 "nbformat": 4,
 "nbformat_minor": 4
}

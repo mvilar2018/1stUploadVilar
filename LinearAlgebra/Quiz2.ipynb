{
 "cells": [
  {
   "cell_type": "code",
   "execution_count": 21,
   "metadata": {},
   "outputs": [
    {
     "name": "stdout",
     "output_type": "stream",
     "text": [
      "[0 0 0]\n",
      "[0 0 0]\n",
      "vectors are in the same plane\n"
     ]
    }
   ],
   "source": [
    "import numpy as np\n",
    "import math\n",
    "\n",
    "a = [1,2,3]\n",
    "b=[2,2,2]\n",
    "c=[8,8,8]\n",
    "\n",
    "def plane(a,b,c):\n",
    "    bc =np.cross(b,c)\n",
    "    print(bc)\n",
    "    r2=np.cross(a,bc)\n",
    "    print(r2)\n",
    "    if np.all(r2 == 0):\n",
    "        print(\"vectors are in the same plane\")\n",
    "    else:\n",
    "        print(\"vectors aren't coplanar\")\n",
    "\n",
    "plane(a,b,c)"
   ]
  },
  {
   "cell_type": "code",
   "execution_count": null,
   "metadata": {},
   "outputs": [],
   "source": [
    "# 2a + 3*b = -1\n",
    "10+ 15*b = -5\n",
    "\n",
    "2a + 3b +1= 10a+15b+5\n",
    "\n",
    "-4 = 8a +12b\n",
    "/-4\n",
    "\n",
    "1 = -2 a -3b\n",
    "1+2a =-3b\n",
    "\n",
    "(1+2a)/-3 =b\n",
    "\n"
   ]
  },
  {
   "cell_type": "code",
   "execution_count": 23,
   "metadata": {},
   "outputs": [
    {
     "ename": "SyntaxError",
     "evalue": "invalid syntax (<ipython-input-23-edcbc3756a6a>, line 1)",
     "output_type": "error",
     "traceback": [
      "\u001b[1;36m  File \u001b[1;32m\"<ipython-input-23-edcbc3756a6a>\"\u001b[1;36m, line \u001b[1;32m1\u001b[0m\n\u001b[1;33m    -a + 3b =1\u001b[0m\n\u001b[1;37m          ^\u001b[0m\n\u001b[1;31mSyntaxError\u001b[0m\u001b[1;31m:\u001b[0m invalid syntax\n"
     ]
    }
   ],
   "source": [
    "-a + 3b =1 \n",
    "-a +3b = 5\n",
    "\n",
    "-a + 3b -1 = -a+3b -5\n",
    "0 = -4\n",
    "\n",
    "Absurd\n"
   ]
  },
  {
   "cell_type": "code",
   "execution_count": null,
   "metadata": {},
   "outputs": [],
   "source": []
  },
  {
   "cell_type": "code",
   "execution_count": null,
   "metadata": {},
   "outputs": [],
   "source": []
  }
 ],
 "metadata": {
  "kernelspec": {
   "display_name": "Python 3",
   "language": "python",
   "name": "python3"
  },
  "language_info": {
   "codemirror_mode": {
    "name": "ipython",
    "version": 3
   },
   "file_extension": ".py",
   "mimetype": "text/x-python",
   "name": "python",
   "nbconvert_exporter": "python",
   "pygments_lexer": "ipython3",
   "version": "3.8.5"
  }
 },
 "nbformat": 4,
 "nbformat_minor": 4
}

{
 "cells": [
  {
   "cell_type": "code",
   "execution_count": null,
   "metadata": {},
   "outputs": [],
   "source": [
    "\n",
    "import numpy as np\n",
    "\n",
    "def add_vectors():\n",
    "    arr1 = np.array([])\n",
    "    arr2 = np.array([])\n",
    "    n = int(input(\"Enter the number of values you want in 1st:  \"))\n",
    "    n2 = int(input(\"Enter the number of values you want in 2nd array:  \"))\n",
    "\n",
    "    for i in range(n):\n",
    "        v = int(input(\"Elements for first vector:  \"))\n",
    "        arr1 = append(arr1, v)\n",
    "        print(arr1)\n",
    "        \n",
    "    for i in range(n2):\n",
    "        u = int(input(\"Elements for second vector:  \"))\n",
    "        arr2 = append(arr2, u)\n",
    "        print(arr2)\n",
    "        \n",
    "    result = np.add(arr1,arr2)  \n",
    "    print(\"the sum of the given vectors is: \",result)\n",
    "\n",
    "add_vectors()"
   ]
  },
  {
   "cell_type": "code",
   "execution_count": null,
   "metadata": {},
   "outputs": [],
   "source": [
    "def scalar_mult():\n",
    "    \n",
    "    arr1 = np.array([])\n",
    "    arr2 = np.array([])\n",
    "    n = int(input(\"Enter the number of values you want in 1st:  \"))\n",
    "    n2 = int(input(\"Enter the multiplier:  \"))\n",
    "\n",
    "    for i in range(n):\n",
    "        v = int(input(\"Elements for first vector:  \"))\n",
    "        arr1 = append(arr1, v)\n",
    "        print(arr1)\n",
    "        \n",
    "    result = arr1 * n2\n",
    "    print(\"the result is: \",result)\n",
    "    \n",
    "scalar_mult()"
   ]
  },
  {
   "cell_type": "code",
   "execution_count": null,
   "metadata": {
    "scrolled": true
   },
   "outputs": [],
   "source": [
    "\n",
    "def dot_product():\n",
    "    arr1 = np.array([])\n",
    "    arr2 = np.array([])\n",
    "    n = int(input(\"Enter the number of values you want in 1st:  \"))\n",
    "    n2 = int(input(\"Enter the number of values you want in 2nd array:  \"))\n",
    "\n",
    "    for i in range(n):\n",
    "        v = int(input(\"Elements for first vector:  \"))\n",
    "        arr1 = append(arr1, v)\n",
    "        print(arr1)\n",
    "        \n",
    "    for i in range(n2):\n",
    "        u = int(input(\"Elements for second vector:  \"))\n",
    "        arr2 = append(arr2, u)\n",
    "        print(arr2)\n",
    "        \n",
    "    result = (arr1*arr2)  \n",
    "    print(\"the sum of the given vectors is: \",result)\n",
    "\n",
    "dot_product()"
   ]
  },
  {
   "cell_type": "code",
   "execution_count": null,
   "metadata": {
    "scrolled": false
   },
   "outputs": [],
   "source": [
    "import numpy as np\n",
    "\n",
    "\n",
    "def add_matrices():\n",
    "    arr1 = np.array([])\n",
    "    arr2 = np.array([])\n",
    "    arr3 = np.array([])\n",
    "    arr4 = np.array([])\n",
    "    n = int(input(\"Enter the dimensions of the 1st vector:  \"))\n",
    "    n2 = int(input(\"Enter the dimensions of the 2nd vector:  \"))\n",
    "\n",
    "    for i in range(n):\n",
    "        v = int(input(\"Elements for first vector:  \"))\n",
    "        arr1 = np.append(arr1, v)\n",
    "        print(arr1)\n",
    "        \n",
    "    for i in range(n2):\n",
    "        u = int(input(\"Elements for second vector:  \"))\n",
    "        arr2 = np.append(arr2, u)\n",
    "        print(arr2)\n",
    "        \n",
    "    m1 = (np.array([arr1, arr2]))\n",
    "    print(\"matrix 1 is :\", m1)\n",
    "    \n",
    "    \n",
    "    n3 = int(input(\"Enter the dimensions of the 3rd vector:  \"))\n",
    "    n4 = int(input(\"Enter the dimensions of the 4rd vector:  \"))\n",
    "    \n",
    "    \n",
    "    for i in range(n3):\n",
    "        v = int(input(\"Elements for 3rd vector:  \"))\n",
    "        arr3 = np.append(arr3, v)\n",
    "        print(arr3)\n",
    "        \n",
    "    for i in range(n4):\n",
    "        u = int(input(\"Elements for 4th vector:  \"))\n",
    "        arr4 = np.append(arr4, u)\n",
    "        print(arr4)\n",
    "    m2 = np.array([arr3, arr4]) \n",
    "    print(\"matrix 2 is :\", m2)\n",
    "    \n",
    "    result = np.add(m1,m2)\n",
    "    print(\"the sum of the two matrices is :\", result)\n",
    "    \n",
    "add_matrices\n",
    "result_previous = add_matrices()\n",
    "\n",
    "result_previous = a_2d.T \n",
    "print(a_2d_T)"
   ]
  },
  {
   "cell_type": "markdown",
   "metadata": {},
   "source": [
    "\n",
    "\n",
    "result_previous = a_2d.T\n",
    "print(a_2d_T)"
   ]
  },
  {
   "cell_type": "code",
   "execution_count": 3,
   "metadata": {},
   "outputs": [
    {
     "name": "stdout",
     "output_type": "stream",
     "text": [
      "Enter the dimensions of the 1st vector:  3\n",
      "Enter the dimensions of the 2nd vector:  3\n",
      "Elements for first vector:  1\n",
      "[1.]\n",
      "Elements for first vector:  2\n",
      "[1. 2.]\n",
      "Elements for first vector:  3\n",
      "[1. 2. 3.]\n"
     ]
    },
    {
     "ename": "NameError",
     "evalue": "name 'transpose' is not defined",
     "output_type": "error",
     "traceback": [
      "\u001b[1;31m---------------------------------------------------------------------------\u001b[0m",
      "\u001b[1;31mNameError\u001b[0m                                 Traceback (most recent call last)",
      "\u001b[1;32m<ipython-input-3-7d70ece0814a>\u001b[0m in \u001b[0;36m<module>\u001b[1;34m\u001b[0m\n\u001b[0;32m     27\u001b[0m \u001b[1;33m\u001b[0m\u001b[0m\n\u001b[0;32m     28\u001b[0m \u001b[1;33m\u001b[0m\u001b[0m\n\u001b[1;32m---> 29\u001b[1;33m \u001b[0mtrans_mat\u001b[0m\u001b[1;33m(\u001b[0m\u001b[1;33m)\u001b[0m\u001b[1;33m\u001b[0m\u001b[1;33m\u001b[0m\u001b[0m\n\u001b[0m",
      "\u001b[1;32m<ipython-input-3-7d70ece0814a>\u001b[0m in \u001b[0;36mtrans_mat\u001b[1;34m()\u001b[0m\n\u001b[0;32m     13\u001b[0m         \u001b[0mprint\u001b[0m\u001b[1;33m(\u001b[0m\u001b[0marr1\u001b[0m\u001b[1;33m)\u001b[0m\u001b[1;33m\u001b[0m\u001b[1;33m\u001b[0m\u001b[0m\n\u001b[0;32m     14\u001b[0m \u001b[1;33m\u001b[0m\u001b[0m\n\u001b[1;32m---> 15\u001b[1;33m     \u001b[0mprint\u001b[0m\u001b[1;33m(\u001b[0m\u001b[0mtranspose\u001b[0m\u001b[1;33m(\u001b[0m\u001b[0marr1\u001b[0m\u001b[1;33m)\u001b[0m\u001b[1;33m)\u001b[0m\u001b[1;33m\u001b[0m\u001b[1;33m\u001b[0m\u001b[0m\n\u001b[0m\u001b[0;32m     16\u001b[0m \u001b[1;33m\u001b[0m\u001b[0m\n\u001b[0;32m     17\u001b[0m     \u001b[1;32mfor\u001b[0m \u001b[0mi\u001b[0m \u001b[1;32min\u001b[0m \u001b[0mrange\u001b[0m\u001b[1;33m(\u001b[0m\u001b[0mn2\u001b[0m\u001b[1;33m)\u001b[0m\u001b[1;33m:\u001b[0m\u001b[1;33m\u001b[0m\u001b[1;33m\u001b[0m\u001b[0m\n",
      "\u001b[1;31mNameError\u001b[0m: name 'transpose' is not defined"
     ]
    }
   ],
   "source": [
    "import numpy as np\n",
    "def trans_mat():\n",
    "    \n",
    "    arr1 = np.array([])\n",
    "    arr2 = np.array([])\n",
    "    \n",
    "    n = int(input(\"Enter the dimensions of the 1st vector:  \"))\n",
    "    n2 = int(input(\"Enter the dimensions of the 2nd vector:  \"))\n",
    "\n",
    "    for i in range(n):\n",
    "        v = int(input(\"Elements for first vector:  \"))\n",
    "        arr1 = np.append(arr1, v)\n",
    "        print(arr1)\n",
    "        \n",
    "    print(transpose(arr1))   \n",
    "    \n",
    "    for i in range(n2):\n",
    "        u = int(input(\"Elements for second vector:  \"))\n",
    "        arr2 = np.append(arr2, u)\n",
    "        print(arr2)\n",
    "        \n",
    "    m1 = (np.array([arr1, arr2]))\n",
    "    print(\"matrix 1 is :\", m1)\n",
    "    \n",
    "    \n",
    "    print(m1.transpose)\n",
    "   \n",
    "    \n",
    "trans_mat()\n",
    "\n",
    "#No esta tomando el formato que le di como matriz"
   ]
  },
  {
   "cell_type": "code",
   "execution_count": 7,
   "metadata": {},
   "outputs": [
    {
     "data": {
      "text/plain": [
       "array([[1, 3],\n",
       "       [2, 4]])"
      ]
     },
     "execution_count": 7,
     "metadata": {},
     "output_type": "execute_result"
    }
   ],
   "source": [
    "import numpy as np\n",
    "a = np.array([[1, 2], [3, 4]])\n",
    "\n",
    "\n",
    "a.transpose()"
   ]
  },
  {
   "cell_type": "code",
   "execution_count": null,
   "metadata": {},
   "outputs": [],
   "source": []
  }
 ],
 "metadata": {
  "kernelspec": {
   "display_name": "Python 3",
   "language": "python",
   "name": "python3"
  },
  "language_info": {
   "codemirror_mode": {
    "name": "ipython",
    "version": 3
   },
   "file_extension": ".py",
   "mimetype": "text/x-python",
   "name": "python",
   "nbconvert_exporter": "python",
   "pygments_lexer": "ipython3",
   "version": "3.8.5"
  }
 },
 "nbformat": 4,
 "nbformat_minor": 4
}

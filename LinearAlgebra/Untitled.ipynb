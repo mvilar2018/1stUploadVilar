{
 "cells": [
  {
   "cell_type": "code",
   "execution_count": null,
   "metadata": {},
   "outputs": [],
   "source": [
    "import numpy as np\n",
    "\n",
    "\n",
    "def add_matrices():\n",
    "    arr1 = np.array([])\n",
    "    arr2 = np.array([])\n",
    "    arr3 = np.array([])\n",
    "    arr4 = np.array([])\n",
    "    n = int(input(\"Enter the dimensions of the 1st vector:  \"))\n",
    "    n2 = int(input(\"Enter the dimensions of the 2nd vector:  \"))\n",
    "\n",
    "    for i in range(n):\n",
    "        v = int(input(\"Elements for first vector:  \"))\n",
    "        arr1 = append(arr1, v)\n",
    "        print(arr1)\n",
    "        \n",
    "    for i in range(n2):\n",
    "        u = int(input(\"Elements for second vector:  \"))\n",
    "        arr2 = append(arr2, u)\n",
    "        print(arr2)\n",
    "        \n",
    "    m1 = (np.array([arr1, arr2]))\n",
    "    print(\"matrix 1 is :\", m1)\n",
    "    \n",
    "    \n",
    "    n3 = int(input(\"Enter the dimensions of the 3rd vector:  \"))\n",
    "    n4 = int(input(\"Enter the dimensions of the 4rd vector:  \"))\n",
    "    \n",
    "    \n",
    "    for i in range(n3):\n",
    "        v = int(input(\"Elements for first vector:  \"))\n",
    "        arr3 = append(arr3, v)\n",
    "        print(arr3)\n",
    "        \n",
    "    for i in range(n4):\n",
    "        u = int(input(\"Elements for second vector:  \"))\n",
    "        arr2 = append(arr4, u)\n",
    "        print(arr4)\n",
    "    m2 = np.array([arr3, arr4]) \n",
    "    print(\"matrix 2 is :\", m2)\n",
    "    \n",
    "    result = np.add(m1,m2)\n",
    "    print(\"the sum of the two matrices is :\", result)\n",
    "    \n",
    "    \n",
    "add_matrices()"
   ]
  },
  {
   "cell_type": "code",
   "execution_count": null,
   "metadata": {},
   "outputs": [],
   "source": []
  }
 ],
 "metadata": {
  "kernelspec": {
   "display_name": "Python 3",
   "language": "python",
   "name": "python3"
  },
  "language_info": {
   "codemirror_mode": {
    "name": "ipython",
    "version": 3
   },
   "file_extension": ".py",
   "mimetype": "text/x-python",
   "name": "python",
   "nbconvert_exporter": "python",
   "pygments_lexer": "ipython3",
   "version": "3.8.5"
  }
 },
 "nbformat": 4,
 "nbformat_minor": 4
}

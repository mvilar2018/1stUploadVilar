{
 "cells": [
  {
   "cell_type": "code",
   "execution_count": 3,
   "metadata": {},
   "outputs": [
    {
     "name": "stdout",
     "output_type": "stream",
     "text": [
      "NOPQRSTUVWXYZABCDEFGHIJKLM\n"
     ]
    }
   ],
   "source": [
    "text = \"ABCDEFGHIJKLMNOPQRSTUVWXYZ\"\n",
    "\n",
    "list = []\n",
    "\n",
    "def code_sth():\n",
    "    for char in text:\n",
    "        if char.isalpha():\n",
    "            new_char = text[(int(text.index(char.upper())) + 13) % int(len(text))]\n",
    "            list.append(new_char)\n",
    "        else:\n",
    "            list.append(char)\n",
    "\n",
    "    print(''.join(list))\n",
    "code_sth()"
   ]
  },
  {
   "cell_type": "code",
   "execution_count": null,
   "metadata": {},
   "outputs": [],
   "source": []
  },
  {
   "cell_type": "code",
   "execution_count": null,
   "metadata": {},
   "outputs": [],
   "source": []
  }
 ],
 "metadata": {
  "kernelspec": {
   "display_name": "Python 3",
   "language": "python",
   "name": "python3"
  },
  "language_info": {
   "codemirror_mode": {
    "name": "ipython",
    "version": 3
   },
   "file_extension": ".py",
   "mimetype": "text/x-python",
   "name": "python",
   "nbconvert_exporter": "python",
   "pygments_lexer": "ipython3",
   "version": "3.8.5"
  }
 },
 "nbformat": 4,
 "nbformat_minor": 4
}

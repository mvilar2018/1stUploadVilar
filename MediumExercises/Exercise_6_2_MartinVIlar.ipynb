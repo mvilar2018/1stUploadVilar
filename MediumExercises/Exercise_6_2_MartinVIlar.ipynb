{
 "cells": [
  {
   "cell_type": "code",
   "execution_count": 12,
   "metadata": {},
   "outputs": [
    {
     "ename": "SyntaxError",
     "evalue": "invalid syntax (<ipython-input-12-45ee6e666b15>, line 5)",
     "output_type": "error",
     "traceback": [
      "\u001b[1;36m  File \u001b[1;32m\"<ipython-input-12-45ee6e666b15>\"\u001b[1;36m, line \u001b[1;32m5\u001b[0m\n\u001b[1;33m    print(text.find(*))\u001b[0m\n\u001b[1;37m                     ^\u001b[0m\n\u001b[1;31mSyntaxError\u001b[0m\u001b[1;31m:\u001b[0m invalid syntax\n"
     ]
    }
   ],
   "source": [
    "text = \"ABCDEFGHIJKLMNOPQRSTUVWXYZ\"\n",
    "\n",
    "def indices(text):\n",
    "    for letter in text:\n",
    "        print(text.find(*))\n",
    "    \n",
    "\n",
    "indices(text)\n",
    "#ABCDEFGHIJKLMNOPQRSTUVWXYZ\n",
    "#NOPQRSTUVWXYZABCDEFGHIJKLM"
   ]
  },
  {
   "cell_type": "code",
   "execution_count": null,
   "metadata": {},
   "outputs": [],
   "source": [
    "for char in word.upper():\n",
    "           \n",
    "            new_pos = pos +key\n",
    "            if new_pos >= len(alpha):\n",
    "                print(new_pos)\n",
    "                new_pos = new_pos % (len(alpha))\n",
    "                print(new_pos)\n",
    "            new_msg.append(alpha[new_pos]) \n",
    "        else:\n",
    "            new_msg.append(char)\n",
    "\n",
    "    print(new_msg)\n",
    "    return \"\".join(new_msg)"
   ]
  }
 ],
 "metadata": {
  "kernelspec": {
   "display_name": "Python 3",
   "language": "python",
   "name": "python3"
  },
  "language_info": {
   "codemirror_mode": {
    "name": "ipython",
    "version": 3
   },
   "file_extension": ".py",
   "mimetype": "text/x-python",
   "name": "python",
   "nbconvert_exporter": "python",
   "pygments_lexer": "ipython3",
   "version": "3.8.3"
  }
 },
 "nbformat": 4,
 "nbformat_minor": 4
}

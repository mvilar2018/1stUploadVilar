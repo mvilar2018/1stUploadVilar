{
 "cells": [
  {
   "cell_type": "code",
   "execution_count": 17,
   "metadata": {},
   "outputs": [
    {
     "name": "stdout",
     "output_type": "stream",
     "text": [
      "['Never gonna ', 'Never ', 'gonna let ', 'Never ', 'gonna ', 'run around ', 'and desert you']\n"
     ]
    }
   ],
   "source": [
    "text = \"\"\"The quick, brown fox jumps over a lazy dog. DJs flock by when MTV ax quiz prog. \n",
    "Junk MTV quiz graced by fox whelps. [Never gonna ] Bawds jog, flick quartz, vex nymphs. \n",
    "[give you up\\n] Waltz, bad nymph, for quick jigs vex! Fox nymphs grab quick-jived waltz. \n",
    "Brick quiz whangs jumpy veldt fox. [Never ] Bright vixens jump; [gonna let ] dozy fowl \n",
    "quack. Quick wafting zephyrs vex bold Jim. Quick zephyrs blow, vexing daft Jim. Charged \n",
    "[you down\\n] fop blew my junk TV quiz. How quickly daft jumping zebras vex. Two driven \n",
    "jocks help fax my big quiz. Quick, Baz, get my woven flax jodhpurs! \"Now fax quiz Jack!\" \n",
    "my brave ghost pled. [Never ] Five quacking zephyrs jolt my wax bed. [gonna ] Flummoxed \n",
    "by job, kvetching W. zaps Iraq. Cozy sphinx waves quart jug of bad milk. [run around ] \n",
    "A very bad quack might jinx zippy fowls. Few quips galvanized the mock jury box. Quick \n",
    "brown dogs jump over the lazy fox. The jay, pig, fox, zebra, and my wolves quack! \n",
    "[and desert you] Blowzy red vixens fight for a quick jump. Joaquin Phoenix was gazed \n",
    "by MTV for luck. A wizard’s job is to vex chumps quickly in fog. Watch \"Jeopardy!\", \n",
    "Alex Trebek's fun TV quiz game.\"\"\"\n",
    "\n",
    "import re\n",
    "res = re.findall((r'\\[(.*?)\\]'), text)\n",
    "\n",
    "print(str(res))"
   ]
  },
  {
   "cell_type": "code",
   "execution_count": null,
   "metadata": {},
   "outputs": [],
   "source": [
    "\\[(.*?)\\]"
   ]
  }
 ],
 "metadata": {
  "kernelspec": {
   "display_name": "Python 3",
   "language": "python",
   "name": "python3"
  },
  "language_info": {
   "codemirror_mode": {
    "name": "ipython",
    "version": 3
   },
   "file_extension": ".py",
   "mimetype": "text/x-python",
   "name": "python",
   "nbconvert_exporter": "python",
   "pygments_lexer": "ipython3",
   "version": "3.8.3"
  }
 },
 "nbformat": 4,
 "nbformat_minor": 4
}
